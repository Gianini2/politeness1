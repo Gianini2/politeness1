{
 "cells": [
  {
   "cell_type": "code",
   "execution_count": null,
   "metadata": {},
   "outputs": [
    {
     "name": "stdout",
     "output_type": "stream",
     "text": [
      "Collecting tensorflowNote: you may need to restart the kernel to use updated packages.\n",
      "\n",
      "  Using cached tensorflow-2.18.0-cp311-cp311-win_amd64.whl.metadata (3.3 kB)\n",
      "Collecting tensorflow-intel==2.18.0 (from tensorflow)\n",
      "  Using cached tensorflow_intel-2.18.0-cp311-cp311-win_amd64.whl.metadata (4.9 kB)\n",
      "Requirement already satisfied: absl-py>=1.0.0 in c:\\users\\gutog\\appdata\\local\\packages\\pythonsoftwarefoundation.python.3.11_qbz5n2kfra8p0\\localcache\\local-packages\\python311\\site-packages (from tensorflow-intel==2.18.0->tensorflow) (2.1.0)\n",
      "Requirement already satisfied: astunparse>=1.6.0 in c:\\users\\gutog\\appdata\\local\\packages\\pythonsoftwarefoundation.python.3.11_qbz5n2kfra8p0\\localcache\\local-packages\\python311\\site-packages (from tensorflow-intel==2.18.0->tensorflow) (1.6.3)\n",
      "Requirement already satisfied: flatbuffers>=24.3.25 in c:\\users\\gutog\\appdata\\local\\packages\\pythonsoftwarefoundation.python.3.11_qbz5n2kfra8p0\\localcache\\local-packages\\python311\\site-packages (from tensorflow-intel==2.18.0->tensorflow) (24.3.25)\n",
      "Requirement already satisfied: gast!=0.5.0,!=0.5.1,!=0.5.2,>=0.2.1 in c:\\users\\gutog\\appdata\\local\\packages\\pythonsoftwarefoundation.python.3.11_qbz5n2kfra8p0\\localcache\\local-packages\\python311\\site-packages (from tensorflow-intel==2.18.0->tensorflow) (0.6.0)\n",
      "Requirement already satisfied: google-pasta>=0.1.1 in c:\\users\\gutog\\appdata\\local\\packages\\pythonsoftwarefoundation.python.3.11_qbz5n2kfra8p0\\localcache\\local-packages\\python311\\site-packages (from tensorflow-intel==2.18.0->tensorflow) (0.2.0)\n",
      "Requirement already satisfied: libclang>=13.0.0 in c:\\users\\gutog\\appdata\\local\\packages\\pythonsoftwarefoundation.python.3.11_qbz5n2kfra8p0\\localcache\\local-packages\\python311\\site-packages (from tensorflow-intel==2.18.0->tensorflow) (18.1.1)\n",
      "Requirement already satisfied: opt-einsum>=2.3.2 in c:\\users\\gutog\\appdata\\local\\packages\\pythonsoftwarefoundation.python.3.11_qbz5n2kfra8p0\\localcache\\local-packages\\python311\\site-packages (from tensorflow-intel==2.18.0->tensorflow) (3.4.0)\n",
      "Requirement already satisfied: packaging in c:\\users\\gutog\\appdata\\local\\packages\\pythonsoftwarefoundation.python.3.11_qbz5n2kfra8p0\\localcache\\local-packages\\python311\\site-packages (from tensorflow-intel==2.18.0->tensorflow) (23.1)\n",
      "Requirement already satisfied: protobuf!=4.21.0,!=4.21.1,!=4.21.2,!=4.21.3,!=4.21.4,!=4.21.5,<6.0.0dev,>=3.20.3 in c:\\users\\gutog\\appdata\\local\\packages\\pythonsoftwarefoundation.python.3.11_qbz5n2kfra8p0\\localcache\\local-packages\\python311\\site-packages (from tensorflow-intel==2.18.0->tensorflow) (5.27.2)\n",
      "Requirement already satisfied: requests<3,>=2.21.0 in c:\\users\\gutog\\appdata\\local\\packages\\pythonsoftwarefoundation.python.3.11_qbz5n2kfra8p0\\localcache\\local-packages\\python311\\site-packages (from tensorflow-intel==2.18.0->tensorflow) (2.32.3)\n",
      "Requirement already satisfied: setuptools in c:\\program files\\windowsapps\\pythonsoftwarefoundation.python.3.11_3.11.2544.0_x64__qbz5n2kfra8p0\\lib\\site-packages (from tensorflow-intel==2.18.0->tensorflow) (65.5.0)\n",
      "Requirement already satisfied: six>=1.12.0 in c:\\users\\gutog\\appdata\\local\\packages\\pythonsoftwarefoundation.python.3.11_qbz5n2kfra8p0\\localcache\\local-packages\\python311\\site-packages (from tensorflow-intel==2.18.0->tensorflow) (1.16.0)\n",
      "Requirement already satisfied: termcolor>=1.1.0 in c:\\users\\gutog\\appdata\\local\\packages\\pythonsoftwarefoundation.python.3.11_qbz5n2kfra8p0\\localcache\\local-packages\\python311\\site-packages (from tensorflow-intel==2.18.0->tensorflow) (2.5.0)\n",
      "Requirement already satisfied: typing-extensions>=3.6.6 in c:\\users\\gutog\\appdata\\local\\packages\\pythonsoftwarefoundation.python.3.11_qbz5n2kfra8p0\\localcache\\local-packages\\python311\\site-packages (from tensorflow-intel==2.18.0->tensorflow) (4.12.2)\n",
      "Requirement already satisfied: wrapt>=1.11.0 in c:\\users\\gutog\\appdata\\local\\packages\\pythonsoftwarefoundation.python.3.11_qbz5n2kfra8p0\\localcache\\local-packages\\python311\\site-packages (from tensorflow-intel==2.18.0->tensorflow) (1.16.0)\n",
      "Requirement already satisfied: grpcio<2.0,>=1.24.3 in c:\\users\\gutog\\appdata\\local\\packages\\pythonsoftwarefoundation.python.3.11_qbz5n2kfra8p0\\localcache\\local-packages\\python311\\site-packages (from tensorflow-intel==2.18.0->tensorflow) (1.67.1)\n",
      "Requirement already satisfied: tensorboard<2.19,>=2.18 in c:\\users\\gutog\\appdata\\local\\packages\\pythonsoftwarefoundation.python.3.11_qbz5n2kfra8p0\\localcache\\local-packages\\python311\\site-packages (from tensorflow-intel==2.18.0->tensorflow) (2.18.0)\n",
      "Requirement already satisfied: keras>=3.5.0 in c:\\users\\gutog\\appdata\\local\\packages\\pythonsoftwarefoundation.python.3.11_qbz5n2kfra8p0\\localcache\\local-packages\\python311\\site-packages (from tensorflow-intel==2.18.0->tensorflow) (3.6.0)\n",
      "Requirement already satisfied: numpy<2.1.0,>=1.26.0 in c:\\users\\gutog\\appdata\\local\\packages\\pythonsoftwarefoundation.python.3.11_qbz5n2kfra8p0\\localcache\\local-packages\\python311\\site-packages (from tensorflow-intel==2.18.0->tensorflow) (2.0.2)\n",
      "Requirement already satisfied: h5py>=3.11.0 in c:\\users\\gutog\\appdata\\local\\packages\\pythonsoftwarefoundation.python.3.11_qbz5n2kfra8p0\\localcache\\local-packages\\python311\\site-packages (from tensorflow-intel==2.18.0->tensorflow) (3.12.1)\n",
      "Requirement already satisfied: ml-dtypes<0.5.0,>=0.4.0 in c:\\users\\gutog\\appdata\\local\\packages\\pythonsoftwarefoundation.python.3.11_qbz5n2kfra8p0\\localcache\\local-packages\\python311\\site-packages (from tensorflow-intel==2.18.0->tensorflow) (0.4.1)\n",
      "Requirement already satisfied: tensorflow-io-gcs-filesystem>=0.23.1 in c:\\users\\gutog\\appdata\\local\\packages\\pythonsoftwarefoundation.python.3.11_qbz5n2kfra8p0\\localcache\\local-packages\\python311\\site-packages (from tensorflow-intel==2.18.0->tensorflow) (0.31.0)\n",
      "Requirement already satisfied: wheel<1.0,>=0.23.0 in c:\\users\\gutog\\appdata\\local\\packages\\pythonsoftwarefoundation.python.3.11_qbz5n2kfra8p0\\localcache\\local-packages\\python311\\site-packages (from astunparse>=1.6.0->tensorflow-intel==2.18.0->tensorflow) (0.40.0)\n",
      "Requirement already satisfied: rich in c:\\users\\gutog\\appdata\\local\\packages\\pythonsoftwarefoundation.python.3.11_qbz5n2kfra8p0\\localcache\\local-packages\\python311\\site-packages (from keras>=3.5.0->tensorflow-intel==2.18.0->tensorflow) (13.7.1)\n",
      "Requirement already satisfied: namex in c:\\users\\gutog\\appdata\\local\\packages\\pythonsoftwarefoundation.python.3.11_qbz5n2kfra8p0\\localcache\\local-packages\\python311\\site-packages (from keras>=3.5.0->tensorflow-intel==2.18.0->tensorflow) (0.0.8)\n",
      "Requirement already satisfied: optree in c:\\users\\gutog\\appdata\\local\\packages\\pythonsoftwarefoundation.python.3.11_qbz5n2kfra8p0\\localcache\\local-packages\\python311\\site-packages (from keras>=3.5.0->tensorflow-intel==2.18.0->tensorflow) (0.13.0)\n",
      "Requirement already satisfied: charset-normalizer<4,>=2 in c:\\users\\gutog\\appdata\\local\\packages\\pythonsoftwarefoundation.python.3.11_qbz5n2kfra8p0\\localcache\\local-packages\\python311\\site-packages (from requests<3,>=2.21.0->tensorflow-intel==2.18.0->tensorflow) (3.3.2)\n",
      "Requirement already satisfied: idna<4,>=2.5 in c:\\users\\gutog\\appdata\\local\\packages\\pythonsoftwarefoundation.python.3.11_qbz5n2kfra8p0\\localcache\\local-packages\\python311\\site-packages (from requests<3,>=2.21.0->tensorflow-intel==2.18.0->tensorflow) (3.7)\n",
      "Requirement already satisfied: urllib3<3,>=1.21.1 in c:\\users\\gutog\\appdata\\local\\packages\\pythonsoftwarefoundation.python.3.11_qbz5n2kfra8p0\\localcache\\local-packages\\python311\\site-packages (from requests<3,>=2.21.0->tensorflow-intel==2.18.0->tensorflow) (2.2.2)\n",
      "Requirement already satisfied: certifi>=2017.4.17 in c:\\users\\gutog\\appdata\\local\\packages\\pythonsoftwarefoundation.python.3.11_qbz5n2kfra8p0\\localcache\\local-packages\\python311\\site-packages (from requests<3,>=2.21.0->tensorflow-intel==2.18.0->tensorflow) (2024.7.4)\n",
      "Requirement already satisfied: markdown>=2.6.8 in c:\\users\\gutog\\appdata\\local\\packages\\pythonsoftwarefoundation.python.3.11_qbz5n2kfra8p0\\localcache\\local-packages\\python311\\site-packages (from tensorboard<2.19,>=2.18->tensorflow-intel==2.18.0->tensorflow) (3.7)\n",
      "Requirement already satisfied: tensorboard-data-server<0.8.0,>=0.7.0 in c:\\users\\gutog\\appdata\\local\\packages\\pythonsoftwarefoundation.python.3.11_qbz5n2kfra8p0\\localcache\\local-packages\\python311\\site-packages (from tensorboard<2.19,>=2.18->tensorflow-intel==2.18.0->tensorflow) (0.7.2)\n",
      "Requirement already satisfied: werkzeug>=1.0.1 in c:\\users\\gutog\\appdata\\local\\packages\\pythonsoftwarefoundation.python.3.11_qbz5n2kfra8p0\\localcache\\local-packages\\python311\\site-packages (from tensorboard<2.19,>=2.18->tensorflow-intel==2.18.0->tensorflow) (3.0.6)\n",
      "Requirement already satisfied: MarkupSafe>=2.1.1 in c:\\users\\gutog\\appdata\\local\\packages\\pythonsoftwarefoundation.python.3.11_qbz5n2kfra8p0\\localcache\\local-packages\\python311\\site-packages (from werkzeug>=1.0.1->tensorboard<2.19,>=2.18->tensorflow-intel==2.18.0->tensorflow) (2.1.5)\n",
      "Requirement already satisfied: markdown-it-py>=2.2.0 in c:\\users\\gutog\\appdata\\local\\packages\\pythonsoftwarefoundation.python.3.11_qbz5n2kfra8p0\\localcache\\local-packages\\python311\\site-packages (from rich->keras>=3.5.0->tensorflow-intel==2.18.0->tensorflow) (3.0.0)\n",
      "Requirement already satisfied: pygments<3.0.0,>=2.13.0 in c:\\users\\gutog\\appdata\\local\\packages\\pythonsoftwarefoundation.python.3.11_qbz5n2kfra8p0\\localcache\\local-packages\\python311\\site-packages (from rich->keras>=3.5.0->tensorflow-intel==2.18.0->tensorflow) (2.15.1)\n",
      "Requirement already satisfied: mdurl~=0.1 in c:\\users\\gutog\\appdata\\local\\packages\\pythonsoftwarefoundation.python.3.11_qbz5n2kfra8p0\\localcache\\local-packages\\python311\\site-packages (from markdown-it-py>=2.2.0->rich->keras>=3.5.0->tensorflow-intel==2.18.0->tensorflow) (0.1.2)\n",
      "Using cached tensorflow-2.18.0-cp311-cp311-win_amd64.whl (7.5 kB)\n",
      "Using cached tensorflow_intel-2.18.0-cp311-cp311-win_amd64.whl (390.2 MB)\n",
      "Installing collected packages: tensorflow-intel, tensorflow\n"
     ]
    },
    {
     "name": "stderr",
     "output_type": "stream",
     "text": [
      "ERROR: Could not install packages due to an OSError: [Errno 2] No such file or directory: 'C:\\\\Users\\\\gutog\\\\AppData\\\\Local\\\\Packages\\\\PythonSoftwareFoundation.Python.3.11_qbz5n2kfra8p0\\\\LocalCache\\\\local-packages\\\\Python311\\\\site-packages\\\\tensorflow\\\\include\\\\external\\\\com_github_grpc_grpc\\\\src\\\\core\\\\ext\\\\filters\\\\client_channel\\\\lb_policy\\\\grpclb\\\\client_load_reporting_filter.h'\n",
      "HINT: This error might have occurred since this system does not have Windows Long Path support enabled. You can find information on how to enable this at https://pip.pypa.io/warnings/enable-long-paths\n",
      "\n",
      "\n",
      "[notice] A new release of pip is available: 24.2 -> 24.3.1\n",
      "[notice] To update, run: C:\\Users\\gutog\\AppData\\Local\\Microsoft\\WindowsApps\\PythonSoftwareFoundation.Python.3.11_qbz5n2kfra8p0\\python.exe -m pip install --upgrade pip\n"
     ]
    }
   ],
   "source": [
    "# !pip install openai\n",
    "# !pip install openpyxl\n",
    "# !pip install python-dotenv\n",
    "# !pip install ipython\n",
    "\n",
    "# from IPython.display import clear_output\n",
    "# clear_output()"
   ]
  },
  {
   "cell_type": "code",
   "execution_count": 6,
   "metadata": {},
   "outputs": [],
   "source": [
    "Sample1 = \"\"\"\n",
    "For the PR I believe it's all good, the way to test it is on development mode in looker and make it work basically. The file is clean and all good for deployment.\n",
    "\n",
    "But in terms of norming and future cases, I'm strongly against keeping this workflow if the dashboard has the possibility of receiving updates. \n",
    "I believe the use of LookML Dashboard was used almost correctly in this case, \n",
    "but on the case where we need to apply changes in this dashboard or add dimensions/new tiles it's not maintainable to add these things via LookML Dashboards overall, \n",
    "based on Looker is also a tool built to actually use the User-Defined features on explores. \n",
    "I believe we should follow more on the line where Guilherme explained to us, \n",
    "use this process to deploy the dashboard once it's ready and explore the options about changing sources when it's in production (model/views names...). \n",
    "On the other hand, Indeed this open us for huge improvements and version control on our dashboards, \n",
    "I strongly recommend exploring the possibility to convert this code into a User-Defined dashboard and see how we could keep changing it when its necessary (e.g. a new requirement comes).\n",
    "\n",
    "(e.g. my opinion: We could talk more about this with the whole team and maybe leave this option open to whoever builds a dashboard if they want to have it as a LookML Dashboard if the dashboard requires it, \n",
    "like in this case, but evaluate why do we have to leave it like this; \n",
    "in this triage case we only did that and it cause us days of work just to have a dynamic hard coded date in the date selection because the business had hard times adapting with the Looker built-in options, \n",
    "we could have explored an option similar to what we do with the timeframes for example, and we never ended up discovering and exploring more LookML dashboards. \n",
    "It also worries me that this is a huge cannon to tackle minor requirements.)\n",
    "Based on this, I think a discussion about it would be the way to go, it's a feature that Looker has, as any other, \n",
    "but it's not that straight forward to use, it limits us in other ways but it brings us a lot of other good stuff and robust and powerful opportunities, \n",
    "one of it is to keep version control about changes in the dashboard over time, but we have to decide as a team either is it is required/nice to have/cool thing let's use only when we need or desire.\n",
    "\"\"\""
   ]
  },
  {
   "cell_type": "code",
   "execution_count": 4,
   "metadata": {},
   "outputs": [],
   "source": [
    "import os\n",
    "from dotenv import load_dotenv\n",
    "\n",
    "load_dotenv()\n",
    "\n",
    "OPENAI_PROJECT = os.getenv(\"OPENAI_PROJECT_ID\")\n",
    "OPENAI_APIKEY = os.getenv(\"OPENAI_APIKEY\")\n",
    "\n",
    "# print(OPENAI_PROJECT,OPENAI_APIKEY)\n",
    "\n",
    "## Authenticate with OpenAI via CURL\n",
    "# !curl https://api.openai.com/v1/models -H \"Authorization: Bearer $OPENAI_APIKEY\" -H \"OpenAI-Project: $OPENAI_PROJECT\""
   ]
  },
  {
   "cell_type": "code",
   "execution_count": null,
   "metadata": {},
   "outputs": [
    {
     "name": "stdout",
     "output_type": "stream",
     "text": [
      "ChatCompletionMessage(content='The feedback you\\'ve provided contains valuable insights and suggestions, but could be more actionable and structured. Here\\'s how you can improve it:\\n\\n### Improvements to Make the Feedback More Actionable and Structured:\\n\\n1. **Title or Summary to Contextualize Feedback:**\\n   - Begin with a brief overview or statement of purpose to clarify what the feedback addresses, e.g., \"Feedback on Dashboard Workflow and Use of LookML.\"\\n\\n2. **Actionable Points:**\\n   - Break down the feedback into clearly defined action items. For example:\\n     - \"Ensure PR readiness by...\"\\n     - \"Discuss alternatives for maintaining dashboards over time.\"\\n     - \"Explore the feasibility of using User-Defined dashboards for more flexibility.\"\\n\\n3. **Specific Examples:**\\n   - Provide a specific example of how an issue affected the project, e.g., \"This caused delays in project X because...\". This contextualizes the feedback and underscores its importance.\\n\\n4. **Suggestions for Improvement:**\\n   - Instead of just stating what didn\\'t work, provide a solution or a suggestion for improvement. For example, \"Consider using process Y instead of process Z for future projects.\"\\n\\n5. **Positive Notes:**\\n   - Acknowledge what worked well to balance the feedback. For example, “It\\'s great to see the file is clean and ready for deployment.”\\n\\n6. **Encouragement of Collaboration:**\\n   - Suggest how team collaboration could be improved, e.g., \"I suggest scheduling a team meeting to discuss these insights further.\"\\n\\n7. **Clarify Consequences and Benefits:**\\n   - Explain the potential impacts of not implementing changes, e.g., \"Continuing with the current workflow could lead to increased maintenance efforts.\"\\n\\n8. **Focus on Constructive Outcomes:**\\n   - Center feedback around constructive outcomes, like \"By adopting this approach, we could reduce future workload by X%.\"\\n\\n### Ranked Feedback (Scale of 1-10):\\n\\nI would rank this feedback as a **6**. Here\\'s why:\\n\\n- **Clarity (5/10):** The message is complex and includes valuable insights, but lacks clarity and order. The feedback could benefit from a more structured approach to make it easier to understand and act upon.\\n  \\n- **Actionability (5/10):** The feedback provides some suggestions but is not broken down into actionable, step-by-step guidance, which reduces its effectiveness.\\n\\n- **Detail and Depth (8/10):** It\\'s comprehensive and provides an in-depth perspective, but some details can be streamlined for better focus.\\n\\n- **Encouragement of Dialogue (6/10):** Though it invites discussion, it could be more proactive in suggesting specific next steps for team collaboration.\\n\\nBy refining the structure and making the points more actionable, the feedback could be more effectively implemented and understood by all team members.', refusal=None, role='assistant', function_call=None, tool_calls=None)\n"
     ]
    }
   ],
   "source": [
    "from openai import OpenAI\n",
    "\n",
    "client = OpenAI(\n",
    "    api_key=OPENAI_APIKEY,\n",
    "    project=OPENAI_PROJECT\n",
    ")\n",
    "\n",
    "completion = client.chat.completions.create(\n",
    "    model=\"gpt-4o\",\n",
    "    messages=[\n",
    "        {\"role\": \"system\", \"content\": \"You are a helpful technical assistant, \\\n",
    "                                       specialist in non violent communication and all communication matters, \\\n",
    "                                       with the most updated infomation about IT and data science.\"}, \n",
    "        {\"role\": \"user\", \"content\":   \"I'm an a NLP student and I need help with a feedback. \\\n",
    "                                       Tell me about what could be better on the following feedback to be more actionable, \\\n",
    "                                       and also in a scale of 1-10, how do rank this feedback (and explain based on what). Feedback:\"+Sample1},\n",
    "    ]\n",
    ")\n",
    "\n",
    "print(completion.choices[0].message)\n",
    "\n",
    "### Write a file with the response:\n",
    "# with open(\"resposta1.md\", \"w\") as f:\n",
    "#     f.write(completion.choices[0].message.content)"
   ]
  },
  {
   "cell_type": "code",
   "execution_count": 13,
   "metadata": {},
   "outputs": [],
   "source": [
    "# Dataset with studentes \n",
    "Sample2 = pd.read_excel('..\\Datasets\\TeachSatisfaction.xlsx')"
   ]
  },
  {
   "cell_type": "code",
   "execution_count": 14,
   "metadata": {},
   "outputs": [
    {
     "data": {
      "text/html": [
       "<div>\n",
       "<style scoped>\n",
       "    .dataframe tbody tr th:only-of-type {\n",
       "        vertical-align: middle;\n",
       "    }\n",
       "\n",
       "    .dataframe tbody tr th {\n",
       "        vertical-align: top;\n",
       "    }\n",
       "\n",
       "    .dataframe thead th {\n",
       "        text-align: right;\n",
       "    }\n",
       "</style>\n",
       "<table border=\"1\" class=\"dataframe\">\n",
       "  <thead>\n",
       "    <tr style=\"text-align: right;\">\n",
       "      <th></th>\n",
       "      <th>user_post</th>\n",
       "      <th>caregiver_post</th>\n",
       "      <th>empathetic_segments</th>\n",
       "      <th>empathy_class</th>\n",
       "    </tr>\n",
       "  </thead>\n",
       "  <tbody>\n",
       "    <tr>\n",
       "      <th>0</th>\n",
       "      <td>I called in sick to work today. For the first ...</td>\n",
       "      <td>Is that really so bad? Maybe it was the smart ...</td>\n",
       "      <td>Hope you feel better soon|</td>\n",
       "      <td>1</td>\n",
       "    </tr>\n",
       "    <tr>\n",
       "      <th>1</th>\n",
       "      <td>i wanna jump from an elevated place. i wanna k...</td>\n",
       "      <td>I don't want you to jump. I don't want you to ...</td>\n",
       "      <td>I don't want you to jump. I don't want you to ...</td>\n",
       "      <td>1</td>\n",
       "    </tr>\n",
       "    <tr>\n",
       "      <th>2</th>\n",
       "      <td>All the people who will be kissed on New year'...</td>\n",
       "      <td>Hey, just wait it out. I know what you feel. S...</td>\n",
       "      <td>if you ever wanna talk about anything I'd be m...</td>\n",
       "      <td>1</td>\n",
       "    </tr>\n",
       "    <tr>\n",
       "      <th>3</th>\n",
       "      <td>The world is really pretty.. Pity, that I won'...</td>\n",
       "      <td>You're a good man, Median. I hope you know thi...</td>\n",
       "      <td>You're a good man|I'd rather you live, persona...</td>\n",
       "      <td>1</td>\n",
       "    </tr>\n",
       "    <tr>\n",
       "      <th>4</th>\n",
       "      <td>Don't know what this is.... Not sure if this i...</td>\n",
       "      <td>Thats totally normal, most people get that fro...</td>\n",
       "      <td>Thats totally normal, most people get that fro...</td>\n",
       "      <td>1</td>\n",
       "    </tr>\n",
       "  </tbody>\n",
       "</table>\n",
       "</div>"
      ],
      "text/plain": [
       "                                           user_post  \\\n",
       "0  I called in sick to work today. For the first ...   \n",
       "1  i wanna jump from an elevated place. i wanna k...   \n",
       "2  All the people who will be kissed on New year'...   \n",
       "3  The world is really pretty.. Pity, that I won'...   \n",
       "4  Don't know what this is.... Not sure if this i...   \n",
       "\n",
       "                                      caregiver_post  \\\n",
       "0  Is that really so bad? Maybe it was the smart ...   \n",
       "1  I don't want you to jump. I don't want you to ...   \n",
       "2  Hey, just wait it out. I know what you feel. S...   \n",
       "3  You're a good man, Median. I hope you know thi...   \n",
       "4  Thats totally normal, most people get that fro...   \n",
       "\n",
       "                                 empathetic_segments  empathy_class   \n",
       "0                         Hope you feel better soon|               1  \n",
       "1  I don't want you to jump. I don't want you to ...               1  \n",
       "2  if you ever wanna talk about anything I'd be m...               1  \n",
       "3  You're a good man|I'd rather you live, persona...               1  \n",
       "4  Thats totally normal, most people get that fro...               1  "
      ]
     },
     "execution_count": 14,
     "metadata": {},
     "output_type": "execute_result"
    }
   ],
   "source": [
    "Sample3_empathy = pd.read_csv('..\\Datasets\\empathy.csv')\n",
    "Sample3_empathy.head()"
   ]
  },
  {
   "cell_type": "code",
   "execution_count": 33,
   "metadata": {},
   "outputs": [
    {
     "name": "stdout",
     "output_type": "stream",
     "text": [
      "['### User Post: ',\n",
      " 'I called in sick to work today. For the first time in a couple months I was '\n",
      " 'feeling so Shitty I called into both my jobs today. Just feeling too burnt '\n",
      " 'out, but I slept a lot, read quite a bit and finally managed to shower so '\n",
      " 'the day a complete waste',\n",
      " '### Caregiver Post: ',\n",
      " 'Is that really so bad? Maybe it was the smart decision because you needed '\n",
      " \"that time to read recover. You're being kind to yourself when you need it \"\n",
      " \"and that's important. Hope you feel better soon.\",\n",
      " '### Empathetic Segments: ',\n",
      " 'Hope you feel better soon|',\n",
      " '### Empathy Class: ',\n",
      " 1]\n"
     ]
    }
   ],
   "source": [
    "Sample3_empathy.iloc[0]\n",
    "\n",
    "pprint.pprint(['### User Post: ', \n",
    "               Sample3_empathy.iloc[0][0],\n",
    "               '### Caregiver Post: ',\n",
    "               Sample3_empathy.iloc[0][1],\n",
    "               '### Empathetic Segments: ',\n",
    "               Sample3_empathy.iloc[0][2],\n",
    "               '### Empathy Class: ',\n",
    "               Sample3_empathy.iloc[0][3]])"
   ]
  },
  {
   "cell_type": "code",
   "execution_count": 51,
   "metadata": {},
   "outputs": [
    {
     "name": "stdout",
     "output_type": "stream",
     "text": [
      "['-',\n",
      " '### User Post: ',\n",
      " \"All the people who will be kissed on New year's eve. I'll be alone like \"\n",
      " \"usual I'll never get someone to kiss me It's fine No one understands how \"\n",
      " 'hopelessly, alone, and angrily some people live. It would scare some '\n",
      " \"attractive people that haven't ever lived like that.\",\n",
      " '-',\n",
      " '### Caregiver Post: ',\n",
      " \"Hey, just wait it out. I know what you feel. Sometimes I think I'm \"\n",
      " \"attractive, and sometimes I can't even look at myself I'm so disgusted. I've \"\n",
      " \"come to realize it's all just a fucked up mind game I play with myself. I \"\n",
      " \"doubt you're actually that ugly, you're probably kinda cute honestly, but if \"\n",
      " \"you're anything like me, you've tricked yourself into thinking you're ugly. \"\n",
      " 'If you want people to want to be around you, you have to do some basic '\n",
      " 'things like showering, putting on actual clothes, smiling, excercising a '\n",
      " \"little and pretending you have confidence. It's honestly dumb, but these \"\n",
      " 'things can be hard to do, especially if you struggle with low confidence and '\n",
      " \"depression. But if you take care of yourself, it's not too hard to find \"\n",
      " 'people. And just you wait until you find a person to kiss on New Years, '\n",
      " 'because the feeling is worth the wait. I know this is all a bit corny, but '\n",
      " \"if you ever wanna talk about anything I'd be more than happy to :)\",\n",
      " '-',\n",
      " '### Empathetic Segments: ',\n",
      " \"if you ever wanna talk about anything I'd be more than happy to|\",\n",
      " '-',\n",
      " '### Empathy Class: ',\n",
      " 1]\n"
     ]
    }
   ],
   "source": [
    "def print_empathy_sample(sample: pd.DataFrame, index: int):\n",
    "    return pprint.pprint(['-','### User Post: ', \n",
    "                        sample.iloc[index][0],\n",
    "                        '-','### Caregiver Post: ',\n",
    "                        sample.iloc[index][1],\n",
    "                        '-','### Empathetic Segments: ',\n",
    "                        sample.iloc[index][2],\n",
    "                        '-','### Empathy Class: ',\n",
    "                        sample.iloc[index][3]])\n",
    "    \n",
    "\n",
    "print_empathy_sample(Sample3_empathy,2)"
   ]
  },
  {
   "cell_type": "code",
   "execution_count": null,
   "metadata": {},
   "outputs": [],
   "source": []
  }
 ],
 "metadata": {
  "kernelspec": {
   "display_name": "Python 3",
   "language": "python",
   "name": "python3"
  },
  "language_info": {
   "codemirror_mode": {
    "name": "ipython",
    "version": 3
   },
   "file_extension": ".py",
   "mimetype": "text/x-python",
   "name": "python",
   "nbconvert_exporter": "python",
   "pygments_lexer": "ipython3",
   "version": "3.11.9"
  }
 },
 "nbformat": 4,
 "nbformat_minor": 2
}
