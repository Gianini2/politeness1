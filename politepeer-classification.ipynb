{
 "cells": [
  {
   "cell_type": "markdown",
   "metadata": {},
   "source": [
    "**Proposta nova:**\n",
    "- Uso de LLM para reescrita de politeness e avaliação da reescrita utilizando LLM e algoritmos de aprendizado de máquina.\n",
    "- Este notebook vai estar predominantemente em inglês principalmente pela usa exposição ao github e sua possível contribuição futura, para facilitar a criação de modulos a partir dele"
   ]
  },
  {
   "cell_type": "code",
   "execution_count": 1,
   "metadata": {},
   "outputs": [],
   "source": [
    "# %pip install pandas\n",
    "# %pip install matplotlib\n",
    "# %pip install --upgrade numpy\n",
    "# %pip install seaborn\n",
    "# %pip install scikit-learn\n",
    "# %pip install ipywidgets\n",
    "# %pip install tensorflow\n",
    "# %pip install --upgrade gensim\n",
    "# %pip install python-dotenv\n",
    "# %pip install openai\n",
    "\n",
    "## runtime compatibility problems (have to run even after install requirements.txt):\n",
    "# %pip install tf-keras \n",
    "# %pip install evaluate\n",
    "# %pip install accelerate"
   ]
  },
  {
   "cell_type": "markdown",
   "metadata": {},
   "source": [
    "---\n",
    "\n",
    "### Activate venv:"
   ]
  },
  {
   "cell_type": "code",
   "execution_count": 2,
   "metadata": {},
   "outputs": [],
   "source": [
    "## Activate python venv:\n",
    "\n",
    "# !python -m venv .venv\n",
    "# Then, select the Jupyter kernel to use the venv, then execute the call below"
   ]
  },
  {
   "cell_type": "code",
   "execution_count": 3,
   "metadata": {},
   "outputs": [],
   "source": [
    "## Install requirements in the .venv\n",
    "# %pip install -r requirements.txt"
   ]
  },
  {
   "cell_type": "code",
   "execution_count": 4,
   "metadata": {},
   "outputs": [],
   "source": [
    "## In case of updating requirements\n",
    "# %pip freeze > requirements.txt"
   ]
  },
  {
   "cell_type": "markdown",
   "metadata": {},
   "source": [
    "---\n",
    "## > Imports"
   ]
  },
  {
   "cell_type": "code",
   "execution_count": 364,
   "metadata": {},
   "outputs": [],
   "source": [
    "import pandas as pd\n",
    "import os\n",
    "from dotenv import load_dotenv\n",
    "from openai import OpenAI\n",
    "from IPython.display import clear_output\n",
    "from pprint import pprint\n",
    "from string import punctuation\n",
    "import seaborn as sns\n",
    "import matplotlib.pyplot as plt\n",
    "import re\n",
    "from transformers import AutoTokenizer, DataCollatorWithPadding, TrainingArguments, AutoModelForSequenceClassification, Trainer, TextClassificationPipeline\n",
    "import numpy as np\n",
    "import evaluate\n",
    "from sklearn.model_selection import train_test_split\n",
    "from torch.utils.data import Dataset \n",
    "import torch \n",
    "from datetime import date\n",
    "from sklearn.metrics import confusion_matrix, precision_score, recall_score, f1_score, accuracy_score\n",
    "import json\n",
    "from tqdm import tqdm  # For progress bar\n",
    "from imblearn.over_sampling import SMOTE # resampling\n",
    "from sklearn.feature_extraction.text import TfidfVectorizer\n",
    "from sklearn.naive_bayes import MultinomialNB\n",
    "from sklearn.metrics import classification_report\n",
    "\n",
    "load_dotenv()\n",
    "\n",
    "OPENAI_PROJECT = os.getenv(\"OPENAI_PROJECT_ID\")\n",
    "OPENAI_APIKEY = os.getenv(\"OPENAI_APIKEY\")\n",
    "\n",
    "## ~40 sec load"
   ]
  },
  {
   "cell_type": "markdown",
   "metadata": {},
   "source": [
    "---\n",
    "### Dataframe:"
   ]
  },
  {
   "cell_type": "code",
   "execution_count": 6,
   "metadata": {},
   "outputs": [
    {
     "data": {
      "text/html": [
       "<div>\n",
       "<style scoped>\n",
       "    .dataframe tbody tr th:only-of-type {\n",
       "        vertical-align: middle;\n",
       "    }\n",
       "\n",
       "    .dataframe tbody tr th {\n",
       "        vertical-align: top;\n",
       "    }\n",
       "\n",
       "    .dataframe thead th {\n",
       "        text-align: right;\n",
       "    }\n",
       "</style>\n",
       "<table border=\"1\" class=\"dataframe\">\n",
       "  <thead>\n",
       "    <tr style=\"text-align: right;\">\n",
       "      <th></th>\n",
       "      <th>Venue</th>\n",
       "      <th>Review ID</th>\n",
       "      <th>review</th>\n",
       "      <th>Tone</th>\n",
       "      <th>Review URL</th>\n",
       "    </tr>\n",
       "  </thead>\n",
       "  <tbody>\n",
       "    <tr>\n",
       "      <th>0</th>\n",
       "      <td>ShitMyReviewerSay</td>\n",
       "      <td>NaN</td>\n",
       "      <td>It is early in the year, but difficult to imag...</td>\n",
       "      <td>2</td>\n",
       "      <td>NaN</td>\n",
       "    </tr>\n",
       "    <tr>\n",
       "      <th>1</th>\n",
       "      <td>ShitMyReviewerSay</td>\n",
       "      <td>NaN</td>\n",
       "      <td>You do not use the empirical data for the anal...</td>\n",
       "      <td>2</td>\n",
       "      <td>NaN</td>\n",
       "    </tr>\n",
       "    <tr>\n",
       "      <th>2</th>\n",
       "      <td>ShitMyReviewerSay</td>\n",
       "      <td>NaN</td>\n",
       "      <td>I understand that Wikipedia is not the best so...</td>\n",
       "      <td>3</td>\n",
       "      <td>NaN</td>\n",
       "    </tr>\n",
       "    <tr>\n",
       "      <th>3</th>\n",
       "      <td>ShitMyReviewerSay</td>\n",
       "      <td>NaN</td>\n",
       "      <td>Reviewer #1: 'The project can hardly be descri...</td>\n",
       "      <td>3</td>\n",
       "      <td>NaN</td>\n",
       "    </tr>\n",
       "  </tbody>\n",
       "</table>\n",
       "</div>"
      ],
      "text/plain": [
       "               Venue Review ID  \\\n",
       "0  ShitMyReviewerSay       NaN   \n",
       "1  ShitMyReviewerSay       NaN   \n",
       "2  ShitMyReviewerSay       NaN   \n",
       "3  ShitMyReviewerSay       NaN   \n",
       "\n",
       "                                              review  Tone Review URL  \n",
       "0  It is early in the year, but difficult to imag...     2        NaN  \n",
       "1  You do not use the empirical data for the anal...     2        NaN  \n",
       "2  I understand that Wikipedia is not the best so...     3        NaN  \n",
       "3  Reviewer #1: 'The project can hardly be descri...     3        NaN  "
      ]
     },
     "execution_count": 6,
     "metadata": {},
     "output_type": "execute_result"
    }
   ],
   "source": [
    "path = 'PolitenessDataset-FULL.csv'\n",
    "\n",
    "# Original Dataframe\n",
    "OriginalPolitenessDF = pd.read_csv(path)\n",
    "# print('Data Stats:', OriginalPolitenessDF.describe())\n",
    "\n",
    "# Experiments Dataframe\n",
    "TargetDf = OriginalPolitenessDF.copy()\n",
    "\n",
    "TargetDf.head(4)"
   ]
  },
  {
   "cell_type": "code",
   "execution_count": 7,
   "metadata": {},
   "outputs": [
    {
     "data": {
      "text/html": [
       "<div>\n",
       "<style scoped>\n",
       "    .dataframe tbody tr th:only-of-type {\n",
       "        vertical-align: middle;\n",
       "    }\n",
       "\n",
       "    .dataframe tbody tr th {\n",
       "        vertical-align: top;\n",
       "    }\n",
       "\n",
       "    .dataframe thead th {\n",
       "        text-align: right;\n",
       "    }\n",
       "</style>\n",
       "<table border=\"1\" class=\"dataframe\">\n",
       "  <thead>\n",
       "    <tr style=\"text-align: right;\">\n",
       "      <th></th>\n",
       "      <th>Index</th>\n",
       "      <th>CodeVenue</th>\n",
       "      <th>RawReview</th>\n",
       "      <th>Tone</th>\n",
       "    </tr>\n",
       "  </thead>\n",
       "  <tbody>\n",
       "    <tr>\n",
       "      <th>0</th>\n",
       "      <td>0</td>\n",
       "      <td>3</td>\n",
       "      <td>It is early in the year, but difficult to imag...</td>\n",
       "      <td>2</td>\n",
       "    </tr>\n",
       "    <tr>\n",
       "      <th>1</th>\n",
       "      <td>1</td>\n",
       "      <td>3</td>\n",
       "      <td>You do not use the empirical data for the anal...</td>\n",
       "      <td>2</td>\n",
       "    </tr>\n",
       "    <tr>\n",
       "      <th>2</th>\n",
       "      <td>2</td>\n",
       "      <td>3</td>\n",
       "      <td>I understand that Wikipedia is not the best so...</td>\n",
       "      <td>3</td>\n",
       "    </tr>\n",
       "    <tr>\n",
       "      <th>3</th>\n",
       "      <td>3</td>\n",
       "      <td>3</td>\n",
       "      <td>Reviewer #1: 'The project can hardly be descri...</td>\n",
       "      <td>3</td>\n",
       "    </tr>\n",
       "    <tr>\n",
       "      <th>4</th>\n",
       "      <td>4</td>\n",
       "      <td>3</td>\n",
       "      <td>The figures are dishonest and not all that use...</td>\n",
       "      <td>2</td>\n",
       "    </tr>\n",
       "  </tbody>\n",
       "</table>\n",
       "</div>"
      ],
      "text/plain": [
       "   Index  CodeVenue                                          RawReview  Tone\n",
       "0      0          3  It is early in the year, but difficult to imag...     2\n",
       "1      1          3  You do not use the empirical data for the anal...     2\n",
       "2      2          3  I understand that Wikipedia is not the best so...     3\n",
       "3      3          3  Reviewer #1: 'The project can hardly be descri...     3\n",
       "4      4          3  The figures are dishonest and not all that use...     2"
      ]
     },
     "execution_count": 7,
     "metadata": {},
     "output_type": "execute_result"
    }
   ],
   "source": [
    "# Basic Transformations:\n",
    "\n",
    "# Codificação\n",
    "TargetDf['CodeVenue'] = TargetDf['Venue'].astype('category').cat.codes\n",
    "# ReviewId\n",
    "TargetDf['Index'] = TargetDf.index\n",
    "# Reorder\n",
    "TargetDf = TargetDf[['Index', 'CodeVenue', 'review', 'Tone']]\n",
    "TargetDf.rename(columns={'review': 'RawReview'}, inplace=True)\n",
    "TargetDf.head()"
   ]
  },
  {
   "cell_type": "code",
   "execution_count": 8,
   "metadata": {},
   "outputs": [
    {
     "data": {
      "image/png": "[encoded data removed]",
      "text/plain": [
       "<Figure size 640x480 with 1 Axes>"
      ]
     },
     "metadata": {},
     "output_type": "display_data"
    },
    {
     "data": {
      "image/png": "[encoded data removed]",
      "text/plain": [
       "<Figure size 1000x600 with 1 Axes>"
      ]
     },
     "metadata": {},
     "output_type": "display_data"
    },
    {
     "data": {
      "image/png": "[encoded data removed]",
      "text/plain": [
       "<Figure size 640x480 with 1 Axes>"
      ]
     },
     "metadata": {},
     "output_type": "display_data"
    },
    {
     "data": {
      "image/png": "[encoded data removed]",
      "text/plain": [
       "<Figure size 1000x600 with 1 Axes>"
      ]
     },
     "metadata": {},
     "output_type": "display_data"
    }
   ],
   "source": [
    "# Some visuals\n",
    "\n",
    "# Plotting the distribution of the sources\n",
    "OriginalPolitenessDF['Venue'].value_counts().plot(title='Sources Freq', kind='bar')\n",
    "plt.show()\n",
    "\n",
    "# Tone distribution\n",
    "plt.figure(figsize=(10, 6))\n",
    "sns.histplot(OriginalPolitenessDF['Tone'], bins=5, fill=True, color='blue', edgecolor='black')\n",
    "plt.grid(axis='y', linestyle='--', alpha=0.7)\n",
    "plt.xticks(ticks=[1, 2, 3, 4, 5])\n",
    "plt.title(\"Histogram of Politeness Tones\", fontsize=16)\n",
    "plt.xlabel(\"Tone\", fontsize=14)\n",
    "plt.ylabel(\"Count\", fontsize=14)\n",
    "plt.show()\n",
    "\n",
    "# Plot tone per venue, stacked\n",
    "OriginalPolitenessDF.groupby(['Venue', 'Tone']).size().unstack().plot(kind='bar', stacked=True, title='Tone per Venue')\n",
    "plt.show()\n",
    "\n",
    "# Lenghts\n",
    "lengths = TargetDf['RawReview'].str.len()\n",
    "\n",
    "# Plot histogram of review lengths\n",
    "plt.figure(figsize=(10, 6))\n",
    "sns.histplot(lengths, bins=30, kde=True, color='blue', alpha=0.7)  # Seaborn for enhanced visuals\n",
    "plt.title(\"Histogram of Review Lengths\", fontsize=16)\n",
    "plt.xlabel(\"Review Length (characters)\", fontsize=14)\n",
    "plt.ylabel(\"Frequency\", fontsize=14)\n",
    "plt.grid(axis='y', linestyle='--', alpha=0.7)\n",
    "plt.show()"
   ]
  },
  {
   "cell_type": "markdown",
   "metadata": {},
   "source": [
    "---\n",
    "### Pre Processamento:"
   ]
  },
  {
   "cell_type": "code",
   "execution_count": 9,
   "metadata": {},
   "outputs": [
    {
     "data": {
      "text/html": [
       "<div>\n",
       "<style scoped>\n",
       "    .dataframe tbody tr th:only-of-type {\n",
       "        vertical-align: middle;\n",
       "    }\n",
       "\n",
       "    .dataframe tbody tr th {\n",
       "        vertical-align: top;\n",
       "    }\n",
       "\n",
       "    .dataframe thead th {\n",
       "        text-align: right;\n",
       "    }\n",
       "</style>\n",
       "<table border=\"1\" class=\"dataframe\">\n",
       "  <thead>\n",
       "    <tr style=\"text-align: right;\">\n",
       "      <th></th>\n",
       "      <th>Index</th>\n",
       "      <th>CodeVenue</th>\n",
       "      <th>RawReview</th>\n",
       "      <th>Tone</th>\n",
       "      <th>TransformedReview</th>\n",
       "    </tr>\n",
       "  </thead>\n",
       "  <tbody>\n",
       "    <tr>\n",
       "      <th>0</th>\n",
       "      <td>0</td>\n",
       "      <td>3</td>\n",
       "      <td>It is early in the year, but difficult to imag...</td>\n",
       "      <td>2</td>\n",
       "      <td>it is early in the year but difficult to imagi...</td>\n",
       "    </tr>\n",
       "    <tr>\n",
       "      <th>1</th>\n",
       "      <td>1</td>\n",
       "      <td>3</td>\n",
       "      <td>You do not use the empirical data for the anal...</td>\n",
       "      <td>2</td>\n",
       "      <td>you do not use the empirical data for the anal...</td>\n",
       "    </tr>\n",
       "    <tr>\n",
       "      <th>2</th>\n",
       "      <td>2</td>\n",
       "      <td>3</td>\n",
       "      <td>I understand that Wikipedia is not the best so...</td>\n",
       "      <td>3</td>\n",
       "      <td>i understand that wikipedia is not the best so...</td>\n",
       "    </tr>\n",
       "    <tr>\n",
       "      <th>3</th>\n",
       "      <td>3</td>\n",
       "      <td>3</td>\n",
       "      <td>Reviewer #1: 'The project can hardly be descri...</td>\n",
       "      <td>3</td>\n",
       "      <td>reviewer   the project can hardly be described...</td>\n",
       "    </tr>\n",
       "    <tr>\n",
       "      <th>4</th>\n",
       "      <td>4</td>\n",
       "      <td>3</td>\n",
       "      <td>The figures are dishonest and not all that use...</td>\n",
       "      <td>2</td>\n",
       "      <td>the figures are dishonest and not all that useful</td>\n",
       "    </tr>\n",
       "    <tr>\n",
       "      <th>...</th>\n",
       "      <td>...</td>\n",
       "      <td>...</td>\n",
       "      <td>...</td>\n",
       "      <td>...</td>\n",
       "      <td>...</td>\n",
       "    </tr>\n",
       "    <tr>\n",
       "      <th>2495</th>\n",
       "      <td>2495</td>\n",
       "      <td>3</td>\n",
       "      <td>The scientific contribution of this paper - if...</td>\n",
       "      <td>2</td>\n",
       "      <td>the scientific contribution of this paper if t...</td>\n",
       "    </tr>\n",
       "    <tr>\n",
       "      <th>2496</th>\n",
       "      <td>2496</td>\n",
       "      <td>3</td>\n",
       "      <td>Reviewer 2: The proposal is also poorly writte...</td>\n",
       "      <td>2</td>\n",
       "      <td>reviewer   the proposal is also poorly written...</td>\n",
       "    </tr>\n",
       "    <tr>\n",
       "      <th>2497</th>\n",
       "      <td>2497</td>\n",
       "      <td>3</td>\n",
       "      <td>The paper could be considered for acceptance g...</td>\n",
       "      <td>3</td>\n",
       "      <td>the paper could be considered for acceptance g...</td>\n",
       "    </tr>\n",
       "    <tr>\n",
       "      <th>2498</th>\n",
       "      <td>2498</td>\n",
       "      <td>3</td>\n",
       "      <td>I don't see how your approach has potential to...</td>\n",
       "      <td>2</td>\n",
       "      <td>i dont see how your approach has potential to ...</td>\n",
       "    </tr>\n",
       "    <tr>\n",
       "      <th>2499</th>\n",
       "      <td>2499</td>\n",
       "      <td>3</td>\n",
       "      <td>It is a bit strange for me that authors have u...</td>\n",
       "      <td>5</td>\n",
       "      <td>it is a bit strange for me that authors have u...</td>\n",
       "    </tr>\n",
       "  </tbody>\n",
       "</table>\n",
       "<p>2500 rows × 5 columns</p>\n",
       "</div>"
      ],
      "text/plain": [
       "      Index  CodeVenue                                          RawReview  \\\n",
       "0         0          3  It is early in the year, but difficult to imag...   \n",
       "1         1          3  You do not use the empirical data for the anal...   \n",
       "2         2          3  I understand that Wikipedia is not the best so...   \n",
       "3         3          3  Reviewer #1: 'The project can hardly be descri...   \n",
       "4         4          3  The figures are dishonest and not all that use...   \n",
       "...     ...        ...                                                ...   \n",
       "2495   2495          3  The scientific contribution of this paper - if...   \n",
       "2496   2496          3  Reviewer 2: The proposal is also poorly writte...   \n",
       "2497   2497          3  The paper could be considered for acceptance g...   \n",
       "2498   2498          3  I don't see how your approach has potential to...   \n",
       "2499   2499          3  It is a bit strange for me that authors have u...   \n",
       "\n",
       "      Tone                                  TransformedReview  \n",
       "0        2  it is early in the year but difficult to imagi...  \n",
       "1        2  you do not use the empirical data for the anal...  \n",
       "2        3  i understand that wikipedia is not the best so...  \n",
       "3        3  reviewer   the project can hardly be described...  \n",
       "4        2  the figures are dishonest and not all that useful  \n",
       "...    ...                                                ...  \n",
       "2495     2  the scientific contribution of this paper if t...  \n",
       "2496     2  reviewer   the proposal is also poorly written...  \n",
       "2497     3  the paper could be considered for acceptance g...  \n",
       "2498     2  i dont see how your approach has potential to ...  \n",
       "2499     5  it is a bit strange for me that authors have u...  \n",
       "\n",
       "[2500 rows x 5 columns]"
      ]
     },
     "execution_count": 9,
     "metadata": {},
     "output_type": "execute_result"
    }
   ],
   "source": [
    "def ReviewPreProcess(x: str):\n",
    "    '''\n",
    "    Esta função realiza:\n",
    "    - Conversão para string\n",
    "    - Remoção de Pontuação\n",
    "    - Tudo minusculo\n",
    "    - Remoção de links\n",
    "    - Remoção de menções\n",
    "    - Remoção de palavras com números\n",
    "    - Normalização de espaços\n",
    "    '''\n",
    "    \n",
    "    # Converter para string, caso não seja\n",
    "    if not isinstance(x, str):\n",
    "        return ''  # Retorna string vazia para entradas inválidas\n",
    "    \n",
    "    new_x = x\n",
    "    for c in punctuation:\n",
    "        new_x = new_x.replace(c,'')\n",
    "    pattern = r\"\"\"\n",
    "    http\\S+|         # Remove links\n",
    "    @\\w+|            # Remove mentions\n",
    "    \\b\\w*\\d\\w*\\b|    # Remove words containing numbers\n",
    "    \\s+              # Normalize spaces\n",
    "    \"\"\"    \n",
    "    new_x = re.sub(pattern, ' ', new_x, flags=re.VERBOSE) #removendo pontuação do texto\n",
    "    return new_x.lower().strip()\n",
    "\n",
    "# TargetDf.rename(columns={'review': 'raw_review'}, inplace=True)\n",
    "TargetDf['TransformedReview'] = TargetDf['RawReview'].apply(ReviewPreProcess)\n",
    "TargetDf"
   ]
  },
  {
   "cell_type": "code",
   "execution_count": 10,
   "metadata": {},
   "outputs": [
    {
     "name": "stdout",
     "output_type": "stream",
     "text": [
      "Len of short reviews: 59\n"
     ]
    },
    {
     "data": {
      "image/png": "[encoded data removed]",
      "text/plain": [
       "<Figure size 640x480 with 1 Axes>"
      ]
     },
     "metadata": {},
     "output_type": "display_data"
    }
   ],
   "source": [
    "filtered_data = TargetDf[TargetDf['TransformedReview'].str.len() < 20]['Tone']\n",
    "\n",
    "print('Len of short reviews:', len(filtered_data))\n",
    "\n",
    "# use sns to create a histogram of the Tone column:\n",
    "sns.histplot(filtered_data, kde=False, discrete=True, color='blue')\n",
    "\n",
    "# Adicionar título e rótulos aos eixos\n",
    "plt.title('Histogram of Tone for Short Reviews')\n",
    "plt.xlabel('Tone')\n",
    "plt.ylabel('Frequency')\n",
    "plt.yticks(range(0, 30, 3))\n",
    "plt.grid(axis='y', linestyle='--')\n",
    "\n",
    "# Mostrar o gráfico\n",
    "plt.show()"
   ]
  },
  {
   "cell_type": "code",
   "execution_count": 11,
   "metadata": {},
   "outputs": [
    {
     "data": {
      "image/png": "[encoded data removed]",
      "text/plain": [
       "<Figure size 1100x400 with 2 Axes>"
      ]
     },
     "metadata": {},
     "output_type": "display_data"
    },
    {
     "name": "stdout",
     "output_type": "stream",
     "text": [
      "Filtered Dataframe: Tone\n",
      "3    1117\n",
      "2     567\n",
      "4     459\n",
      "1     197\n",
      "5     101\n",
      "Name: count, dtype: int64\n",
      "Total of Reviews: 2441 \n",
      "\n",
      "Original Dataframe: Tone\n",
      "3    1142\n",
      "2     581\n",
      "4     465\n",
      "1     210\n",
      "5     102\n",
      "Name: count, dtype: int64\n",
      "Total of Original Reviews: 2500\n"
     ]
    }
   ],
   "source": [
    "# Only keep reviews with more than 20 characters\n",
    "TargetDf2 = TargetDf[TargetDf['TransformedReview'].str.len() >= 20].copy()\n",
    "\n",
    "# Create a figure with two subplots\n",
    "fig, axes = plt.subplots(1, 2, figsize=(11, 4))  # 1 row, 2 columns\n",
    "\n",
    "# First subplot: Reviews with >20 characters\n",
    "sns.histplot(TargetDf2['Tone'], kde=False, discrete=True, color='blue', ax=axes[0])\n",
    "axes[0].set_title('Reviews with >20 char Histogram')\n",
    "axes[0].set_xlabel('Tone')\n",
    "axes[0].set_ylabel('Frequency')\n",
    "axes[0].set_yticks(range(0, 1200, 150))\n",
    "axes[0].grid(axis='y', linestyle='--')\n",
    "\n",
    "# Second subplot: Original Reviews\n",
    "sns.histplot(TargetDf['Tone'], kde=False, discrete=True, color='blue', ax=axes[1])\n",
    "axes[1].set_title('Original Reviews Histogram')\n",
    "axes[1].set_xlabel('Tone')\n",
    "axes[1].set_ylabel('Frequency')\n",
    "axes[1].set_yticks(range(0, 1200, 150))\n",
    "axes[1].grid(axis='y', linestyle='--')\n",
    "\n",
    "# Show the plot\n",
    "plt.tight_layout()\n",
    "plt.show()\n",
    "\n",
    "# quantity of tones for both dataframes:\n",
    "print('Filtered Dataframe:', TargetDf2['Tone'].value_counts())\n",
    "print('Total of Reviews:', len(TargetDf2), '\\n')\n",
    "print('Original Dataframe:', TargetDf['Tone'].value_counts())\n",
    "print('Total of Original Reviews:', len(TargetDf))"
   ]
  },
  {
   "cell_type": "markdown",
   "metadata": {},
   "source": [
    "--- \n",
    "### Separate Train x Test data: "
   ]
  },
  {
   "cell_type": "code",
   "execution_count": 12,
   "metadata": {},
   "outputs": [],
   "source": [
    "X_train, X_test, y_train, y_test = train_test_split(TargetDf2['TransformedReview'], TargetDf2['Tone'], test_size=0.2, random_state=42)\n",
    "\n",
    "y_train = y_train - 1\n",
    "y_test = y_test - 1"
   ]
  },
  {
   "cell_type": "markdown",
   "metadata": {},
   "source": [
    "---\n",
    "### Fine-Tune BERT:"
   ]
  },
  {
   "cell_type": "markdown",
   "metadata": {},
   "source": [
    "#### Load Model (Already Fine-Tuned):"
   ]
  },
  {
   "cell_type": "code",
   "execution_count": 13,
   "metadata": {},
   "outputs": [],
   "source": [
    "# Load from local\n",
    "local_path = 'bert-treined261224'\n",
    "model_trained = AutoModelForSequenceClassification.from_pretrained(local_path)\n",
    "tokenizer = AutoTokenizer.from_pretrained(local_path)"
   ]
  },
  {
   "cell_type": "markdown",
   "metadata": {},
   "source": [
    "#### Fine-Tune Model Pipeline:\n",
    "**IMPORTANT:**\\\n",
    "Here, <font color='orangered'>**only fine-tune**</font> the model (run cells below) if: \n",
    "- Desired: For new experiments\n",
    "- Don't have a fine-tuned model saved"
   ]
  },
  {
   "cell_type": "code",
   "execution_count": null,
   "metadata": {},
   "outputs": [],
   "source": [
    "# model_base = 'bert-base-uncased'                          ## >>> Uncomment this in case of fine-tuning the model (commented here to avoid running everything)\n",
    "tokenizer = AutoTokenizer.from_pretrained(model_base) \n",
    "\n",
    "class CustomDataset(Dataset):\n",
    "    def __init__(self, texts, labels, tokenizer):\n",
    "        self.texts = texts\n",
    "        self.labels = labels\n",
    "        self.tokenizer = tokenizer\n",
    "\n",
    "    def __len__(self):\n",
    "        return len(self.texts)\n",
    "\n",
    "    def __getitem__(self, idx):\n",
    "        # Tokenize the text\n",
    "        encoding = self.tokenizer(\n",
    "            self.texts[idx],\n",
    "            padding=\"max_length\",\n",
    "            truncation=True,\n",
    "            max_length=128,  # Adjust this as needed\n",
    "            return_tensors=\"pt\",\n",
    "        )\n",
    "        # Return a dictionary with the required fields\n",
    "        return {\n",
    "            \"input_ids\": encoding[\"input_ids\"].squeeze(0),  # Remove batch dimension\n",
    "            \"attention_mask\": encoding[\"attention_mask\"].squeeze(0),\n",
    "            \"labels\": torch.tensor(self.labels[idx], dtype=torch.long),  # Label tensor\n",
    "        }\n",
    "\n",
    "# Prepare the datasets\n",
    "train_dataset = CustomDataset(X_train.tolist(), y_train.tolist(), tokenizer)\n",
    "test_dataset = CustomDataset(X_test.tolist(), y_test.tolist(), tokenizer)\n",
    "\n",
    "data_collator = DataCollatorWithPadding(tokenizer=tokenizer)"
   ]
  },
  {
   "cell_type": "code",
   "execution_count": 12,
   "metadata": {},
   "outputs": [],
   "source": [
    "output_dir = './bert'\n",
    "training_args = TrainingArguments(\n",
    "    output_dir=output_dir,                    # Nome e diretório do modelo final\n",
    "    num_train_epochs=3,                       # Número de épocas\n",
    "    per_device_train_batch_size=8,            # Tamanho do lote (batch) por GPU\n",
    "    per_device_eval_batch_size=8,             # Tamanho do lote (batch) para validação por GPU\n",
    "    weight_decay=0.01,                        # Força de decaimento\n",
    "    logging_dir='./logs',                     # Pasta para salvar logs\n",
    "    logging_steps=100,                        # Logar a cada N etapas\n",
    "    eval_strategy='steps',                    # Estratégia de avaliação\n",
    "    eval_steps=200,                           # Rodar avaliação a cada N etapas\n",
    "    save_total_limit=2,                       # Salvar apenas os ultimos N checkpoints\n",
    "    save_steps=200,                           # Salvar checkpoint a cada N etapas.\n",
    "    load_best_model_at_end=True,              # Carregar o melhor modelo no fim\n",
    "    metric_for_best_model='accuracy',         # Métrica para encontrar o melhor modelo\n",
    ")\n",
    "\n",
    "model = AutoModelForSequenceClassification.from_pretrained(model_base, num_labels=5)\n",
    "\n",
    "metric = evaluate.load(\"accuracy\")\n",
    "\n",
    "def compute_metrics(eval_pred):\n",
    "    logits, labels = eval_pred\n",
    "    predictions = np.argmax(logits, axis=-1)\n",
    "    return metric.compute(predictions=predictions, references=labels)\n",
    "\n",
    "trainer = Trainer(\n",
    "    model,\n",
    "    training_args,\n",
    "    train_dataset=train_dataset,\n",
    "    eval_dataset=test_dataset,\n",
    "    data_collator=data_collator,\n",
    "    processing_class=tokenizer,\n",
    "    compute_metrics=compute_metrics,\n",
    ")\n",
    "\n",
    "trainer.train() ## ~28-31 min\n",
    "\n",
    "simple_date = date.today().strftime('%d%m%y')\n",
    "trainer.save_model('bert-treined'+simple_date)"
   ]
  },
  {
   "cell_type": "markdown",
   "metadata": {},
   "source": [
    "### Test BERT model:"
   ]
  },
  {
   "cell_type": "code",
   "execution_count": null,
   "metadata": {},
   "outputs": [
    {
     "data": {
      "text/plain": [
       "[{'label': 'LABEL_0', 'score': 0.6987417936325073},\n",
       " {'label': 'LABEL_1', 'score': 0.25321346521377563},\n",
       " {'label': 'LABEL_4', 'score': 0.018354864791035652},\n",
       " {'label': 'LABEL_3', 'score': 0.01649334840476513},\n",
       " {'label': 'LABEL_2', 'score': 0.013196535408496857}]"
      ]
     },
     "execution_count": 16,
     "metadata": {},
     "output_type": "execute_result"
    }
   ],
   "source": [
    "# New Prediction\n",
    "pipe = TextClassificationPipeline(model=model_trained, tokenizer=tokenizer)\n",
    "\n",
    "# Sample prediction:\n",
    "prediction = pipe(\"This article looks like shit\", top_k=None)\n",
    "prediction\n",
    "\n",
    "# Expected results:\n",
    "# [{'label': 'LABEL_0', 'score': 0.6987417936325073},\n",
    "#  {'label': 'LABEL_1', 'score': 0.25321346521377563},\n",
    "#  {'label': 'LABEL_4', 'score': 0.018354864791035652},\n",
    "#  {'label': 'LABEL_3', 'score': 0.01649334840476513},\n",
    "#  {'label': 'LABEL_2', 'score': 0.013196535408496857}]"
   ]
  },
  {
   "cell_type": "code",
   "execution_count": null,
   "metadata": {},
   "outputs": [],
   "source": [
    "# Label correctly the results\n",
    "def ClassificationResult(classf_results: list, review_text: str, index, prediction):\n",
    "    final_result = {'label':'', 'score':0} # starts with zero\n",
    "    # Classification based on higher score:\n",
    "    for result in prediction:\n",
    "        if round(result['score'],5) > final_result['score']:\n",
    "            final_result = {\n",
    "                'label': result['label'],\n",
    "                'score': round(result['score'],5)}\n",
    "    # Append classf_results   \n",
    "    match final_result['label']:\n",
    "        case 'LABEL_0': # HI\n",
    "            classf_results.append({\n",
    "                'review':review_text,\n",
    "                'label':'1',\n",
    "                'score':final_result['score'],\n",
    "                'index':index,}) \n",
    "        case 'LABEL_1': # I\n",
    "            classf_results.append({\n",
    "                'review':review_text,\n",
    "                'label':'2',\n",
    "                'score':final_result['score'],\n",
    "                'index':index,}) \n",
    "        case 'LABEL_2': # Neutral\n",
    "            classf_results.append({\n",
    "                'review':review_text,\n",
    "                'label':'3',\n",
    "                'score':final_result['score'],\n",
    "                'index':index,}) \n",
    "        case 'LABEL_3': # P\n",
    "            classf_results.append({\n",
    "                'review':review_text,\n",
    "                'label':'4',\n",
    "                'score':final_result['score'],\n",
    "                'index':index,}) \n",
    "        case 'LABEL_4': # HP\n",
    "            classf_results.append({\n",
    "                'review':review_text,\n",
    "                'label':'5',\n",
    "                'score':final_result['score'],\n",
    "                'index':index,})\n",
    "\n",
    "classf_results = [] \n",
    "test_dataframe = pd.DataFrame({'review': X_test, 'tone': y_test})\n",
    "\n",
    "for index, row in test_dataframe.iterrows():\n",
    "    prediction = pipe(row['review'], top_k=None)\n",
    "    ClassificationResult(classf_results, row['review'], index, prediction)\n",
    "## ~ 20s - 3min \n"
   ]
  },
  {
   "cell_type": "code",
   "execution_count": 21,
   "metadata": {},
   "outputs": [
    {
     "data": {
      "text/html": [
       "<div>\n",
       "<style scoped>\n",
       "    .dataframe tbody tr th:only-of-type {\n",
       "        vertical-align: middle;\n",
       "    }\n",
       "\n",
       "    .dataframe tbody tr th {\n",
       "        vertical-align: top;\n",
       "    }\n",
       "\n",
       "    .dataframe thead th {\n",
       "        text-align: right;\n",
       "    }\n",
       "</style>\n",
       "<table border=\"1\" class=\"dataframe\">\n",
       "  <thead>\n",
       "    <tr style=\"text-align: right;\">\n",
       "      <th></th>\n",
       "      <th>review</th>\n",
       "      <th>tone</th>\n",
       "      <th>bert_predicted_label</th>\n",
       "      <th>score</th>\n",
       "    </tr>\n",
       "  </thead>\n",
       "  <tbody>\n",
       "    <tr>\n",
       "      <th>2368</th>\n",
       "      <td>all the comments have been successfully addressed</td>\n",
       "      <td>3</td>\n",
       "      <td>4</td>\n",
       "      <td>0.77732</td>\n",
       "    </tr>\n",
       "    <tr>\n",
       "      <th>642</th>\n",
       "      <td>the writing is often arrestingly pedestrian</td>\n",
       "      <td>2</td>\n",
       "      <td>4</td>\n",
       "      <td>0.35930</td>\n",
       "    </tr>\n",
       "    <tr>\n",
       "      <th>2259</th>\n",
       "      <td>the paper seems wellwritten and technically so...</td>\n",
       "      <td>3</td>\n",
       "      <td>4</td>\n",
       "      <td>0.77032</td>\n",
       "    </tr>\n",
       "    <tr>\n",
       "      <th>1643</th>\n",
       "      <td>surely if we reduce overfitting then by defini...</td>\n",
       "      <td>4</td>\n",
       "      <td>3</td>\n",
       "      <td>0.93592</td>\n",
       "    </tr>\n",
       "    <tr>\n",
       "      <th>2409</th>\n",
       "      <td>the authors have satisfactorily adressed to re...</td>\n",
       "      <td>4</td>\n",
       "      <td>4</td>\n",
       "      <td>0.78587</td>\n",
       "    </tr>\n",
       "    <tr>\n",
       "      <th>...</th>\n",
       "      <td>...</td>\n",
       "      <td>...</td>\n",
       "      <td>...</td>\n",
       "      <td>...</td>\n",
       "    </tr>\n",
       "    <tr>\n",
       "      <th>1063</th>\n",
       "      <td>i do not understand why we would like to assume</td>\n",
       "      <td>2</td>\n",
       "      <td>2</td>\n",
       "      <td>0.83550</td>\n",
       "    </tr>\n",
       "    <tr>\n",
       "      <th>1686</th>\n",
       "      <td>it seems you have exchanged first name and las...</td>\n",
       "      <td>2</td>\n",
       "      <td>2</td>\n",
       "      <td>0.79779</td>\n",
       "    </tr>\n",
       "    <tr>\n",
       "      <th>237</th>\n",
       "      <td>it is unclear how this would advance the field...</td>\n",
       "      <td>2</td>\n",
       "      <td>3</td>\n",
       "      <td>0.95192</td>\n",
       "    </tr>\n",
       "    <tr>\n",
       "      <th>441</th>\n",
       "      <td>pity about the main thesis</td>\n",
       "      <td>3</td>\n",
       "      <td>2</td>\n",
       "      <td>0.66619</td>\n",
       "    </tr>\n",
       "    <tr>\n",
       "      <th>1809</th>\n",
       "      <td>there are a number of typos and oversights abs...</td>\n",
       "      <td>3</td>\n",
       "      <td>3</td>\n",
       "      <td>0.95155</td>\n",
       "    </tr>\n",
       "  </tbody>\n",
       "</table>\n",
       "<p>489 rows × 4 columns</p>\n",
       "</div>"
      ],
      "text/plain": [
       "                                                 review  tone  \\\n",
       "2368  all the comments have been successfully addressed     3   \n",
       "642         the writing is often arrestingly pedestrian     2   \n",
       "2259  the paper seems wellwritten and technically so...     3   \n",
       "1643  surely if we reduce overfitting then by defini...     4   \n",
       "2409  the authors have satisfactorily adressed to re...     4   \n",
       "...                                                 ...   ...   \n",
       "1063    i do not understand why we would like to assume     2   \n",
       "1686  it seems you have exchanged first name and las...     2   \n",
       "237   it is unclear how this would advance the field...     2   \n",
       "441                          pity about the main thesis     3   \n",
       "1809  there are a number of typos and oversights abs...     3   \n",
       "\n",
       "     bert_predicted_label    score  \n",
       "2368                    4  0.77732  \n",
       "642                     4  0.35930  \n",
       "2259                    4  0.77032  \n",
       "1643                    3  0.93592  \n",
       "2409                    4  0.78587  \n",
       "...                   ...      ...  \n",
       "1063                    2  0.83550  \n",
       "1686                    2  0.79779  \n",
       "237                     3  0.95192  \n",
       "441                     2  0.66619  \n",
       "1809                    3  0.95155  \n",
       "\n",
       "[489 rows x 4 columns]"
      ]
     },
     "execution_count": 21,
     "metadata": {},
     "output_type": "execute_result"
    }
   ],
   "source": [
    "## Test Dataframe\n",
    "## Preparing for confusion matrix\n",
    "\n",
    "predicted_dataframe = pd.DataFrame(classf_results)\n",
    "predicted_dataframe.set_index('index', inplace=True)\n",
    "predicted_dataframe = pd.concat([test_dataframe, predicted_dataframe[['label','score']]], axis=1)\n",
    "predicted_dataframe.rename(columns={'label':'bert_predicted_label'}, inplace=True)\n",
    "predicted_dataframe['tone'] = predicted_dataframe['tone'] + 1\n",
    "predicted_dataframe"
   ]
  },
  {
   "cell_type": "code",
   "execution_count": 22,
   "metadata": {},
   "outputs": [
    {
     "data": {
      "image/png": "[encoded data removed]",
      "text/plain": [
       "<Figure size 640x480 with 2 Axes>"
      ]
     },
     "metadata": {},
     "output_type": "display_data"
    }
   ],
   "source": [
    "# Define the range of labels explicitly (1 to 5)\n",
    "label_range = [1, 2, 3, 4, 5]\n",
    "\n",
    "# Generate the confusion matrix\n",
    "conf_matrix = confusion_matrix(\n",
    "    predicted_dataframe['tone'].astype(int), \n",
    "    predicted_dataframe['bert_predicted_label'].astype(int), \n",
    "    labels=label_range\n",
    ")\n",
    "\n",
    "# Plot the confusion matrix\n",
    "sns.heatmap(conf_matrix, annot=True, fmt='d', cmap='Blues', xticklabels=label_range, yticklabels=label_range)\n",
    "plt.xlabel('Predicted')\n",
    "plt.ylabel('Real Label')\n",
    "plt.title('Confusion Matrix')\n",
    "plt.show()"
   ]
  },
  {
   "cell_type": "markdown",
   "metadata": {},
   "source": [
    "### Rewrite Sentences with OpenAi (GPT 4o):"
   ]
  },
  {
   "cell_type": "code",
   "execution_count": 26,
   "metadata": {},
   "outputs": [
    {
     "name": "stdout",
     "output_type": "stream",
     "text": [
      "('Sample1: although finding novel gan applications is an exciting topic i am '\n",
      " 'not really convinced that ica with the proposed wasserstein gan based '\n",
      " 'technique fulfills this goal')\n",
      "('While exploring novel GAN applications is indeed an exciting topic, I am not '\n",
      " 'entirely convinced that ICA with the proposed Wasserstein GAN-based '\n",
      " 'technique achieves this objective.')\n"
     ]
    }
   ],
   "source": [
    "Sample1 = test_dataframe[test_dataframe['tone'] == 1].iloc[10]['review']\n",
    "pprint('Sample1: '+Sample1)\n",
    "\n",
    "# ChatGPT client:\n",
    "client = OpenAI(\n",
    "    api_key=OPENAI_APIKEY,\n",
    "    project=OPENAI_PROJECT\n",
    ")\n",
    "\n",
    "PromptClassify = [\n",
    "        {\"role\": \"system\", \"content\":   \"You are a helpful technical assistant,\\\n",
    "                                        specialist in non violent communication, politeness and all communication matters.\\\n",
    "                                        You are rating texts on a scale of 1 to 5 for politeness, from Highly Impolite (1) to Highly Polite (5).\"}, \n",
    "        {\"role\": \"user\", \"content\":     \"I need help with a Peer Review comment.\\\n",
    "                                        in a scale of 1 - 5 classify the comment about it's Politeness.\\\n",
    "                                        How to classify (in a range):\\\n",
    "                                        Highly Impolite (1): Comments containing unnecessarily offensive, sarcastic,\\\n",
    "                                        or disrespectful critiques, using derogatory terms or expressing disdain for the reviewed work.\\\n",
    "                                        Highly Polite (5): Comments explicitly emphasizing positive aspects, using linguistic mitigations,\\\n",
    "                                        direct praise, and respectful language to convey critiques or suggestions.\\\n",
    "                                        Neutral (3) would be a comment that is neither polite nor impolite.\\\n",
    "                                        Bring the rank first, then after a 2 line explanation why, of this comment:\"+Sample1},\n",
    "    ]\n",
    "\n",
    "PromptRewrite = [\n",
    "        {\"role\": \"system\", \"content\":   \"You are a helpful technical assistant,\\\n",
    "                                        specialist in non violent communication, politeness and all communication matters.\\\n",
    "                                        You are rewriting impolite comments to be more polite.\"}, \n",
    "        {\"role\": \"user\", \"content\":     \"I need help with a comment, Don't lose any content of the comment just rewrite it more politely. \\\n",
    "                                        Don't write anything else in the reply, just the rewritten comment.\\\n",
    "                                        Rewrite more politely: \"+Sample1},\n",
    "    ]\n",
    "\n",
    "\n",
    "completion = client.chat.completions.create(\n",
    "    model=\"gpt-4o\",\n",
    "    # messages = PromptClassify\n",
    "    messages = PromptRewrite,\n",
    "    temperature=0.1,\n",
    ")\n",
    "\n",
    "# Rewrite Sample:\n",
    "response = completion.choices[0].message.content\n",
    "pprint(response)"
   ]
  },
  {
   "cell_type": "code",
   "execution_count": 28,
   "metadata": {},
   "outputs": [
    {
     "data": {
      "text/plain": [
       "[{'label': 'LABEL_1', 'score': 0.5369321703910828},\n",
       " {'label': 'LABEL_2', 'score': 0.21113526821136475},\n",
       " {'label': 'LABEL_3', 'score': 0.16167257726192474},\n",
       " {'label': 'LABEL_0', 'score': 0.0733666867017746},\n",
       " {'label': 'LABEL_4', 'score': 0.016893295571208}]"
      ]
     },
     "execution_count": 28,
     "metadata": {},
     "output_type": "execute_result"
    }
   ],
   "source": [
    "# Test of BERT Classification of the rewritten comment:\n",
    "\n",
    "RewritePrediction = pipe(response, top_k=None)\n",
    "RewritePrediction"
   ]
  },
  {
   "cell_type": "markdown",
   "metadata": {},
   "source": [
    "### Rewritten Predictions pipeline:"
   ]
  },
  {
   "cell_type": "code",
   "execution_count": null,
   "metadata": {},
   "outputs": [
    {
     "data": {
      "text/html": [
       "<div>\n",
       "<style scoped>\n",
       "    .dataframe tbody tr th:only-of-type {\n",
       "        vertical-align: middle;\n",
       "    }\n",
       "\n",
       "    .dataframe tbody tr th {\n",
       "        vertical-align: top;\n",
       "    }\n",
       "\n",
       "    .dataframe thead th {\n",
       "        text-align: right;\n",
       "    }\n",
       "</style>\n",
       "<table border=\"1\" class=\"dataframe\">\n",
       "  <thead>\n",
       "    <tr style=\"text-align: right;\">\n",
       "      <th></th>\n",
       "      <th>review</th>\n",
       "      <th>tone</th>\n",
       "      <th>bert_predicted_label</th>\n",
       "      <th>score</th>\n",
       "      <th>rewritten_review</th>\n",
       "    </tr>\n",
       "  </thead>\n",
       "  <tbody>\n",
       "    <tr>\n",
       "      <th>2368</th>\n",
       "      <td>all the comments have been successfully addressed</td>\n",
       "      <td>3</td>\n",
       "      <td>4</td>\n",
       "      <td>0.77732</td>\n",
       "      <td>All the comments have been thoroughly and succ...</td>\n",
       "    </tr>\n",
       "    <tr>\n",
       "      <th>642</th>\n",
       "      <td>the writing is often arrestingly pedestrian</td>\n",
       "      <td>2</td>\n",
       "      <td>4</td>\n",
       "      <td>0.35930</td>\n",
       "      <td>The writing sometimes tends to be quite straig...</td>\n",
       "    </tr>\n",
       "    <tr>\n",
       "      <th>2259</th>\n",
       "      <td>the paper seems wellwritten and technically so...</td>\n",
       "      <td>3</td>\n",
       "      <td>4</td>\n",
       "      <td>0.77032</td>\n",
       "      <td>The paper appears to be well-written and techn...</td>\n",
       "    </tr>\n",
       "    <tr>\n",
       "      <th>1643</th>\n",
       "      <td>surely if we reduce overfitting then by defini...</td>\n",
       "      <td>4</td>\n",
       "      <td>3</td>\n",
       "      <td>0.93592</td>\n",
       "      <td>Certainly, if we reduce overfitting, it should...</td>\n",
       "    </tr>\n",
       "    <tr>\n",
       "      <th>2409</th>\n",
       "      <td>the authors have satisfactorily adressed to re...</td>\n",
       "      <td>4</td>\n",
       "      <td>4</td>\n",
       "      <td>0.78587</td>\n",
       "      <td>The authors have effectively addressed the rev...</td>\n",
       "    </tr>\n",
       "    <tr>\n",
       "      <th>...</th>\n",
       "      <td>...</td>\n",
       "      <td>...</td>\n",
       "      <td>...</td>\n",
       "      <td>...</td>\n",
       "      <td>...</td>\n",
       "    </tr>\n",
       "    <tr>\n",
       "      <th>1063</th>\n",
       "      <td>i do not understand why we would like to assume</td>\n",
       "      <td>2</td>\n",
       "      <td>2</td>\n",
       "      <td>0.83550</td>\n",
       "      <td>I am curious about our reasoning behind making...</td>\n",
       "    </tr>\n",
       "    <tr>\n",
       "      <th>1686</th>\n",
       "      <td>it seems you have exchanged first name and las...</td>\n",
       "      <td>2</td>\n",
       "      <td>2</td>\n",
       "      <td>0.79779</td>\n",
       "      <td>It appears that the first and last names might...</td>\n",
       "    </tr>\n",
       "    <tr>\n",
       "      <th>237</th>\n",
       "      <td>it is unclear how this would advance the field...</td>\n",
       "      <td>2</td>\n",
       "      <td>3</td>\n",
       "      <td>0.95192</td>\n",
       "      <td>It is not immediately clear how this might adv...</td>\n",
       "    </tr>\n",
       "    <tr>\n",
       "      <th>441</th>\n",
       "      <td>pity about the main thesis</td>\n",
       "      <td>3</td>\n",
       "      <td>2</td>\n",
       "      <td>0.66619</td>\n",
       "      <td>It's unfortunate about the main thesis.</td>\n",
       "    </tr>\n",
       "    <tr>\n",
       "      <th>1809</th>\n",
       "      <td>there are a number of typos and oversights abs...</td>\n",
       "      <td>3</td>\n",
       "      <td>3</td>\n",
       "      <td>0.95155</td>\n",
       "      <td>There are a few areas you might want to review...</td>\n",
       "    </tr>\n",
       "  </tbody>\n",
       "</table>\n",
       "<p>489 rows × 5 columns</p>\n",
       "</div>"
      ],
      "text/plain": [
       "                                                 review  tone  \\\n",
       "2368  all the comments have been successfully addressed     3   \n",
       "642         the writing is often arrestingly pedestrian     2   \n",
       "2259  the paper seems wellwritten and technically so...     3   \n",
       "1643  surely if we reduce overfitting then by defini...     4   \n",
       "2409  the authors have satisfactorily adressed to re...     4   \n",
       "...                                                 ...   ...   \n",
       "1063    i do not understand why we would like to assume     2   \n",
       "1686  it seems you have exchanged first name and las...     2   \n",
       "237   it is unclear how this would advance the field...     2   \n",
       "441                          pity about the main thesis     3   \n",
       "1809  there are a number of typos and oversights abs...     3   \n",
       "\n",
       "     bert_predicted_label    score  \\\n",
       "2368                    4  0.77732   \n",
       "642                     4  0.35930   \n",
       "2259                    4  0.77032   \n",
       "1643                    3  0.93592   \n",
       "2409                    4  0.78587   \n",
       "...                   ...      ...   \n",
       "1063                    2  0.83550   \n",
       "1686                    2  0.79779   \n",
       "237                     3  0.95192   \n",
       "441                     2  0.66619   \n",
       "1809                    3  0.95155   \n",
       "\n",
       "                                       rewritten_review  \n",
       "2368  All the comments have been thoroughly and succ...  \n",
       "642   The writing sometimes tends to be quite straig...  \n",
       "2259  The paper appears to be well-written and techn...  \n",
       "1643  Certainly, if we reduce overfitting, it should...  \n",
       "2409  The authors have effectively addressed the rev...  \n",
       "...                                                 ...  \n",
       "1063  I am curious about our reasoning behind making...  \n",
       "1686  It appears that the first and last names might...  \n",
       "237   It is not immediately clear how this might adv...  \n",
       "441             It's unfortunate about the main thesis.  \n",
       "1809  There are a few areas you might want to review...  \n",
       "\n",
       "[489 rows x 5 columns]"
      ]
     },
     "execution_count": 29,
     "metadata": {},
     "output_type": "execute_result"
    }
   ],
   "source": [
    "## Predictions pipeline:\n",
    "\n",
    "def RewritePolite(Sample: str):\n",
    "    PromptRewrite = [\n",
    "        {\"role\": \"system\", \"content\":   \"You are a helpful technical assistant,\\\n",
    "                                        specialist in non violent communication, politeness and all communication matters.\\\n",
    "                                        You are rewriting impolite comments to be more polite.\"}, \n",
    "        {\"role\": \"user\", \"content\":     \"I need help with a comment, Don't lose any content of the comment just rewrite it more politely. \\\n",
    "                                        Don't write anything else in the reply, just the rewritten comment.\\\n",
    "                                        Rewrite more politely: \"+Sample},]\n",
    "    \n",
    "    completion = client.chat.completions.create(\n",
    "        model=\"gpt-4o\",\n",
    "        messages = PromptRewrite)\n",
    "    \n",
    "    response = completion.choices[0].message.content\n",
    "    return response\n",
    "\n",
    "def PredictTone(review: str):\n",
    "    prediction = pipe(review, top_k=None)\n",
    "    return prediction\n",
    "\n",
    "\n",
    "complete_test_dataframe = predicted_dataframe.copy()\n",
    "complete_test_dataframe['rewritten_review'] = complete_test_dataframe['review'].apply(RewritePolite) ## ~10 min rodando\n",
    "complete_test_dataframe\n",
    "\n",
    "## ~ 10 min"
   ]
  },
  {
   "cell_type": "code",
   "execution_count": null,
   "metadata": {},
   "outputs": [],
   "source": [
    "## BERT Classification of the rewritten reviews:\n",
    "bert_classf_results_rewritten = [] \n",
    "\n",
    "for index, row in complete_test_dataframe.iterrows():\n",
    "    prediction = pipe(row['rewritten_review'], top_k=None)\n",
    "    ClassificationResult(bert_classf_results_rewritten, row['rewritten_review'], index, prediction)\n",
    "    \n",
    "## ~ 20s"
   ]
  },
  {
   "cell_type": "code",
   "execution_count": 31,
   "metadata": {},
   "outputs": [
    {
     "data": {
      "text/html": [
       "<div>\n",
       "<style scoped>\n",
       "    .dataframe tbody tr th:only-of-type {\n",
       "        vertical-align: middle;\n",
       "    }\n",
       "\n",
       "    .dataframe tbody tr th {\n",
       "        vertical-align: top;\n",
       "    }\n",
       "\n",
       "    .dataframe thead th {\n",
       "        text-align: right;\n",
       "    }\n",
       "</style>\n",
       "<table border=\"1\" class=\"dataframe\">\n",
       "  <thead>\n",
       "    <tr style=\"text-align: right;\">\n",
       "      <th></th>\n",
       "      <th>review</th>\n",
       "      <th>tone</th>\n",
       "      <th>bert_predicted_label</th>\n",
       "      <th>score</th>\n",
       "      <th>rewritten_review</th>\n",
       "      <th>bert_rewritten_predicted_label</th>\n",
       "      <th>bert_rewritten_score</th>\n",
       "    </tr>\n",
       "  </thead>\n",
       "  <tbody>\n",
       "    <tr>\n",
       "      <th>2368</th>\n",
       "      <td>all the comments have been successfully addressed</td>\n",
       "      <td>3</td>\n",
       "      <td>4</td>\n",
       "      <td>0.77732</td>\n",
       "      <td>All the comments have been thoroughly and succ...</td>\n",
       "      <td>4</td>\n",
       "      <td>0.64584</td>\n",
       "    </tr>\n",
       "    <tr>\n",
       "      <th>642</th>\n",
       "      <td>the writing is often arrestingly pedestrian</td>\n",
       "      <td>2</td>\n",
       "      <td>4</td>\n",
       "      <td>0.35930</td>\n",
       "      <td>The writing sometimes tends to be quite straig...</td>\n",
       "      <td>3</td>\n",
       "      <td>0.70818</td>\n",
       "    </tr>\n",
       "    <tr>\n",
       "      <th>2259</th>\n",
       "      <td>the paper seems wellwritten and technically so...</td>\n",
       "      <td>3</td>\n",
       "      <td>4</td>\n",
       "      <td>0.77032</td>\n",
       "      <td>The paper appears to be well-written and techn...</td>\n",
       "      <td>4</td>\n",
       "      <td>0.66546</td>\n",
       "    </tr>\n",
       "    <tr>\n",
       "      <th>1643</th>\n",
       "      <td>surely if we reduce overfitting then by defini...</td>\n",
       "      <td>4</td>\n",
       "      <td>3</td>\n",
       "      <td>0.93592</td>\n",
       "      <td>Certainly, if we reduce overfitting, it should...</td>\n",
       "      <td>3</td>\n",
       "      <td>0.77478</td>\n",
       "    </tr>\n",
       "    <tr>\n",
       "      <th>2409</th>\n",
       "      <td>the authors have satisfactorily adressed to re...</td>\n",
       "      <td>4</td>\n",
       "      <td>4</td>\n",
       "      <td>0.78587</td>\n",
       "      <td>The authors have effectively addressed the rev...</td>\n",
       "      <td>4</td>\n",
       "      <td>0.80835</td>\n",
       "    </tr>\n",
       "    <tr>\n",
       "      <th>...</th>\n",
       "      <td>...</td>\n",
       "      <td>...</td>\n",
       "      <td>...</td>\n",
       "      <td>...</td>\n",
       "      <td>...</td>\n",
       "      <td>...</td>\n",
       "      <td>...</td>\n",
       "    </tr>\n",
       "    <tr>\n",
       "      <th>1063</th>\n",
       "      <td>i do not understand why we would like to assume</td>\n",
       "      <td>2</td>\n",
       "      <td>2</td>\n",
       "      <td>0.83550</td>\n",
       "      <td>I am curious about our reasoning behind making...</td>\n",
       "      <td>2</td>\n",
       "      <td>0.71041</td>\n",
       "    </tr>\n",
       "    <tr>\n",
       "      <th>1686</th>\n",
       "      <td>it seems you have exchanged first name and las...</td>\n",
       "      <td>2</td>\n",
       "      <td>2</td>\n",
       "      <td>0.79779</td>\n",
       "      <td>It appears that the first and last names might...</td>\n",
       "      <td>3</td>\n",
       "      <td>0.87540</td>\n",
       "    </tr>\n",
       "    <tr>\n",
       "      <th>237</th>\n",
       "      <td>it is unclear how this would advance the field...</td>\n",
       "      <td>2</td>\n",
       "      <td>3</td>\n",
       "      <td>0.95192</td>\n",
       "      <td>It is not immediately clear how this might adv...</td>\n",
       "      <td>3</td>\n",
       "      <td>0.86733</td>\n",
       "    </tr>\n",
       "    <tr>\n",
       "      <th>441</th>\n",
       "      <td>pity about the main thesis</td>\n",
       "      <td>3</td>\n",
       "      <td>2</td>\n",
       "      <td>0.66619</td>\n",
       "      <td>It's unfortunate about the main thesis.</td>\n",
       "      <td>2</td>\n",
       "      <td>0.67780</td>\n",
       "    </tr>\n",
       "    <tr>\n",
       "      <th>1809</th>\n",
       "      <td>there are a number of typos and oversights abs...</td>\n",
       "      <td>3</td>\n",
       "      <td>3</td>\n",
       "      <td>0.95155</td>\n",
       "      <td>There are a few areas you might want to review...</td>\n",
       "      <td>3</td>\n",
       "      <td>0.74484</td>\n",
       "    </tr>\n",
       "  </tbody>\n",
       "</table>\n",
       "<p>489 rows × 7 columns</p>\n",
       "</div>"
      ],
      "text/plain": [
       "                                                 review  tone  \\\n",
       "2368  all the comments have been successfully addressed     3   \n",
       "642         the writing is often arrestingly pedestrian     2   \n",
       "2259  the paper seems wellwritten and technically so...     3   \n",
       "1643  surely if we reduce overfitting then by defini...     4   \n",
       "2409  the authors have satisfactorily adressed to re...     4   \n",
       "...                                                 ...   ...   \n",
       "1063    i do not understand why we would like to assume     2   \n",
       "1686  it seems you have exchanged first name and las...     2   \n",
       "237   it is unclear how this would advance the field...     2   \n",
       "441                          pity about the main thesis     3   \n",
       "1809  there are a number of typos and oversights abs...     3   \n",
       "\n",
       "     bert_predicted_label    score  \\\n",
       "2368                    4  0.77732   \n",
       "642                     4  0.35930   \n",
       "2259                    4  0.77032   \n",
       "1643                    3  0.93592   \n",
       "2409                    4  0.78587   \n",
       "...                   ...      ...   \n",
       "1063                    2  0.83550   \n",
       "1686                    2  0.79779   \n",
       "237                     3  0.95192   \n",
       "441                     2  0.66619   \n",
       "1809                    3  0.95155   \n",
       "\n",
       "                                       rewritten_review  \\\n",
       "2368  All the comments have been thoroughly and succ...   \n",
       "642   The writing sometimes tends to be quite straig...   \n",
       "2259  The paper appears to be well-written and techn...   \n",
       "1643  Certainly, if we reduce overfitting, it should...   \n",
       "2409  The authors have effectively addressed the rev...   \n",
       "...                                                 ...   \n",
       "1063  I am curious about our reasoning behind making...   \n",
       "1686  It appears that the first and last names might...   \n",
       "237   It is not immediately clear how this might adv...   \n",
       "441             It's unfortunate about the main thesis.   \n",
       "1809  There are a few areas you might want to review...   \n",
       "\n",
       "     bert_rewritten_predicted_label  bert_rewritten_score  \n",
       "2368                              4               0.64584  \n",
       "642                               3               0.70818  \n",
       "2259                              4               0.66546  \n",
       "1643                              3               0.77478  \n",
       "2409                              4               0.80835  \n",
       "...                             ...                   ...  \n",
       "1063                              2               0.71041  \n",
       "1686                              3               0.87540  \n",
       "237                               3               0.86733  \n",
       "441                               2               0.67780  \n",
       "1809                              3               0.74484  \n",
       "\n",
       "[489 rows x 7 columns]"
      ]
     },
     "execution_count": 31,
     "metadata": {},
     "output_type": "execute_result"
    }
   ],
   "source": [
    "predicted_dataframe2 = pd.DataFrame(bert_classf_results_rewritten)\n",
    "predicted_dataframe2.set_index('index', inplace=True)\n",
    "predicted_dataframe2.rename(columns={'label':'bert_rewritten_predicted_label','score':'bert_rewritten_score'}, inplace=True)\n",
    "complete_test_dataframe = pd.concat([complete_test_dataframe, predicted_dataframe2[['bert_rewritten_predicted_label','bert_rewritten_score']]], axis=1)\n",
    "complete_test_dataframe"
   ]
  },
  {
   "cell_type": "code",
   "execution_count": 32,
   "metadata": {},
   "outputs": [
    {
     "name": "stdout",
     "output_type": "stream",
     "text": [
      "bert_predicted_label\n",
      "1     17\n",
      "2    109\n",
      "3    253\n",
      "4     93\n",
      "5     17\n",
      "Name: count, dtype: int64\n",
      "bert_rewritten_predicted_label\n",
      "1      1\n",
      "2     68\n",
      "3    219\n",
      "4    156\n",
      "5     45\n",
      "Name: count, dtype: int64\n"
     ]
    }
   ],
   "source": [
    "pprint(complete_test_dataframe['bert_predicted_label'].value_counts().sort_index())\n",
    "pprint(complete_test_dataframe['bert_rewritten_predicted_label'].value_counts().sort_index())"
   ]
  },
  {
   "cell_type": "markdown",
   "metadata": {},
   "source": [
    "### GPT Classification:"
   ]
  },
  {
   "cell_type": "code",
   "execution_count": 54,
   "metadata": {},
   "outputs": [],
   "source": [
    "## Classify with GPT-4o:\n",
    "\n",
    "def GptClassification(Sample: str):\n",
    "    PromptClassify1 = [\n",
    "            {\"role\": \"system\", \"content\":   \"You are a helpful technical assistant,\\\n",
    "                                            specialist in non violent communication, politeness and all communication matters.\\\n",
    "                                            You are rating texts on a scale of 1 to 5 for politeness, from Highly Impolite (1) to Highly Polite (5).\"}, \n",
    "            {\"role\": \"user\", \"content\":     \"I need help with a Peer Review comment.\\\n",
    "                                            in a scale of 1 - 5 classify the comment about it's Politeness.\\\n",
    "                                            How to classify (in a range):\\\n",
    "                                            Highly Impolite (1): Comments containing unnecessarily offensive, sarcastic,\\\n",
    "                                            or disrespectful critiques, using derogatory terms or expressing disdain for the reviewed work.\\\n",
    "                                            Highly Polite (5): Comments explicitly emphasizing positive aspects, using linguistic mitigations,\\\n",
    "                                            direct praise, and respectful language to convey critiques or suggestions.\\\n",
    "                                            Neutral (3) would be a comment that is neither polite nor impolite.\\\n",
    "                                            In a json format: {'label':'_ClassificationResult_', 'explanation':'_Explanation_'} \\\n",
    "                                            Bring up the politeness rating of the comment at the _ClassificationResult_, then after a 2 line explanation why at the _Explanation_, \\\n",
    "                                            of this comment:\"+Sample},\n",
    "        ]\n",
    "    \n",
    "    PromptClassify2 = [\n",
    "            {\"role\": \"system\", \"content\":   \"You are a helpful technical assistant,\\\n",
    "                                            specialist in non violent communication, politeness and all communication matters.\\\n",
    "                                            You are rating texts on a scale of 1 to 5 for politeness, from Highly Impolite (1) to Highly Polite (5).\"}, \n",
    "            {\"role\": \"user\", \"content\":     \"In a scale of 1 - 5 classify the comment about it's Politeness.\\\n",
    "                                            In a json format: {'label':'_ClassificationResult_', 'explanation':'_Explanation_'} \\\n",
    "                                            Bring up the politeness rating of the comment at the _ClassificationResult_, then after a 2 line explanation why at the _Explanation_, \\\n",
    "                                            of this comment:\"+Sample},\n",
    "        ]\n",
    "        \n",
    "    # completion1 = client.chat.completions.create(\n",
    "    #     model=\"gpt-4o\",\n",
    "    #     messages = PromptClassify1,\n",
    "    #     temperature = 0.1\n",
    "    #     )\n",
    "    \n",
    "    completion2 = client.chat.completions.create(\n",
    "        model=\"gpt-4o\",\n",
    "        messages = PromptClassify2,\n",
    "        temperature = 0.1\n",
    "        )\n",
    "\n",
    "    # return completion1.choices[0].message.content, completion2.choices[0].message.content\n",
    "    return completion2.choices[0].message.content\n",
    "\n",
    "## Function that returns a json from a string in json format\n",
    "def SimpleFormatting(text):\n",
    "    '''function that returns a json from a string in json format'''    \n",
    "    json_string = text.strip('```json').strip()\n",
    "    return json.loads(json_string)\n",
    "\n",
    "\n",
    "# Cache results to avoid duplicate API calls\n",
    "result_cache = {}\n",
    "\n",
    "## Function to classify with GPT each review\n",
    "def process_review(review):\n",
    "    if review in result_cache:\n",
    "        return result_cache[review]\n",
    "    try:\n",
    "        # Call the GPT classification API\n",
    "        rank1 = GptClassification(review)\n",
    "        rank1 = SimpleFormatting(rank1)\n",
    "        result_cache[review] = rank1['label']\n",
    "        return rank1['label']\n",
    "    except Exception as e:\n",
    "        print('Exception at json dump (moving forward):', e)\n",
    "        return None\n",
    "## Examples:\n",
    "# comment = \"although finding novel gan applications is an exciting topic i am \\\n",
    "#     not really convinced that ica with the proposed wasserstein gan based \\\n",
    "#     technique fulfills this goal\"\n",
    "# comment = \"the writing is often arrestingly pedestrian\"\n",
    "\n",
    "# rewritten_comment = \"while exploring novel gan applications is indeed an exciting topic i am not \\\n",
    "#     entirely convinced that the proposed ica with the wasserstein gan based \\\n",
    "#     technique fully achieves this objective.\"\n",
    "# rewritten_comment = \"The writing tends to be straightforward and uncomplicated.\"\n",
    "    \n",
    "# rank1, rank2 = GptClassification(comment)\n",
    "# pprint(rank1)\n",
    "# print('\\n')\n",
    "# pprint(rank2)"
   ]
  },
  {
   "cell_type": "code",
   "execution_count": 39,
   "metadata": {},
   "outputs": [
    {
     "name": "stderr",
     "output_type": "stream",
     "text": [
      " 17%|█▋        | 82/489 [02:17<09:43,  1.43s/it]"
     ]
    },
    {
     "name": "stdout",
     "output_type": "stream",
     "text": [
      "Exception at json dump (moving forward): Expecting property name enclosed in double quotes: line 1 column 2 (char 1)\n"
     ]
    },
    {
     "name": "stderr",
     "output_type": "stream",
     "text": [
      " 23%|██▎       | 111/489 [03:04<10:38,  1.69s/it]"
     ]
    },
    {
     "name": "stdout",
     "output_type": "stream",
     "text": [
      "Exception at json dump (moving forward): Expecting property name enclosed in double quotes: line 1 column 2 (char 1)\n"
     ]
    },
    {
     "name": "stderr",
     "output_type": "stream",
     "text": [
      " 29%|██▉       | 143/489 [03:57<07:51,  1.36s/it]"
     ]
    },
    {
     "name": "stdout",
     "output_type": "stream",
     "text": [
      "Exception at json dump (moving forward): Expecting property name enclosed in double quotes: line 2 column 3 (char 4)\n"
     ]
    },
    {
     "name": "stderr",
     "output_type": "stream",
     "text": [
      " 53%|█████▎    | 260/489 [07:21<05:50,  1.53s/it]"
     ]
    },
    {
     "name": "stdout",
     "output_type": "stream",
     "text": [
      "Exception at json dump (moving forward): Expecting property name enclosed in double quotes: line 2 column 3 (char 4)\n"
     ]
    },
    {
     "name": "stderr",
     "output_type": "stream",
     "text": [
      " 68%|██████▊   | 333/489 [09:29<03:48,  1.47s/it]"
     ]
    },
    {
     "name": "stdout",
     "output_type": "stream",
     "text": [
      "Exception at json dump (moving forward): Expecting value: line 1 column 1 (char 0)\n"
     ]
    },
    {
     "name": "stderr",
     "output_type": "stream",
     "text": [
      "100%|██████████| 489/489 [14:23<00:00,  1.77s/it]\n"
     ]
    }
   ],
   "source": [
    "## GPT 4o Classification:\n",
    "\n",
    "df5 = complete_test_dataframe.copy()\n",
    "\n",
    "# Apply the function to the entire column\n",
    "tqdm.pandas()  # Initialize tqdm for Pandas\n",
    "df5['GptClassification:'] = df5['review'].progress_apply(process_review)\n",
    "\n",
    "## ~15 minutes"
   ]
  },
  {
   "cell_type": "code",
   "execution_count": 56,
   "metadata": {},
   "outputs": [
    {
     "name": "stderr",
     "output_type": "stream",
     "text": [
      "  2%|▏         | 10/489 [00:13<11:14,  1.41s/it]"
     ]
    },
    {
     "name": "stdout",
     "output_type": "stream",
     "text": [
      "Exception at json dump (moving forward): Expecting property name enclosed in double quotes: line 1 column 2 (char 1)\n"
     ]
    },
    {
     "name": "stderr",
     "output_type": "stream",
     "text": [
      "  6%|▌         | 29/489 [00:51<12:57,  1.69s/it]"
     ]
    },
    {
     "name": "stdout",
     "output_type": "stream",
     "text": [
      "Exception at json dump (moving forward): Expecting property name enclosed in double quotes: line 1 column 2 (char 1)\n"
     ]
    },
    {
     "name": "stderr",
     "output_type": "stream",
     "text": [
      "  7%|▋         | 34/489 [00:58<10:18,  1.36s/it]"
     ]
    },
    {
     "name": "stdout",
     "output_type": "stream",
     "text": [
      "Exception at json dump (moving forward): Expecting property name enclosed in double quotes: line 1 column 2 (char 1)\n"
     ]
    },
    {
     "name": "stderr",
     "output_type": "stream",
     "text": [
      " 17%|█▋        | 81/489 [02:17<09:55,  1.46s/it]"
     ]
    },
    {
     "name": "stdout",
     "output_type": "stream",
     "text": [
      "Exception at json dump (moving forward): Expecting property name enclosed in double quotes: line 1 column 2 (char 1)\n"
     ]
    },
    {
     "name": "stderr",
     "output_type": "stream",
     "text": [
      " 29%|██▊       | 140/489 [03:55<12:04,  2.08s/it]"
     ]
    },
    {
     "name": "stdout",
     "output_type": "stream",
     "text": [
      "Exception at json dump (moving forward): Expecting property name enclosed in double quotes: line 1 column 2 (char 1)\n"
     ]
    },
    {
     "name": "stderr",
     "output_type": "stream",
     "text": [
      " 32%|███▏      | 158/489 [04:30<10:55,  1.98s/it]"
     ]
    },
    {
     "name": "stdout",
     "output_type": "stream",
     "text": [
      "Exception at json dump (moving forward): Expecting property name enclosed in double quotes: line 1 column 2 (char 1)\n"
     ]
    },
    {
     "name": "stderr",
     "output_type": "stream",
     "text": [
      " 39%|███▉      | 192/489 [05:18<06:55,  1.40s/it]"
     ]
    },
    {
     "name": "stdout",
     "output_type": "stream",
     "text": [
      "Exception at json dump (moving forward): Expecting property name enclosed in double quotes: line 1 column 2 (char 1)\n"
     ]
    },
    {
     "name": "stderr",
     "output_type": "stream",
     "text": [
      " 42%|████▏     | 204/489 [05:36<06:27,  1.36s/it]"
     ]
    },
    {
     "name": "stdout",
     "output_type": "stream",
     "text": [
      "Exception at json dump (moving forward): Expecting property name enclosed in double quotes: line 1 column 2 (char 1)\n"
     ]
    },
    {
     "name": "stderr",
     "output_type": "stream",
     "text": [
      " 57%|█████▋    | 278/489 [07:21<04:19,  1.23s/it]"
     ]
    },
    {
     "name": "stdout",
     "output_type": "stream",
     "text": [
      "Exception at json dump (moving forward): Expecting property name enclosed in double quotes: line 1 column 2 (char 1)\n"
     ]
    },
    {
     "name": "stderr",
     "output_type": "stream",
     "text": [
      " 57%|█████▋    | 280/489 [07:23<04:06,  1.18s/it]"
     ]
    },
    {
     "name": "stdout",
     "output_type": "stream",
     "text": [
      "Exception at json dump (moving forward): Expecting property name enclosed in double quotes: line 2 column 3 (char 4)\n"
     ]
    },
    {
     "name": "stderr",
     "output_type": "stream",
     "text": [
      " 60%|█████▉    | 291/489 [07:44<04:39,  1.41s/it]"
     ]
    },
    {
     "name": "stdout",
     "output_type": "stream",
     "text": [
      "Exception at json dump (moving forward): Expecting property name enclosed in double quotes: line 1 column 2 (char 1)\n"
     ]
    },
    {
     "name": "stderr",
     "output_type": "stream",
     "text": [
      " 68%|██████▊   | 333/489 [08:47<03:25,  1.31s/it]"
     ]
    },
    {
     "name": "stdout",
     "output_type": "stream",
     "text": [
      "Exception at json dump (moving forward): Expecting property name enclosed in double quotes: line 1 column 2 (char 1)\n"
     ]
    },
    {
     "name": "stderr",
     "output_type": "stream",
     "text": [
      " 75%|███████▍  | 365/489 [09:45<03:28,  1.68s/it]"
     ]
    },
    {
     "name": "stdout",
     "output_type": "stream",
     "text": [
      "Exception at json dump (moving forward): Expecting property name enclosed in double quotes: line 1 column 2 (char 1)\n"
     ]
    },
    {
     "name": "stderr",
     "output_type": "stream",
     "text": [
      " 78%|███████▊  | 383/489 [10:11<02:37,  1.49s/it]"
     ]
    },
    {
     "name": "stdout",
     "output_type": "stream",
     "text": [
      "Exception at json dump (moving forward): Expecting property name enclosed in double quotes: line 1 column 2 (char 1)\n"
     ]
    },
    {
     "name": "stderr",
     "output_type": "stream",
     "text": [
      " 79%|███████▉  | 388/489 [10:24<03:55,  2.33s/it]"
     ]
    },
    {
     "name": "stdout",
     "output_type": "stream",
     "text": [
      "Exception at json dump (moving forward): Expecting property name enclosed in double quotes: line 1 column 2 (char 1)\n"
     ]
    },
    {
     "name": "stderr",
     "output_type": "stream",
     "text": [
      " 85%|████████▍ | 414/489 [11:05<02:03,  1.65s/it]"
     ]
    },
    {
     "name": "stdout",
     "output_type": "stream",
     "text": [
      "Exception at json dump (moving forward): Expecting property name enclosed in double quotes: line 2 column 3 (char 4)\n"
     ]
    },
    {
     "name": "stderr",
     "output_type": "stream",
     "text": [
      " 94%|█████████▍| 460/489 [12:29<00:42,  1.45s/it]"
     ]
    },
    {
     "name": "stdout",
     "output_type": "stream",
     "text": [
      "Exception at json dump (moving forward): Expecting property name enclosed in double quotes: line 2 column 3 (char 4)\n"
     ]
    },
    {
     "name": "stderr",
     "output_type": "stream",
     "text": [
      "100%|██████████| 489/489 [13:20<00:00,  1.64s/it]\n"
     ]
    }
   ],
   "source": [
    "tqdm.pandas()  # Initialize tqdm for Pandas\n",
    "df5['GptClassification_rewritten:'] = df5['rewritten_review'].progress_apply(process_review)"
   ]
  },
  {
   "cell_type": "code",
   "execution_count": 91,
   "metadata": {},
   "outputs": [
    {
     "name": "stdout",
     "output_type": "stream",
     "text": [
      "GptClassification:\n",
      "0      5\n",
      "1      6\n",
      "2     92\n",
      "3    226\n",
      "4    140\n",
      "5     20\n",
      "Name: count, dtype: int64\n",
      "GptClassification_rewritten:\n",
      "0     17\n",
      "3     38\n",
      "4    262\n",
      "5    172\n",
      "Name: count, dtype: int64\n"
     ]
    }
   ],
   "source": [
    "## Transforming GPT Classification problems with nulls:\n",
    "df5.loc[df5['GptClassification:'].isnull(), 'GptClassification:'] = 0\n",
    "df5.loc[df5['GptClassification_rewritten:'].isnull(), 'GptClassification_rewritten:'] = 0\n",
    "pprint(df5['GptClassification:'].astype(int).value_counts().sort_index())\n",
    "pprint(df5['GptClassification_rewritten:'].astype(int).value_counts().sort_index())"
   ]
  },
  {
   "cell_type": "code",
   "execution_count": 93,
   "metadata": {},
   "outputs": [
    {
     "data": {
      "text/html": [
       "<div>\n",
       "<style scoped>\n",
       "    .dataframe tbody tr th:only-of-type {\n",
       "        vertical-align: middle;\n",
       "    }\n",
       "\n",
       "    .dataframe tbody tr th {\n",
       "        vertical-align: top;\n",
       "    }\n",
       "\n",
       "    .dataframe thead th {\n",
       "        text-align: right;\n",
       "    }\n",
       "</style>\n",
       "<table border=\"1\" class=\"dataframe\">\n",
       "  <thead>\n",
       "    <tr style=\"text-align: right;\">\n",
       "      <th></th>\n",
       "      <th>review</th>\n",
       "      <th>tone</th>\n",
       "      <th>bert_predicted_label</th>\n",
       "      <th>score</th>\n",
       "      <th>GptClassification:</th>\n",
       "      <th>rewritten_review</th>\n",
       "      <th>bert_rewritten_predicted_label</th>\n",
       "      <th>bert_rewritten_score</th>\n",
       "      <th>GptClassification_rewritten:</th>\n",
       "    </tr>\n",
       "  </thead>\n",
       "  <tbody>\n",
       "    <tr>\n",
       "      <th>2368</th>\n",
       "      <td>all the comments have been successfully addressed</td>\n",
       "      <td>3</td>\n",
       "      <td>4</td>\n",
       "      <td>0.77732</td>\n",
       "      <td>5</td>\n",
       "      <td>All the comments have been thoroughly and succ...</td>\n",
       "      <td>4</td>\n",
       "      <td>0.64584</td>\n",
       "      <td>5</td>\n",
       "    </tr>\n",
       "    <tr>\n",
       "      <th>642</th>\n",
       "      <td>the writing is often arrestingly pedestrian</td>\n",
       "      <td>2</td>\n",
       "      <td>4</td>\n",
       "      <td>0.35930</td>\n",
       "      <td>3</td>\n",
       "      <td>The writing sometimes tends to be quite straig...</td>\n",
       "      <td>3</td>\n",
       "      <td>0.70818</td>\n",
       "      <td>4</td>\n",
       "    </tr>\n",
       "    <tr>\n",
       "      <th>2259</th>\n",
       "      <td>the paper seems wellwritten and technically so...</td>\n",
       "      <td>3</td>\n",
       "      <td>4</td>\n",
       "      <td>0.77032</td>\n",
       "      <td>4</td>\n",
       "      <td>The paper appears to be well-written and techn...</td>\n",
       "      <td>4</td>\n",
       "      <td>0.66546</td>\n",
       "      <td>4</td>\n",
       "    </tr>\n",
       "    <tr>\n",
       "      <th>1643</th>\n",
       "      <td>surely if we reduce overfitting then by defini...</td>\n",
       "      <td>4</td>\n",
       "      <td>3</td>\n",
       "      <td>0.93592</td>\n",
       "      <td>3</td>\n",
       "      <td>Certainly, if we reduce overfitting, it should...</td>\n",
       "      <td>3</td>\n",
       "      <td>0.77478</td>\n",
       "      <td>5</td>\n",
       "    </tr>\n",
       "    <tr>\n",
       "      <th>2409</th>\n",
       "      <td>the authors have satisfactorily adressed to re...</td>\n",
       "      <td>4</td>\n",
       "      <td>4</td>\n",
       "      <td>0.78587</td>\n",
       "      <td>4</td>\n",
       "      <td>The authors have effectively addressed the rev...</td>\n",
       "      <td>4</td>\n",
       "      <td>0.80835</td>\n",
       "      <td>5</td>\n",
       "    </tr>\n",
       "  </tbody>\n",
       "</table>\n",
       "</div>"
      ],
      "text/plain": [
       "                                                 review  tone  \\\n",
       "2368  all the comments have been successfully addressed     3   \n",
       "642         the writing is often arrestingly pedestrian     2   \n",
       "2259  the paper seems wellwritten and technically so...     3   \n",
       "1643  surely if we reduce overfitting then by defini...     4   \n",
       "2409  the authors have satisfactorily adressed to re...     4   \n",
       "\n",
       "     bert_predicted_label    score GptClassification:  \\\n",
       "2368                    4  0.77732                  5   \n",
       "642                     4  0.35930                  3   \n",
       "2259                    4  0.77032                  4   \n",
       "1643                    3  0.93592                  3   \n",
       "2409                    4  0.78587                  4   \n",
       "\n",
       "                                       rewritten_review  \\\n",
       "2368  All the comments have been thoroughly and succ...   \n",
       "642   The writing sometimes tends to be quite straig...   \n",
       "2259  The paper appears to be well-written and techn...   \n",
       "1643  Certainly, if we reduce overfitting, it should...   \n",
       "2409  The authors have effectively addressed the rev...   \n",
       "\n",
       "     bert_rewritten_predicted_label  bert_rewritten_score  \\\n",
       "2368                              4               0.64584   \n",
       "642                               3               0.70818   \n",
       "2259                              4               0.66546   \n",
       "1643                              3               0.77478   \n",
       "2409                              4               0.80835   \n",
       "\n",
       "     GptClassification_rewritten:  \n",
       "2368                            5  \n",
       "642                             4  \n",
       "2259                            4  \n",
       "1643                            5  \n",
       "2409                            5  "
      ]
     },
     "execution_count": 93,
     "metadata": {},
     "output_type": "execute_result"
    }
   ],
   "source": [
    "# Reorder Columns\n",
    "df5 = df5[['review', 'tone', 'bert_predicted_label', 'score', 'GptClassification:', 'rewritten_review', 'bert_rewritten_predicted_label', 'bert_rewritten_score', 'GptClassification_rewritten:']]\n",
    "df5.head()"
   ]
  },
  {
   "cell_type": "code",
   "execution_count": 94,
   "metadata": {},
   "outputs": [],
   "source": [
    "## Save df5 to a csv file\n",
    "# df5.to_csv('complete_dataframe.csv', index=True)\n",
    "# df5.to_csv('complete_dataframeV2.csv', index=True)"
   ]
  },
  {
   "cell_type": "code",
   "execution_count": 95,
   "metadata": {},
   "outputs": [
    {
     "data": {
      "text/plain": [
       "Index(['review', 'tone', 'bert_predicted_label', 'score', 'GptClassification:',\n",
       "       'rewritten_review', 'bert_rewritten_predicted_label',\n",
       "       'bert_rewritten_score', 'GptClassification_rewritten:'],\n",
       "      dtype='object')"
      ]
     },
     "execution_count": 95,
     "metadata": {},
     "output_type": "execute_result"
    }
   ],
   "source": [
    "df5.columns"
   ]
  },
  {
   "cell_type": "code",
   "execution_count": null,
   "metadata": {},
   "outputs": [
    {
     "data": {
      "image/png": "[encoded data removed]",
      "text/plain": [
       "<Figure size 1800x700 with 5 Axes>"
      ]
     },
     "metadata": {},
     "output_type": "display_data"
    }
   ],
   "source": [
    "alpha = 1\n",
    "\n",
    "# Create subplots\n",
    "fig, axes = plt.subplots(1, 5, figsize=(18, 7), sharey=True)\n",
    "\n",
    "# Plot for BERT Classification - Normal\n",
    "df5['bert_predicted_label'].astype(int).value_counts().sort_index().plot(kind='bar', ax=axes[1], color='orange')\n",
    "axes[1].set_title('BERT Classification - Normal')\n",
    "axes[1].tick_params(axis='x', rotation=0)  # Rotate xticks by 45 degrees\n",
    "axes[1].set_xlabel('Tone')\n",
    "axes[1].grid(ls='--', alpha=alpha)\n",
    "\n",
    "# Plot for BERT Classification - Rewritten\n",
    "df5['bert_rewritten_predicted_label'].astype(int).value_counts().sort_index().plot(kind='bar', ax=axes[2], color='chocolate')\n",
    "axes[2].set_title('BERT Classification - Rewritten')\n",
    "axes[2].tick_params(axis='x', rotation=0)  # Rotate xticks by 45 degrees\n",
    "axes[2].set_xlabel('Tone')\n",
    "axes[2].grid(ls='--', alpha=alpha)\n",
    "\n",
    "# Plot for GPT Classification - Normal\n",
    "df5['GptClassification:'].astype(int).value_counts().sort_index().plot(kind='bar', ax=axes[3], color='skyblue')\n",
    "axes[3].set_title('GPT Classification - Normal')\n",
    "axes[3].tick_params(axis='x', rotation=0)  # Rotate xticks by 45 degrees\n",
    "axes[3].set_xlabel('Tone')\n",
    "axes[3].grid(ls='--', alpha=alpha)\n",
    "\n",
    "# Plot for GPT Classification - Rewritten\n",
    "df5['GptClassification_rewritten:'].astype(int).value_counts().sort_index().plot(kind='bar', ax=axes[4], color='cyan')\n",
    "axes[4].set_title('GPT Classification - Rewritten')\n",
    "axes[4].tick_params(axis='x', rotation=0)  # Rotate xticks by 45 degrees \n",
    "axes[4].set_xlabel('Tone')\n",
    "axes[4].grid(ls='--', alpha=alpha)\n",
    "\n",
    "df5['tone'].astype(int).value_counts().sort_index().plot(kind='bar', ax=axes[0], color='blue')\n",
    "axes[0].set_title('Original Tone (Test Data)')\n",
    "axes[0].tick_params(axis='x', rotation=0)  # Rotate xticks by 45 degrees\n",
    "axes[0].set_xlabel('Tone')\n",
    "axes[0].grid(ls='--', alpha=alpha)\n",
    "\n",
    "# Set shared y-axis label\n",
    "fig.text(-0.01, 0.5, 'Count', rotation=90, fontsize=12)\n",
    "plt.yticks(range(0, 286, 15))\n",
    "\n",
    "# Adjust layout and show the plot\n",
    "plt.tight_layout()\n",
    "plt.show()"
   ]
  },
  {
   "cell_type": "markdown",
   "metadata": {},
   "source": [
    "### Naive Bayes for Rewritten Sentences:"
   ]
  },
  {
   "cell_type": "markdown",
   "metadata": {},
   "source": [
    "### Evaluation:"
   ]
  },
  {
   "cell_type": "code",
   "execution_count": 179,
   "metadata": {},
   "outputs": [
    {
     "name": "stdout",
     "output_type": "stream",
     "text": [
      "L1: [0, 17, 109, 253, 93, 17]\n",
      "L2: [0, 1, 68, 219, 156, 45]\n",
      "L3: [5, 6, 92, 226, 140, 20]\n",
      "L4: [17, 0, 0, 38, 262, 172]\n",
      "\n",
      " BERT: \n",
      " label 1: 5.88 % of label 1, were classified as label 1 when rewritten (REDUCTION) \n",
      " label 2: 62.39 % of label 2, were classified as label 2 when rewritten (REDUCTION) \n",
      " label 3: 86.56 % of label 3, were classified as label 3 when rewritten (REDUCTION) \n",
      " label 4: 167.74 % of label 4, were classified as label 4 when rewritten (INCREASE) \n",
      " label 5: 264.71 % of label 5, were classified as label 5 when rewritten (INCREASE) \n",
      " GPT Classifier: \n",
      " label 1: 0.0 % of label 1, were classified as label 1 when rewritten (REDUCTION) \n",
      " label 2: 0.0 % of label 2, were classified as label 2 when rewritten (REDUCTION) \n",
      " label 3: 16.81 % of label 3, were classified as label 3 when rewritten (REDUCTION) \n",
      " label 4: 187.14 % of label 4, were classified as label 4 when rewritten (INCREASE) \n",
      " label 5: 860.0 % of label 5, were classified as label 5 when rewritten (HUGE INCREASE)\n"
     ]
    }
   ],
   "source": [
    "## Showing some progress with the rewritten comments:\n",
    "# pprint(df5['bert_predicted_label'].value_counts().sort_index())\n",
    "# pprint(df5['bert_rewritten_predicted_label'].value_counts().sort_index())\n",
    "\n",
    "# Define the preset of acceptable labels\n",
    "acceptable_labels = [0, 1, 2, 3, 4, 5]\n",
    "\n",
    "# Convert the value counts to a full list with missing labels as zeros\n",
    "l1 = df5['bert_predicted_label'].astype(int).value_counts().reindex(acceptable_labels, fill_value=0).sort_index().to_list()\n",
    "l2 = df5['bert_rewritten_predicted_label'].astype(int).value_counts().reindex(acceptable_labels, fill_value=0).sort_index().to_list()\n",
    "l3 = df5['GptClassification:'].astype(int).value_counts().reindex(acceptable_labels, fill_value=0).sort_index().to_list()\n",
    "l4 = df5['GptClassification_rewritten:'].astype(int).value_counts().reindex(acceptable_labels, fill_value=0).sort_index().to_list()\n",
    "\n",
    "# Debug print to check the lists\n",
    "print(\"L1:\", l1)\n",
    "print(\"L2:\", l2)\n",
    "print(\"L3:\", l3)\n",
    "print(\"L4:\", l4)\n",
    "\n",
    "# Perform your analysis with no missing labels\n",
    "# [0] represents an error in the GPT classification, only lost data for now, doesn't mean anything\n",
    "print(\n",
    "    '\\n',\n",
    "    'BERT:', '\\n',\n",
    "    'label 1:', round(l2[1] / l1[1], 4) * 100 if l1[1] != 0 else 0, '% of label 1, were classified as label 1 when rewritten (REDUCTION)', '\\n',\n",
    "    'label 2:', round(l2[2] / l1[2], 4) * 100 if l1[2] != 0 else 0, '% of label 2, were classified as label 2 when rewritten (REDUCTION)', '\\n',\n",
    "    'label 3:', round(l2[3] / l1[3], 4) * 100 if l1[3] != 0 else 0, '% of label 3, were classified as label 3 when rewritten (REDUCTION)', '\\n',\n",
    "    'label 4:', round(l2[4] / l1[4], 4) * 100 if l1[4] != 0 else 0, '% of label 4, were classified as label 4 when rewritten (INCREASE)', '\\n',\n",
    "    'label 5:', round(l2[5] / l1[5], 4) * 100 if l1[5] != 0 else 0, '% of label 5, were classified as label 5 when rewritten (INCREASE)', '\\n',\n",
    "    'GPT Classifier:', '\\n',\n",
    "    'label 1:', round(l4[1] / l3[1], 4) * 100 if l3[1] != 0 else 0, '% of label 1, were classified as label 1 when rewritten (REDUCTION)', '\\n',\n",
    "    'label 2:', round(l4[2] / l3[2], 4) * 100 if l3[2] != 0 else 0, '% of label 2, were classified as label 2 when rewritten (REDUCTION)', '\\n',\n",
    "    'label 3:', round(l4[3] / l3[3], 4) * 100 if l3[3] != 0 else 0, '% of label 3, were classified as label 3 when rewritten (REDUCTION)', '\\n',\n",
    "    'label 4:', round(l4[4] / l3[4], 4) * 100 if l3[4] != 0 else 0, '% of label 4, were classified as label 4 when rewritten (INCREASE)', '\\n',\n",
    "    'label 5:', round(l4[5] / l3[5], 4) * 100 if l3[5] != 0 else 0, '% of label 5, were classified as label 5 when rewritten (HUGE INCREASE)'\n",
    ")"
   ]
  },
  {
   "cell_type": "code",
   "execution_count": 218,
   "metadata": {},
   "outputs": [
    {
     "name": "stdout",
     "output_type": "stream",
     "text": [
      "\n",
      " BERT Classification metrics:\n",
      "Avg Precision: 0.588 \n",
      " Avg Recall: 0.547 \n",
      " F1 Macro: 0.557 \n",
      " Accuracy: 0.611\n",
      "Class 1 - Precision: 0.588, Recall: 0.294, F1: 0.392\n",
      "Class 2 - Precision: 0.523, Recall: 0.483, F1: 0.502\n",
      "Class 3 - Precision: 0.696, Recall: 0.749, F1: 0.721\n",
      "Class 4 - Precision: 0.484, Recall: 0.523, F1: 0.503\n",
      "Class 5 - Precision: 0.647, Recall: 0.688, F1: 0.667\n",
      "\n",
      " GPT Classification metrics:\n",
      "Avg Precision: 0.311 \n",
      " Avg Recall: 0.252 \n",
      " F1 Macro: 0.253 \n",
      " Accuracy: 0.429\n",
      "Class 0 - Precision: 0.000, Recall: 0.000, F1: 0.000\n",
      "Class 1 - Precision: 0.500, Recall: 0.088, F1: 0.150\n",
      "Class 2 - Precision: 0.446, Recall: 0.347, F1: 0.390\n",
      "Class 3 - Precision: 0.575, Recall: 0.553, F1: 0.564\n",
      "Class 4 - Precision: 0.243, Recall: 0.395, F1: 0.301\n",
      "Class 5 - Precision: 0.100, Recall: 0.125, F1: 0.111\n",
      "\n",
      "\n"
     ]
    },
    {
     "name": "stderr",
     "output_type": "stream",
     "text": [
      "c:\\Dev\\mestrado\\.venv\\Lib\\site-packages\\sklearn\\metrics\\_classification.py:1531: UndefinedMetricWarning: Recall is ill-defined and being set to 0.0 in labels with no true samples. Use `zero_division` parameter to control this behavior.\n",
      "  _warn_prf(average, modifier, f\"{metric.capitalize()} is\", len(result))\n",
      "c:\\Dev\\mestrado\\.venv\\Lib\\site-packages\\sklearn\\metrics\\_classification.py:1531: UndefinedMetricWarning: Recall is ill-defined and being set to 0.0 in labels with no true samples. Use `zero_division` parameter to control this behavior.\n",
      "  _warn_prf(average, modifier, f\"{metric.capitalize()} is\", len(result))\n"
     ]
    }
   ],
   "source": [
    "## Precision, Recall, F1 and Accuracy:\n",
    "\n",
    "## True labels\n",
    "y_true = df5['tone'].astype(int)     \n",
    "\n",
    "## BERT predictions\n",
    "y_pred = df5['bert_predicted_label'].astype(int)\n",
    "y_pred_gpt = df5['GptClassification:'].astype(int)\n",
    "\n",
    "# Average precision and recall:\n",
    "precision = precision_score(y_true, y_pred, average='macro')\n",
    "recall = recall_score(y_true, y_pred, average='macro')\n",
    "f1_macro = f1_score(y_true, y_pred, average='macro')\n",
    "accuracy_score_fraction = accuracy_score(y_true, y_pred) ## How many correct predictions were made - 'raw'\n",
    "# ----\n",
    "precision_gpt = precision_score(y_true, y_pred_gpt, average='macro')\n",
    "recall_gpt = recall_score(y_true, y_pred_gpt, average='macro')\n",
    "f1_macro_gpt = f1_score(y_true, y_pred_gpt, average='macro')\n",
    "accuracy_score_fraction_gpt = accuracy_score(y_true, y_pred_gpt) ## How many correct predictions were made - 'raw'\n",
    "\n",
    "\n",
    "# Compute precision and recall for each class:\n",
    "precision_per_class_bert = precision_score(y_true, y_pred, average=None)\n",
    "recall_per_class_bert = recall_score(y_true, y_pred, average=None)\n",
    "f1_per_class_bert = f1_score(y_true, y_pred, average=None)\n",
    "# ----\n",
    "precision_per_class_gpt = precision_score(y_true, y_pred_gpt, average=None)\n",
    "recall_per_class_gpt = recall_score(y_true, y_pred_gpt, average=None)\n",
    "f1_per_class_gpt = f1_score(y_true, y_pred_gpt, average=None)\n",
    "\n",
    "# Display average precision and recall\n",
    "print('\\n','BERT Classification metrics:')\n",
    "print('Avg Precision:', round(precision, 3), '\\n',\n",
    "      'Avg Recall:', round(recall, 3), '\\n',\n",
    "      'F1 Macro:', round(f1_macro, 3), '\\n',\n",
    "      'Accuracy:', round(accuracy_score_fraction, 3)\n",
    "    )\n",
    "# Display precision and recall for each class\n",
    "for cls, (prec, rec, f1) in enumerate(zip(precision_per_class_bert, recall_per_class_bert, f1_per_class_bert), start=1):\n",
    "    print(f'Class {cls} - Precision: {round(prec, 3):.3f}, Recall: {round(rec, 3):.3f}, F1: {round(f1, 3):.3f}')\n",
    "    \n",
    "print('\\n','GPT Classification metrics:')\n",
    "print(\n",
    "    'Avg Precision:', round(precision_gpt, 3), '\\n',\n",
    "      'Avg Recall:', round(recall_gpt, 3), '\\n',\n",
    "      'F1 Macro:', round(f1_macro_gpt, 3), '\\n',\n",
    "      'Accuracy:', round(accuracy_score_fraction_gpt, 3)\n",
    "    )\n",
    "for cls, (prec, rec, f1) in enumerate(zip(precision_per_class_gpt, recall_per_class_gpt, f1_per_class_gpt), start=0):\n",
    "    print(f'Class {cls} - Precision: {round(prec, 3):.3f}, Recall: {round(rec, 3):.3f}, F1: {round(f1, 3):.3f}'.format())\n",
    "print('\\n')"
   ]
  },
  {
   "cell_type": "markdown",
   "metadata": {},
   "source": [
    "Looking at the results above, in case of losing them:\n",
    "```python\n",
    "BERT Classification metrics:\n",
    "Avg Precision: 0.588 \n",
    "Avg Recall: 0.547 \n",
    "F1 Macro: 0.557 \n",
    "Accuracy: 0.611\n",
    "Class 1 - Precision: 0.588, Recall: 0.294, F1: 0.392\n",
    "Class 2 - Precision: 0.523, Recall: 0.483, F1: 0.502\n",
    "Class 3 - Precision: 0.696, Recall: 0.749, F1: 0.721\n",
    "Class 4 - Precision: 0.484, Recall: 0.523, F1: 0.503\n",
    "Class 5 - Precision: 0.647, Recall: 0.688, F1: 0.667\n",
    "\n",
    "GPT Classification metrics:\n",
    "Avg Precision: 0.311 \n",
    "Avg Recall: 0.252 \n",
    "F1 Macro: 0.253 \n",
    "Accuracy: 0.429\n",
    "Class 0 - Precision: 0.000, Recall: 0.000, F1: 0.000\n",
    "Class 1 - Precision: 0.500, Recall: 0.088, F1: 0.150\n",
    "Class 2 - Precision: 0.446, Recall: 0.347, F1: 0.390\n",
    "Class 3 - Precision: 0.575, Recall: 0.553, F1: 0.564\n",
    "Class 4 - Precision: 0.243, Recall: 0.395, F1: 0.301\n",
    "Class 5 - Precision: 0.100, Recall: 0.125, F1: 0.111\n",
    "```\n",
    "Some points:\n",
    "- GPT depends on the prompt,\n",
    "- GPT got a lot of wrong predictions, even if the number of predictions looks similar to the original tone."
   ]
  },
  {
   "cell_type": "code",
   "execution_count": 224,
   "metadata": {},
   "outputs": [
    {
     "data": {
      "image/png": "[encoded data removed]",
      "text/plain": [
       "<Figure size 1000x500 with 4 Axes>"
      ]
     },
     "metadata": {},
     "output_type": "display_data"
    }
   ],
   "source": [
    "## Confusion Matrixes:\n",
    "\n",
    "# Define the range of labels explicitly (1 to 5)\n",
    "label_range = [1, 2, 3, 4, 5]\n",
    "\n",
    "# Create a subplot with two side-by-side plots\n",
    "fig, axes = plt.subplots(1, 2, figsize=(10, 5))\n",
    "\n",
    "# Generate the confusion matrix for BERT\n",
    "conf_matrix_bert = confusion_matrix(\n",
    "    df5['tone'].astype(int), \n",
    "    df5['bert_predicted_label'].astype(int), \n",
    "    labels=label_range\n",
    ")\n",
    "\n",
    "# Plot the confusion matrix for BERT\n",
    "sns.heatmap(conf_matrix_bert, annot=True, fmt='d', cmap='Blues', \n",
    "            xticklabels=label_range, yticklabels=label_range, ax=axes[0])\n",
    "axes[0].set_xlabel('Predicted')\n",
    "axes[0].set_ylabel('Real Label')\n",
    "axes[0].set_title('Confusion Matrix BERT')\n",
    "\n",
    "# Generate the confusion matrix for GPT\n",
    "conf_matrix_gpt = confusion_matrix(\n",
    "    df5['tone'].astype(int), \n",
    "    df5['GptClassification:'].astype(int), \n",
    "    labels=label_range\n",
    ")\n",
    "\n",
    "# Plot the confusion matrix for GPT\n",
    "sns.heatmap(conf_matrix_gpt, annot=True, fmt='d', cmap='Blues', \n",
    "            xticklabels=label_range, yticklabels=label_range, ax=axes[1])\n",
    "axes[1].set_xlabel('Predicted')\n",
    "axes[1].set_ylabel('Real Label')\n",
    "axes[1].set_title('Confusion Matrix GPT')\n",
    "\n",
    "# Adjust layout and display the plots\n",
    "plt.tight_layout()\n",
    "plt.show()"
   ]
  },
  {
   "cell_type": "markdown",
   "metadata": {},
   "source": [
    "## Conclusões Parciais e Lista de Tarefas:\n",
    "\n",
    "---\n",
    "**Observações (conclusões parciais):**\n",
    "- Dataset está com uns comentarios negativos que poderiam ser classificados como Neutro+, pode estar trazendo problemas de viés.\n",
    "- Presença de ironia em muitos comentários, o que pode confundir a identificação de politeness (\"the writing is often arrestingly pedestrian\"), GPT a princípio lidou bem com alguns desses casos que eu analisei manualmente (ainda tenho que avaliar mais um ou dois para isso). \n",
    "- Questão de desbalanceamento de classes pode ter trazido uma questão de viés forte também (classe 3 como muito predominante).\n",
    "- Prompt do classificador GPT influencia bastante na classificação, podendo ser um ponto de melhoria neste classificador.\n",
    "\n",
    "<br>\n",
    "\n",
    "**Conversa com a Karin:** \n",
    "- Intro: qual é a proposta do trabalho - verificação do chat gpt como reescrita de comentarios para mais polite, e classificação de politeness. Análise de erros do modelo.\n",
    "    - Avaliar a performance dos meus `3` modelos classificadores\n",
    "    - Avaliação da Reescrita, quais são os casos que ele não escreve bem.\n",
    "    - Anotar manualmente essa reescrita, comparar com a classificação.\n",
    "- Conclusões: \n",
    "    - Comparações entre anotação manual e resultados dos classificadores.\n",
    "\n",
    "**Lista de tarefas compilada (Em ordem):**\n",
    "- [<font color='greenyellow'>**Done**</font>] Tem que rodar para todos os casos, colocar os resultados disso e também os comentarios reescritos em 2 colunas no dataframe de teste \n",
    "- [<font color='greenyellow'>**Done**</font>] Depois rodar a classificação com o GPT mesmo, e colocar o resultado numa outra coluna no mesmo dataset. \n",
    "- [<font color='greenyellow'>**Done**</font>] Formalizar métricas de avaliação, terminar essa parte para depois que treinar outros modelos só replicas as métricas. (Avaliar com métricas de classificação multi-classe)\n",
    "- [<font color='deeppink'>**Think**</font>] Alterar a reescrita polite para apenas reescrever o que é 1 e 2, objetivo é tentar tranformar isso em 4 ou 5.\n",
    "    - Ver sobre fazer anotação manual destes novos reescritos (pessoal da poatek)\n",
    "- [<font color='greenyellow'>**Done**</font>] Treinar o modelo de classificação clássico (NB ou RF) com 5 labels e com 3 labels.\n",
    "- [<font color='greenyellow'>**Done**</font>] Treinar um modelo BERT só com 3 classes, dai fazer TUDO igual msm coisa mas com esse modelo (adaptar os resultados para 1, 2, 3 tendo 1, 2, 3, 4, 5) \\\n",
    "    - Re-Treinar o BERT só com 3 labels.\n",
    "- [<font color='greenyellow'>**Done**</font>] Juntar Labels [1 e 2], [4 e 5], Escrever métricas de avaliação para o classificador BERT e GPT baseadas nessa junção, ver se teve melhora.\n",
    "- [<font color='greenyellow'>**Done**</font>] Avaliar com todas as métricas de performance já estabelecidas anteriormente.\n",
    "- [<font color='deeppink'>**Think**</font>] Transformar o que é 3 em Polite. (finalidade: ver se a reescrita realmente foi eficaz ou não, caso muitos foram para 4 ou 5, ou no caso Polite)\n",
    "    - Ver sobre fazer anotação/avaliação manual destes novos reescritos (pessoal da poatek)\n",
    "- [<font color='deeppink'>**Think**</font>] Avaliar quais são os casos de erro. \n",
    "    - Quais são os maiores motivos de erro: ironia/qual label ele mais erra/as frases têm algo em comum... ?"
   ]
  },
  {
   "cell_type": "markdown",
   "metadata": {},
   "source": [
    "### Reescrita Polite só dos tones 1 e 2:"
   ]
  },
  {
   "cell_type": "code",
   "execution_count": 233,
   "metadata": {},
   "outputs": [
    {
     "data": {
      "text/html": [
       "<div>\n",
       "<style scoped>\n",
       "    .dataframe tbody tr th:only-of-type {\n",
       "        vertical-align: middle;\n",
       "    }\n",
       "\n",
       "    .dataframe tbody tr th {\n",
       "        vertical-align: top;\n",
       "    }\n",
       "\n",
       "    .dataframe thead th {\n",
       "        text-align: right;\n",
       "    }\n",
       "</style>\n",
       "<table border=\"1\" class=\"dataframe\">\n",
       "  <thead>\n",
       "    <tr style=\"text-align: right;\">\n",
       "      <th></th>\n",
       "      <th>tone</th>\n",
       "      <th>bert_predicted_label</th>\n",
       "      <th>GptClassification:</th>\n",
       "      <th>bert_rewritten_predicted_label</th>\n",
       "      <th>GptClassification_rewritten:</th>\n",
       "    </tr>\n",
       "  </thead>\n",
       "  <tbody>\n",
       "    <tr>\n",
       "      <th>642</th>\n",
       "      <td>2</td>\n",
       "      <td>4</td>\n",
       "      <td>3</td>\n",
       "      <td>3</td>\n",
       "      <td>4</td>\n",
       "    </tr>\n",
       "    <tr>\n",
       "      <th>506</th>\n",
       "      <td>2</td>\n",
       "      <td>2</td>\n",
       "      <td>2</td>\n",
       "      <td>2</td>\n",
       "      <td>4</td>\n",
       "    </tr>\n",
       "    <tr>\n",
       "      <th>191</th>\n",
       "      <td>1</td>\n",
       "      <td>1</td>\n",
       "      <td>3</td>\n",
       "      <td>4</td>\n",
       "      <td>5</td>\n",
       "    </tr>\n",
       "    <tr>\n",
       "      <th>719</th>\n",
       "      <td>2</td>\n",
       "      <td>3</td>\n",
       "      <td>1</td>\n",
       "      <td>4</td>\n",
       "      <td>3</td>\n",
       "    </tr>\n",
       "    <tr>\n",
       "      <th>1148</th>\n",
       "      <td>2</td>\n",
       "      <td>2</td>\n",
       "      <td>2</td>\n",
       "      <td>3</td>\n",
       "      <td>4</td>\n",
       "    </tr>\n",
       "    <tr>\n",
       "      <th>...</th>\n",
       "      <td>...</td>\n",
       "      <td>...</td>\n",
       "      <td>...</td>\n",
       "      <td>...</td>\n",
       "      <td>...</td>\n",
       "    </tr>\n",
       "    <tr>\n",
       "      <th>130</th>\n",
       "      <td>2</td>\n",
       "      <td>2</td>\n",
       "      <td>2</td>\n",
       "      <td>2</td>\n",
       "      <td>4</td>\n",
       "    </tr>\n",
       "    <tr>\n",
       "      <th>347</th>\n",
       "      <td>1</td>\n",
       "      <td>2</td>\n",
       "      <td>2</td>\n",
       "      <td>2</td>\n",
       "      <td>4</td>\n",
       "    </tr>\n",
       "    <tr>\n",
       "      <th>1063</th>\n",
       "      <td>2</td>\n",
       "      <td>2</td>\n",
       "      <td>3</td>\n",
       "      <td>2</td>\n",
       "      <td>4</td>\n",
       "    </tr>\n",
       "    <tr>\n",
       "      <th>1686</th>\n",
       "      <td>2</td>\n",
       "      <td>2</td>\n",
       "      <td>3</td>\n",
       "      <td>3</td>\n",
       "      <td>4</td>\n",
       "    </tr>\n",
       "    <tr>\n",
       "      <th>237</th>\n",
       "      <td>2</td>\n",
       "      <td>3</td>\n",
       "      <td>4</td>\n",
       "      <td>3</td>\n",
       "      <td>4</td>\n",
       "    </tr>\n",
       "  </tbody>\n",
       "</table>\n",
       "<p>152 rows × 5 columns</p>\n",
       "</div>"
      ],
      "text/plain": [
       "      tone bert_predicted_label GptClassification:  \\\n",
       "642      2                    4                  3   \n",
       "506      2                    2                  2   \n",
       "191      1                    1                  3   \n",
       "719      2                    3                  1   \n",
       "1148     2                    2                  2   \n",
       "...    ...                  ...                ...   \n",
       "130      2                    2                  2   \n",
       "347      1                    2                  2   \n",
       "1063     2                    2                  3   \n",
       "1686     2                    2                  3   \n",
       "237      2                    3                  4   \n",
       "\n",
       "     bert_rewritten_predicted_label GptClassification_rewritten:  \n",
       "642                               3                            4  \n",
       "506                               2                            4  \n",
       "191                               4                            5  \n",
       "719                               4                            3  \n",
       "1148                              3                            4  \n",
       "...                             ...                          ...  \n",
       "130                               2                            4  \n",
       "347                               2                            4  \n",
       "1063                              2                            4  \n",
       "1686                              3                            4  \n",
       "237                               3                            4  \n",
       "\n",
       "[152 rows x 5 columns]"
      ]
     },
     "execution_count": 233,
     "metadata": {},
     "output_type": "execute_result"
    }
   ],
   "source": [
    "df5.loc[(df5['tone'].astype(int) == 1) | (df5['tone'].astype(int) == 2)][['tone', 'bert_predicted_label', 'GptClassification:', 'bert_rewritten_predicted_label', 'GptClassification_rewritten:']]"
   ]
  },
  {
   "cell_type": "markdown",
   "metadata": {},
   "source": [
    "### Multinomial Naive Bayes:\n"
   ]
  },
  {
   "cell_type": "code",
   "execution_count": null,
   "metadata": {},
   "outputs": [
    {
     "name": "stdout",
     "output_type": "stream",
     "text": [
      "              precision    recall  f1-score   support\n",
      "\n",
      "           0       0.56      0.15      0.23        34\n",
      "           1       0.43      0.35      0.38       118\n",
      "           2       0.56      0.78      0.65       235\n",
      "           3       0.39      0.22      0.28        86\n",
      "           4       0.50      0.25      0.33        16\n",
      "\n",
      "    accuracy                           0.52       489\n",
      "   macro avg       0.49      0.35      0.38       489\n",
      "weighted avg       0.50      0.52      0.48       489\n",
      "\n"
     ]
    }
   ],
   "source": [
    "# Load BERT tokenizer\n",
    "tokenizer = AutoTokenizer.from_pretrained('bert-treined_3labels')\n",
    "\n",
    "# Tokenize the text\n",
    "def tokenize_texts(texts):\n",
    "    return [\" \".join(tokenizer.tokenize(text)) for text in texts]\n",
    "\n",
    "tokenized_texts = tokenize_texts(X_train)\n",
    "\n",
    "# Convert tokenized texts to feature vectors (Bag-of-Words or TF-IDF)\n",
    "vectorizer = TfidfVectorizer()  \n",
    "X_train_features = vectorizer.fit_transform(tokenized_texts)\n",
    "\n",
    "# Train the MNB model\n",
    "clf = MultinomialNB(alpha=0.1)\n",
    "clf.fit(X_train_features, y_train)\n",
    "\n",
    "# Tokenize and vectorize test data\n",
    "tokenized_test = tokenize_texts(X_test)\n",
    "X_test_features = vectorizer.transform(tokenized_test)\n",
    "\n",
    "# Predict and evaluate\n",
    "y_pred = clf.predict(X_test_features)\n",
    "print(classification_report(y_test, y_pred))"
   ]
  },
  {
   "cell_type": "code",
   "execution_count": null,
   "metadata": {},
   "outputs": [
    {
     "name": "stdout",
     "output_type": "stream",
     "text": [
      "              precision    recall  f1-score   support\n",
      "\n",
      "           0       0.28      0.32      0.30        34\n",
      "           1       0.47      0.43      0.45       118\n",
      "           2       0.66      0.53      0.58       235\n",
      "           3       0.32      0.44      0.37        86\n",
      "           4       0.18      0.38      0.24        16\n",
      "\n",
      "    accuracy                           0.47       489\n",
      "   macro avg       0.38      0.42      0.39       489\n",
      "weighted avg       0.51      0.47      0.48       489\n",
      "\n"
     ]
    }
   ],
   "source": [
    "## Resampling attemptive for Naive Bayes model:\n",
    "\n",
    "# Apply SMOTE to the training data\n",
    "smote=SMOTE(random_state=42)\n",
    "X_resampled, y_resampled =  smote.fit_resample(X_train_features, y_train)\n",
    "\n",
    "## Fit again the model but with resampled data\n",
    "re_clf = MultinomialNB(alpha=0.1) # alpha = 0.1 was due gridsearch realized in another parallel study\n",
    "re_clf.fit(X_resampled, y_resampled)\n",
    "\n",
    "# Predict and evaluate\n",
    "y_pred_re = re_clf.predict(X_test_features)\n",
    "print(classification_report(y_test, y_pred_re))"
   ]
  },
  {
   "cell_type": "code",
   "execution_count": 275,
   "metadata": {},
   "outputs": [
    {
     "data": {
      "text/plain": [
       "<4410x4671 sparse matrix of type '<class 'numpy.float64'>'\n",
       "\twith 122137 stored elements in Compressed Sparse Row format>"
      ]
     },
     "execution_count": 275,
     "metadata": {},
     "output_type": "execute_result"
    }
   ],
   "source": [
    "X_resampled"
   ]
  },
  {
   "cell_type": "code",
   "execution_count": 256,
   "metadata": {},
   "outputs": [
    {
     "data": {
      "image/png": "[encoded data removed]",
      "text/plain": [
       "<Figure size 640x480 with 1 Axes>"
      ]
     },
     "metadata": {},
     "output_type": "display_data"
    }
   ],
   "source": [
    "y_resampled.value_counts().plot(kind='bar')\n",
    "plt.tick_params(axis='x', rotation=0)"
   ]
  },
  {
   "cell_type": "markdown",
   "metadata": {},
   "source": [
    "### 3 Label Classification:"
   ]
  },
  {
   "cell_type": "code",
   "execution_count": 291,
   "metadata": {},
   "outputs": [
    {
     "name": "stdout",
     "output_type": "stream",
     "text": [
      "Simplf_Tone\n",
      "1     764\n",
      "2    1117\n",
      "3     560\n",
      "Name: count, dtype: int64\n",
      "Tone\n",
      "1     197\n",
      "2     567\n",
      "3    1117\n",
      "4     459\n",
      "5     101\n",
      "Name: count, dtype: int64\n"
     ]
    }
   ],
   "source": [
    "# 3 Labels: [1] = Impolite/Highly Impolite, [2] = Neutral, [3] = Polite/Highly Polite\n",
    "TargetDf2['Simplf_Tone'] = TargetDf2['Tone'].apply(lambda x: 1 if x == 1 or x == 2 else 2 if x == 3 else 3)\n",
    "pprint(TargetDf2['Simplf_Tone'].value_counts().sort_index())\n",
    "pprint(TargetDf2['Tone'].value_counts().sort_index())"
   ]
  },
  {
   "cell_type": "code",
   "execution_count": 302,
   "metadata": {},
   "outputs": [],
   "source": [
    "X_train, X_test, y_train, y_test = train_test_split(TargetDf2['TransformedReview'], TargetDf2['Simplf_Tone'], test_size=0.2, random_state=42)\n",
    "\n",
    "y_train = y_train - 1\n",
    "y_test = y_test - 1"
   ]
  },
  {
   "cell_type": "code",
   "execution_count": 308,
   "metadata": {},
   "outputs": [
    {
     "name": "stderr",
     "output_type": "stream",
     "text": [
      "Some weights of BertForSequenceClassification were not initialized from the model checkpoint at bert-base-uncased and are newly initialized: ['classifier.bias', 'classifier.weight']\n",
      "You should probably TRAIN this model on a down-stream task to be able to use it for predictions and inference.\n"
     ]
    },
    {
     "data": {
      "application/vnd.jupyter.widget-view+json": {
       "model_id": "8a22e14824b943eca59bd9c6f31fb46f",
       "version_major": 2,
       "version_minor": 0
      },
      "text/plain": [
       "  0%|          | 0/732 [00:00<?, ?it/s]"
      ]
     },
     "metadata": {},
     "output_type": "display_data"
    },
    {
     "name": "stdout",
     "output_type": "stream",
     "text": [
      "{'loss': 0.9833, 'grad_norm': 5.55402135848999, 'learning_rate': 4.316939890710383e-05, 'epoch': 0.41}\n",
      "{'loss': 0.9312, 'grad_norm': 22.300138473510742, 'learning_rate': 3.633879781420765e-05, 'epoch': 0.82}\n"
     ]
    },
    {
     "data": {
      "application/vnd.jupyter.widget-view+json": {
       "model_id": "b1f7e4b70d74411ea131140f74ffd46d",
       "version_major": 2,
       "version_minor": 0
      },
      "text/plain": [
       "  0%|          | 0/62 [00:00<?, ?it/s]"
      ]
     },
     "metadata": {},
     "output_type": "display_data"
    },
    {
     "name": "stdout",
     "output_type": "stream",
     "text": [
      "{'eval_loss': 0.8851929306983948, 'eval_accuracy': 0.6339468302658486, 'eval_runtime': 36.9264, 'eval_samples_per_second': 13.243, 'eval_steps_per_second': 1.679, 'epoch': 0.82}\n",
      "{'loss': 0.7894, 'grad_norm': 13.957415580749512, 'learning_rate': 2.9508196721311478e-05, 'epoch': 1.23}\n",
      "{'loss': 0.6775, 'grad_norm': 14.270018577575684, 'learning_rate': 2.2677595628415303e-05, 'epoch': 1.64}\n"
     ]
    },
    {
     "data": {
      "application/vnd.jupyter.widget-view+json": {
       "model_id": "59710ba292064fd5b16ebb4d2d547bde",
       "version_major": 2,
       "version_minor": 0
      },
      "text/plain": [
       "  0%|          | 0/62 [00:00<?, ?it/s]"
      ]
     },
     "metadata": {},
     "output_type": "display_data"
    },
    {
     "name": "stdout",
     "output_type": "stream",
     "text": [
      "{'eval_loss': 0.8322334289550781, 'eval_accuracy': 0.6666666666666666, 'eval_runtime': 36.8145, 'eval_samples_per_second': 13.283, 'eval_steps_per_second': 1.684, 'epoch': 1.64}\n",
      "{'loss': 0.6418, 'grad_norm': 5.558323860168457, 'learning_rate': 1.5846994535519128e-05, 'epoch': 2.05}\n",
      "{'loss': 0.4111, 'grad_norm': 6.908438205718994, 'learning_rate': 9.016393442622952e-06, 'epoch': 2.46}\n"
     ]
    },
    {
     "data": {
      "application/vnd.jupyter.widget-view+json": {
       "model_id": "c1ebc9837c904feabdf43cfddd9c9619",
       "version_major": 2,
       "version_minor": 0
      },
      "text/plain": [
       "  0%|          | 0/62 [00:00<?, ?it/s]"
      ]
     },
     "metadata": {},
     "output_type": "display_data"
    },
    {
     "name": "stdout",
     "output_type": "stream",
     "text": [
      "{'eval_loss': 0.9981352090835571, 'eval_accuracy': 0.6646216768916156, 'eval_runtime': 40.2883, 'eval_samples_per_second': 12.138, 'eval_steps_per_second': 1.539, 'epoch': 2.46}\n",
      "{'loss': 0.4113, 'grad_norm': 17.019338607788086, 'learning_rate': 2.185792349726776e-06, 'epoch': 2.87}\n",
      "{'train_runtime': 1926.7341, 'train_samples_per_second': 3.039, 'train_steps_per_second': 0.38, 'train_loss': 0.6798012855925847, 'epoch': 3.0}\n"
     ]
    }
   ],
   "source": [
    "## BERT Classifier, Train:\n",
    "\n",
    "model_base = 'bert-base-uncased'                          ## >>> Uncomment this in case of fine-tuning the model (commented here to avoid running everything)\n",
    "tokenizer2 = AutoTokenizer.from_pretrained(model_base) \n",
    "\n",
    "class CustomDataset(Dataset):\n",
    "    def __init__(self, texts, labels, tokenizer):\n",
    "        self.texts = texts\n",
    "        self.labels = labels\n",
    "        self.tokenizer = tokenizer\n",
    "\n",
    "    def __len__(self):\n",
    "        return len(self.texts)\n",
    "\n",
    "    def __getitem__(self, idx):\n",
    "        # Tokenize the text\n",
    "        encoding = self.tokenizer(\n",
    "            self.texts[idx],\n",
    "            padding=\"max_length\",\n",
    "            truncation=True,\n",
    "            max_length=128,  # Adjust this as needed\n",
    "            return_tensors=\"pt\",\n",
    "        )\n",
    "        # Return a dictionary with the required fields\n",
    "        return {\n",
    "            \"input_ids\": encoding[\"input_ids\"].squeeze(0),  # Remove batch dimension\n",
    "            \"attention_mask\": encoding[\"attention_mask\"].squeeze(0),\n",
    "            \"labels\": torch.tensor(self.labels[idx], dtype=torch.long),  # Label tensor\n",
    "        }\n",
    "\n",
    "# Prepare the datasets\n",
    "train_dataset_3labels = CustomDataset(X_train.tolist(), y_train.tolist(), tokenizer2)\n",
    "test_dataset_3labels = CustomDataset(X_test.tolist(), y_test.tolist(), tokenizer2)\n",
    "data_collator_3labels = DataCollatorWithPadding(tokenizer=tokenizer2)\n",
    "\n",
    "output_dir = './bert_3label'\n",
    "training_args = TrainingArguments(\n",
    "    output_dir=output_dir,                    # Nome e diretório do modelo final\n",
    "    num_train_epochs=3,                       # Número de épocas\n",
    "    per_device_train_batch_size=8,            # Tamanho do lote (batch) por GPU\n",
    "    per_device_eval_batch_size=8,             # Tamanho do lote (batch) para validação por GPU\n",
    "    weight_decay=0.01,                        # Força de decaimento\n",
    "    logging_dir='./logs',                     # Pasta para salvar logs\n",
    "    logging_steps=100,                        # Logar a cada N etapas\n",
    "    eval_strategy='steps',                    # Estratégia de avaliação\n",
    "    eval_steps=200,                           # Rodar avaliação a cada N etapas\n",
    "    save_total_limit=2,                       # Salvar apenas os ultimos N checkpoints\n",
    "    save_steps=200,                           # Salvar checkpoint a cada N etapas.\n",
    "    load_best_model_at_end=True,              # Carregar o melhor modelo no fim\n",
    "    metric_for_best_model='accuracy',         # Métrica para encontrar o melhor modelo\n",
    ")\n",
    "\n",
    "model_3labels = AutoModelForSequenceClassification.from_pretrained(model_base, num_labels=3)\n",
    "\n",
    "metric2 = evaluate.load(\"accuracy\")\n",
    "def compute_metrics(eval_pred):\n",
    "    logits, labels = eval_pred\n",
    "    predictions = np.argmax(logits, axis=-1)\n",
    "    return metric2.compute(predictions=predictions, references=labels)\n",
    "\n",
    "trainer2 = Trainer(\n",
    "    model_3labels,\n",
    "    training_args,\n",
    "    train_dataset=train_dataset_3labels,\n",
    "    eval_dataset=test_dataset_3labels,\n",
    "    data_collator=data_collator_3labels,\n",
    "    processing_class=tokenizer2,\n",
    "    compute_metrics=compute_metrics,\n",
    ")\n",
    "\n",
    "trainer2.train() ## ~28-31 min\n",
    "\n",
    "# simple_date = date.today().strftime('%d%m%y')\n",
    "trainer2.save_model('bert-treined_3labels')"
   ]
  },
  {
   "cell_type": "code",
   "execution_count": 309,
   "metadata": {},
   "outputs": [
    {
     "data": {
      "text/plain": [
       "[{'label': 'LABEL_0', 'score': 0.8649019002914429},\n",
       " {'label': 'LABEL_1', 'score': 0.11038564145565033},\n",
       " {'label': 'LABEL_2', 'score': 0.02471250668168068}]"
      ]
     },
     "execution_count": 309,
     "metadata": {},
     "output_type": "execute_result"
    }
   ],
   "source": [
    "## Option: Load from local (already trained)\n",
    "local_path = 'bert-treined_3labels'\n",
    "# model_trained_3labels = AutoModelForSequenceClassification.from_pretrained(local_path)\n",
    "\n",
    "model_trained_3labels = trainer2.model\n",
    "tokenizer2 = AutoTokenizer.from_pretrained(local_path)\n",
    "\n",
    "# New Prediction\n",
    "pipe_3labels = TextClassificationPipeline(model=trainer2.model, tokenizer=tokenizer2)\n",
    "\n",
    "# Sample prediction:\n",
    "prediction = pipe_3labels(\"This article looks like shit\", top_k=None)\n",
    "prediction"
   ]
  },
  {
   "cell_type": "code",
   "execution_count": 304,
   "metadata": {},
   "outputs": [
    {
     "name": "stdout",
     "output_type": "stream",
     "text": [
      "('```json\\n'\n",
      " '{\\n'\n",
      " '  \"label\": \"2\",\\n'\n",
      " '  \"explanation\": \"The comment is neutral as it expresses a personal opinion '\n",
      " 'without using impolite language. It acknowledges the excitement of the topic '\n",
      " 'while expressing skepticism in a straightforward manner.\"\\n'\n",
      " '}\\n'\n",
      " '```')\n"
     ]
    }
   ],
   "source": [
    "## GPT Classifier:\n",
    "\n",
    "## Classify with GPT-4o:\n",
    "\n",
    "def GptClassification_3labels(Sample: str):\n",
    "    \n",
    "    PromptClassify = [\n",
    "            {\"role\": \"system\", \"content\":   \"You are a helpful technical assistant,\\\n",
    "                                            specialist in non violent communication, politeness and all communication matters.\\\n",
    "                                            You are rating texts on a scale of 1 to 3 for politeness, from Impolite (1) to Polite (3), (2) would be for Neutral comments.\"}, \n",
    "            {\"role\": \"user\", \"content\":     \"In a scale of 1, 2 or 3 classify the comment about it's Politeness.\\\n",
    "                                            In a json format: {'label':'_ClassificationResult_', 'explanation':'_Explanation_'} \\\n",
    "                                            Bring up the politeness rating of the comment at the _ClassificationResult_, then after a 2 line explanation why at the _Explanation_, \\\n",
    "                                            of this comment:\"+Sample},\n",
    "        ]\n",
    "        \n",
    "    completion = client.chat.completions.create(\n",
    "        model=\"gpt-4o\",\n",
    "        messages = PromptClassify,\n",
    "        temperature = 0.1\n",
    "        )\n",
    "\n",
    "    # return completion1.choices[0].message.content, completion2.choices[0].message.content\n",
    "    return completion.choices[0].message.content\n",
    "\n",
    "## Function that returns a json from a string in json format\n",
    "def SimpleFormatting(text):\n",
    "    '''function that returns a json from a string in json format'''    \n",
    "    json_string = text.strip('```json').strip()\n",
    "    return json.loads(json_string)\n",
    "\n",
    "\n",
    "# Cache results to avoid duplicate API calls\n",
    "result_cache = {}\n",
    "   \n",
    "## Examples:\n",
    "comment = \"although finding novel gan applications is an exciting topic i am \\\n",
    "    not really convinced that ica with the proposed wasserstein gan based \\\n",
    "    technique fulfills this goal\" \n",
    "# comment = \"the writing is often arrestingly pedestrian\"\n",
    "\n",
    "# rewritten_comment = \"while exploring novel gan applications is indeed an exciting topic i am not \\\n",
    "#     entirely convinced that the proposed ica with the wasserstein gan based \\\n",
    "#     technique fully achieves this objective.\"\n",
    "# rewritten_comment = \"The writing tends to be straightforward and uncomplicated.\"\n",
    "    \n",
    "rank = GptClassification_3labels(comment)\n",
    "pprint(rank)\n",
    "# print('\\n')\n",
    "# pprint(rank2)"
   ]
  },
  {
   "cell_type": "code",
   "execution_count": 414,
   "metadata": {},
   "outputs": [
    {
     "name": "stdout",
     "output_type": "stream",
     "text": [
      "              precision    recall  f1-score   support\n",
      "\n",
      "           0       0.61      0.55      0.58       152\n",
      "           1       0.60      0.71      0.65       235\n",
      "           2       0.47      0.34      0.40       102\n",
      "\n",
      "    accuracy                           0.58       489\n",
      "   macro avg       0.56      0.53      0.54       489\n",
      "weighted avg       0.58      0.58      0.58       489\n",
      "\n"
     ]
    }
   ],
   "source": [
    "## Multinomial Naive Bayes Classifier 3 labels:\n",
    "\n",
    "# without resampling:\n",
    "\n",
    "# Tokenize the text\n",
    "def tokenize_texts(texts):\n",
    "    return [\" \".join(tokenizer.tokenize(text)) for text in texts] # By here I already have my tokenizer\n",
    "\n",
    "tokenized_texts = tokenize_texts(X_train)\n",
    "\n",
    "# Convert tokenized texts to feature vectors (Bag-of-Words or TF-IDF)\n",
    "vectorizer = TfidfVectorizer()  \n",
    "X_train_features = vectorizer.fit_transform(tokenized_texts)\n",
    "\n",
    "# Train the MNB model\n",
    "clf = MultinomialNB(alpha=0.1)\n",
    "clf.fit(X_train_features, y_train)\n",
    "\n",
    "# Tokenize and vectorize test data\n",
    "tokenized_test = tokenize_texts(X_test)\n",
    "X_test_features = vectorizer.transform(tokenized_test)\n",
    "\n",
    "# Predict and evaluate\n",
    "y_pred = clf.predict(X_test_features)\n",
    "# evaluation_dataframe['nb_3labels_classification'] = y_pred ## ADHOC ADDITION\n",
    "print(classification_report(y_test, y_pred))"
   ]
  },
  {
   "cell_type": "code",
   "execution_count": 311,
   "metadata": {},
   "outputs": [
    {
     "name": "stdout",
     "output_type": "stream",
     "text": [
      "              precision    recall  f1-score   support\n",
      "\n",
      "           0       0.60      0.61      0.60       152\n",
      "           1       0.65      0.54      0.59       235\n",
      "           2       0.39      0.53      0.45       102\n",
      "\n",
      "    accuracy                           0.56       489\n",
      "   macro avg       0.54      0.56      0.55       489\n",
      "weighted avg       0.58      0.56      0.56       489\n",
      "\n"
     ]
    }
   ],
   "source": [
    "# with resampling:\n",
    "\n",
    "# Apply SMOTE to the training data\n",
    "smote=SMOTE(random_state=42)\n",
    "X_resampled, y_resampled =  smote.fit_resample(X_train_features, y_train)\n",
    "\n",
    "## Fit again the model but with resampled data\n",
    "re_clf = MultinomialNB(alpha=0.1) # alpha = 0.1 was due gridsearch realized in another parallel study\n",
    "re_clf.fit(X_resampled, y_resampled)\n",
    "\n",
    "# Predict and evaluate\n",
    "y_pred_re = re_clf.predict(X_test_features)\n",
    "print(classification_report(y_test, y_pred_re))"
   ]
  },
  {
   "cell_type": "markdown",
   "metadata": {},
   "source": [
    "### 3 Label Classification Evaluation:"
   ]
  },
  {
   "cell_type": "code",
   "execution_count": null,
   "metadata": {},
   "outputs": [],
   "source": [
    "# Here I have to put the prediction results in a dataframe and evaluate them like the others.\n",
    "evaluation_dataframe = df5.copy()"
   ]
  },
  {
   "cell_type": "code",
   "execution_count": 328,
   "metadata": {},
   "outputs": [
    {
     "name": "stdout",
     "output_type": "stream",
     "text": [
      "\n",
      " BERT Classification metrics:\n",
      "Avg Precision: 0.657 \n",
      " Avg Recall: 0.618 \n",
      " F1 Macro: 0.631 \n",
      " Accuracy: 0.656\n",
      "Class 1 - Precision: 0.677, Recall: 0.579, F1: 0.624\n",
      "Class 2 - Precision: 0.650, Recall: 0.774, F1: 0.707\n",
      "Class 3 - Precision: 0.646, Recall: 0.500, F1: 0.564\n"
     ]
    }
   ],
   "source": [
    "## Bert 3 labels:\n",
    "\n",
    "# Label correctly the results\n",
    "def ClassificationResult_3labels(classf_results: list, review_text: str, index, prediction):\n",
    "    final_result = {'label':'', 'score':0} # starts with zero\n",
    "    # Classification based on higher score:\n",
    "    for result in prediction:\n",
    "        if round(result['score'],5) > final_result['score']:\n",
    "            final_result = {\n",
    "                'label': result['label'],\n",
    "                'score': round(result['score'],5)}\n",
    "    # Append classf_results   \n",
    "    match final_result['label']:\n",
    "        case 'LABEL_0': # Impolite+\n",
    "            classf_results.append({\n",
    "                'review':review_text,\n",
    "                'label':'1',\n",
    "                'score':final_result['score'],\n",
    "                'index':index,}) \n",
    "        case 'LABEL_1': # Neutral\n",
    "            classf_results.append({\n",
    "                'review':review_text,\n",
    "                'label':'2',\n",
    "                'score':final_result['score'],\n",
    "                'index':index,}) \n",
    "        case 'LABEL_2': # Polite+\n",
    "            classf_results.append({\n",
    "                'review':review_text,\n",
    "                'label':'3',\n",
    "                'score':final_result['score'],\n",
    "                'index':index,}) \n",
    "\n",
    "classf_results = [] \n",
    "test_dataframe = pd.DataFrame({'review': X_test, 'tone': y_test})\n",
    "\n",
    "for index, row in evaluation_dataframe.iterrows():\n",
    "    prediction = pipe_3labels(row['review'], top_k=None)\n",
    "    ClassificationResult(classf_results, row['review'], index, prediction)\n",
    "## ~ 20s - 3min \n",
    "\n",
    "predicted_dataframe = pd.DataFrame(classf_results)\n",
    "predicted_dataframe.set_index('index', inplace=True)\n",
    "evaluation_dataframe = pd.concat([evaluation_dataframe, predicted_dataframe[['label','score']]], axis=1)\n",
    "evaluation_dataframe.rename(columns={'label':'bert_predicted_label_3classes'}, inplace=True)\n",
    "\n",
    "# Simplified Tone, HI and I = 1, N = 2, P and HP = 3\n",
    "evaluation_dataframe['Simplf_Tone'] = evaluation_dataframe['tone'].apply(lambda x: 1 if x == 1 or x == 2 else 2 if x == 3 else 3)\n",
    "\n",
    "## True labels\n",
    "y_true = evaluation_dataframe['Simplf_Tone'].astype(int)     \n",
    "\n",
    "## BERT predictions\n",
    "y_pred = evaluation_dataframe['bert_predicted_label_3classes'].astype(int)\n",
    "\n",
    "# Average precision and recall:\n",
    "precision = precision_score(y_true, y_pred, average='macro')\n",
    "recall = recall_score(y_true, y_pred, average='macro')\n",
    "f1_macro = f1_score(y_true, y_pred, average='macro')\n",
    "accuracy_score_fraction = accuracy_score(y_true, y_pred) ## How many correct predictions were made - 'raw'\n",
    "\n",
    "# Compute precision and recall for each class:\n",
    "precision_per_class_bert = precision_score(y_true, y_pred, average=None)\n",
    "recall_per_class_bert = recall_score(y_true, y_pred, average=None)\n",
    "f1_per_class_bert = f1_score(y_true, y_pred, average=None)\n",
    "\n",
    "# Display average precision and recall\n",
    "print('\\n','BERT Classification metrics:')\n",
    "print('Avg Precision:', round(precision, 3), '\\n',\n",
    "      'Avg Recall:', round(recall, 3), '\\n',\n",
    "      'F1 Macro:', round(f1_macro, 3), '\\n',\n",
    "      'Accuracy:', round(accuracy_score_fraction, 3)\n",
    "    )\n",
    "\n",
    "# Display precision and recall for each class\n",
    "for cls, (prec, rec, f1) in enumerate(zip(precision_per_class_bert, recall_per_class_bert, f1_per_class_bert), start=1):\n",
    "    print(f'Class {cls} - Precision: {round(prec, 3):.3f}, Recall: {round(rec, 3):.3f}, F1: {round(f1, 3):.3f}')"
   ]
  },
  {
   "cell_type": "code",
   "execution_count": 329,
   "metadata": {},
   "outputs": [
    {
     "name": "stderr",
     "output_type": "stream",
     "text": [
      "  8%|▊         | 40/489 [00:57<09:20,  1.25s/it]"
     ]
    },
    {
     "name": "stdout",
     "output_type": "stream",
     "text": [
      "Exception at json dump (moving forward): Expecting property name enclosed in double quotes: line 2 column 3 (char 4)\n"
     ]
    },
    {
     "name": "stderr",
     "output_type": "stream",
     "text": [
      " 17%|█▋        | 81/489 [01:48<06:56,  1.02s/it]"
     ]
    },
    {
     "name": "stdout",
     "output_type": "stream",
     "text": [
      "Exception at json dump (moving forward): Expecting property name enclosed in double quotes: line 1 column 2 (char 1)\n"
     ]
    },
    {
     "name": "stderr",
     "output_type": "stream",
     "text": [
      " 25%|██▌       | 124/489 [02:54<08:23,  1.38s/it]"
     ]
    },
    {
     "name": "stdout",
     "output_type": "stream",
     "text": [
      "Exception at json dump (moving forward): Expecting property name enclosed in double quotes: line 1 column 2 (char 1)\n"
     ]
    },
    {
     "name": "stderr",
     "output_type": "stream",
     "text": [
      " 29%|██▉       | 143/489 [03:17<07:00,  1.22s/it]"
     ]
    },
    {
     "name": "stdout",
     "output_type": "stream",
     "text": [
      "Exception at json dump (moving forward): Expecting property name enclosed in double quotes: line 2 column 3 (char 4)\n"
     ]
    },
    {
     "name": "stderr",
     "output_type": "stream",
     "text": [
      " 74%|███████▍  | 362/489 [07:49<02:25,  1.14s/it]"
     ]
    },
    {
     "name": "stdout",
     "output_type": "stream",
     "text": [
      "Exception at json dump (moving forward): Expecting property name enclosed in double quotes: line 1 column 2 (char 1)\n"
     ]
    },
    {
     "name": "stderr",
     "output_type": "stream",
     "text": [
      " 91%|█████████ | 445/489 [09:37<00:56,  1.28s/it]"
     ]
    },
    {
     "name": "stdout",
     "output_type": "stream",
     "text": [
      "Exception at json dump (moving forward): Expecting property name enclosed in double quotes: line 1 column 2 (char 1)\n"
     ]
    },
    {
     "name": "stderr",
     "output_type": "stream",
     "text": [
      "100%|██████████| 489/489 [10:27<00:00,  1.28s/it]\n"
     ]
    }
   ],
   "source": [
    "## GPT 3 Labels evaluation:\n",
    "\n",
    "## Function that returns a json from a string in json format\n",
    "def SimpleFormatting(text):\n",
    "    '''function that returns a json from a string in json format'''    \n",
    "    json_string = text.strip('```json').strip()\n",
    "    return json.loads(json_string)\n",
    "\n",
    "\n",
    "# Cache results to avoid duplicate API calls\n",
    "result_cache = {}\n",
    "\n",
    "## Function to classify with GPT each review\n",
    "def process_review(review):\n",
    "    if review in result_cache:\n",
    "        return result_cache[review]\n",
    "    try:\n",
    "        # Call the GPT classification API\n",
    "        rank = GptClassification_3labels(review)\n",
    "        rank = SimpleFormatting(rank)\n",
    "        result_cache[review] = rank['label']\n",
    "        return rank['label']\n",
    "    except Exception as e:\n",
    "        print('Exception at json dump (moving forward):', e)\n",
    "        return None\n",
    "\n",
    "# Apply the function to the entire column\n",
    "tqdm.pandas()  # Initialize tqdm for Pandas\n",
    "evaluation_dataframe['GptClassification_3labels'] = evaluation_dataframe['review'].progress_apply(process_review)"
   ]
  },
  {
   "cell_type": "code",
   "execution_count": 344,
   "metadata": {},
   "outputs": [
    {
     "data": {
      "text/plain": [
       "GptClassification_3labels\n",
       "0      6\n",
       "1     50\n",
       "2    365\n",
       "3     68\n",
       "Name: count, dtype: int64"
      ]
     },
     "execution_count": 344,
     "metadata": {},
     "output_type": "execute_result"
    }
   ],
   "source": [
    "# Set null values to 0\n",
    "evaluation_dataframe.loc[evaluation_dataframe['GptClassification_3labels'].isnull(), 'GptClassification_3labels']\n",
    "evaluation_dataframe['GptClassification_3labels'].astype(int).value_counts().sort_index()"
   ]
  },
  {
   "cell_type": "code",
   "execution_count": 346,
   "metadata": {},
   "outputs": [
    {
     "data": {
      "text/plain": [
       "Simplf_Tone\n",
       "1    152\n",
       "2    235\n",
       "3    102\n",
       "Name: count, dtype: int64"
      ]
     },
     "execution_count": 346,
     "metadata": {},
     "output_type": "execute_result"
    }
   ],
   "source": [
    "evaluation_dataframe['Simplf_Tone'].astype(int).value_counts().sort_index()"
   ]
  },
  {
   "cell_type": "code",
   "execution_count": 348,
   "metadata": {},
   "outputs": [
    {
     "name": "stdout",
     "output_type": "stream",
     "text": [
      "\n",
      " GPT Classification metrics:\n",
      "Avg Precision: 0.483 \n",
      " Avg Recall: 0.372 \n",
      " F1 Macro: 0.379 \n",
      " Accuracy: 0.575\n",
      "Class 0 - Precision: 0.000, Recall: 0.000, F1: 0.000\n",
      "Class 1 - Precision: 0.860, Recall: 0.283, F1: 0.426\n",
      "Class 2 - Precision: 0.556, Recall: 0.864, F1: 0.677\n",
      "Class 3 - Precision: 0.515, Recall: 0.343, F1: 0.412\n",
      "\n",
      "\n"
     ]
    },
    {
     "name": "stderr",
     "output_type": "stream",
     "text": [
      "c:\\Dev\\mestrado\\.venv\\Lib\\site-packages\\sklearn\\metrics\\_classification.py:1531: UndefinedMetricWarning: Recall is ill-defined and being set to 0.0 in labels with no true samples. Use `zero_division` parameter to control this behavior.\n",
      "  _warn_prf(average, modifier, f\"{metric.capitalize()} is\", len(result))\n",
      "c:\\Dev\\mestrado\\.venv\\Lib\\site-packages\\sklearn\\metrics\\_classification.py:1531: UndefinedMetricWarning: Recall is ill-defined and being set to 0.0 in labels with no true samples. Use `zero_division` parameter to control this behavior.\n",
      "  _warn_prf(average, modifier, f\"{metric.capitalize()} is\", len(result))\n"
     ]
    }
   ],
   "source": [
    "## True labels\n",
    "y_true = evaluation_dataframe['Simplf_Tone'].astype(int)     \n",
    "\n",
    "## BERT predictions\n",
    "y_pred = evaluation_dataframe['GptClassification_3labels'].astype(int)\n",
    "\n",
    "precision_gpt = precision_score(y_true, y_pred, average='macro')\n",
    "recall_gpt = recall_score(y_true, y_pred, average='macro')\n",
    "f1_macro_gpt = f1_score(y_true, y_pred, average='macro')\n",
    "accuracy_score_fraction_gpt = accuracy_score(y_true, y_pred) ## How many correct predictions were made - 'raw'\n",
    "\n",
    "precision_per_class_gpt = precision_score(y_true, y_pred, average=None)\n",
    "recall_per_class_gpt = recall_score(y_true, y_pred, average=None)\n",
    "f1_per_class_gpt = f1_score(y_true, y_pred, average=None)\n",
    "\n",
    "    \n",
    "print('\\n','GPT Classification metrics:')\n",
    "print(\n",
    "    'Avg Precision:', round(precision_gpt, 3), '\\n',\n",
    "      'Avg Recall:', round(recall_gpt, 3), '\\n',\n",
    "      'F1 Macro:', round(f1_macro_gpt, 3), '\\n',\n",
    "      'Accuracy:', round(accuracy_score_fraction_gpt, 3)\n",
    "    )\n",
    "for cls, (prec, rec, f1) in enumerate(zip(precision_per_class_gpt, recall_per_class_gpt, f1_per_class_gpt), start=0):\n",
    "    print(f'Class {cls} - Precision: {round(prec, 3):.3f}, Recall: {round(rec, 3):.3f}, F1: {round(f1, 3):.3f}'.format())\n",
    "print('\\n')"
   ]
  },
  {
   "cell_type": "markdown",
   "metadata": {},
   "source": [
    "#### Confusion Matrix:"
   ]
  },
  {
   "cell_type": "code",
   "execution_count": 362,
   "metadata": {},
   "outputs": [
    {
     "data": {
      "image/png": "[encoded data removed]",
      "text/plain": [
       "<Figure size 1300x400 with 6 Axes>"
      ]
     },
     "metadata": {},
     "output_type": "display_data"
    }
   ],
   "source": [
    "## Confusion Matrixes:\n",
    "\n",
    "# Create a subplot with two side-by-side plots\n",
    "fig, axes = plt.subplots(1, 3, figsize=(13, 4))\n",
    "\n",
    "# Generate the confusion matrix for BERT\n",
    "label_range = [1, 2, 3]\n",
    "conf_matrix_bert = confusion_matrix(\n",
    "    evaluation_dataframe['Simplf_Tone'].astype(int), \n",
    "    evaluation_dataframe['bert_predicted_label_3classes'].astype(int), \n",
    "    labels=label_range\n",
    ")\n",
    "# Plot the confusion matrix for BERT\n",
    "sns.heatmap(conf_matrix_bert, annot=True, fmt='d', cmap='Blues', \n",
    "            xticklabels=label_range, yticklabels=label_range, ax=axes[0])\n",
    "axes[0].set_xlabel('Predicted')\n",
    "axes[0].set_ylabel('Real Label')\n",
    "axes[0].set_title('Confusion Matrix BERT')\n",
    "\n",
    "\n",
    "# Generate the confusion matrix for GPT\n",
    "label_range = [1, 2, 3]\n",
    "conf_matrix_gpt = confusion_matrix(\n",
    "    evaluation_dataframe['Simplf_Tone'].astype(int),\n",
    "    evaluation_dataframe['GptClassification_3labels'].astype(int), \n",
    "    labels=label_range\n",
    ")\n",
    "# Plot the confusion matrix for GPT\n",
    "sns.heatmap(conf_matrix_gpt, annot=True, fmt='d', cmap='Blues', \n",
    "            xticklabels=label_range, yticklabels=label_range, ax=axes[1])\n",
    "axes[1].set_xlabel('Predicted')\n",
    "axes[1].set_ylabel('Real Label')\n",
    "axes[1].set_title('Confusion Matrix GPT')\n",
    "\n",
    "\n",
    "# Generate the confusion matrix for GPT\n",
    "label_range = [1, 2, 3]\n",
    "conf_matrix_nb = confusion_matrix(\n",
    "    evaluation_dataframe['Simplf_Tone'].astype(int),\n",
    "    y_pred_re+1, \n",
    "    labels=label_range\n",
    ")\n",
    "# Plot the confusion matrix for GPT\n",
    "sns.heatmap(conf_matrix_nb, annot=True, fmt='d', cmap='Blues', \n",
    "            xticklabels=label_range, yticklabels=label_range, ax=axes[2])\n",
    "axes[2].set_xlabel('Predicted')\n",
    "axes[2].set_ylabel('Real Label')\n",
    "axes[2].set_title('Confusion Matrix Naive Bayes')\n",
    "\n",
    "# Adjust layout and display the plots\n",
    "plt.tight_layout()\n",
    "plt.show()"
   ]
  },
  {
   "cell_type": "markdown",
   "metadata": {},
   "source": [
    "### Rewritten Predictions, for 3 Labels models:"
   ]
  },
  {
   "cell_type": "code",
   "execution_count": 406,
   "metadata": {},
   "outputs": [],
   "source": [
    "## BERT 3 Labels:\n",
    "\n",
    "# Label correctly the results\n",
    "def ClassificationResult_3labels(classf_results: list, review_text: str, index, prediction):\n",
    "    final_result = {'label':'', 'score':0} # starts with zero\n",
    "    # Classification based on higher score:\n",
    "    for result in prediction:\n",
    "        if round(result['score'],5) > final_result['score']:\n",
    "            final_result = {\n",
    "                'label': result['label'],\n",
    "                'score': round(result['score'],5)}\n",
    "    # Append classf_results   \n",
    "    match final_result['label']:\n",
    "        case 'LABEL_0': # Impolite+\n",
    "            classf_results.append({\n",
    "                'review':review_text,\n",
    "                'label':'1',\n",
    "                'score':final_result['score'],\n",
    "                'index':index,}) \n",
    "        case 'LABEL_1': # Neutral\n",
    "            classf_results.append({\n",
    "                'review':review_text,\n",
    "                'label':'2',\n",
    "                'score':final_result['score'],\n",
    "                'index':index,}) \n",
    "        case 'LABEL_2': # Polite+\n",
    "            classf_results.append({\n",
    "                'review':review_text,\n",
    "                'label':'3',\n",
    "                'score':final_result['score'],\n",
    "                'index':index,}) \n",
    "\n",
    "classf_results = [] \n",
    "\n",
    "for index, row in evaluation_dataframe.iterrows():\n",
    "    prediction = pipe_3labels(row['rewritten_review'], top_k=None)\n",
    "    ClassificationResult(classf_results, row['rewritten_review'], index, prediction)\n",
    "## ~ 20s - 3min \n",
    "\n",
    "predicted_dataframe = pd.DataFrame(classf_results)\n",
    "predicted_dataframe.set_index('index', inplace=True)\n",
    "evaluation_dataframe = pd.concat([evaluation_dataframe, predicted_dataframe[['label','score']]], axis=1)\n",
    "evaluation_dataframe.rename(columns={'label':'bert_rewritten_predicted_label_3classes'}, inplace=True)"
   ]
  },
  {
   "cell_type": "code",
   "execution_count": 407,
   "metadata": {},
   "outputs": [
    {
     "name": "stderr",
     "output_type": "stream",
     "text": [
      "  6%|▌         | 27/489 [00:31<09:22,  1.22s/it]"
     ]
    },
    {
     "name": "stdout",
     "output_type": "stream",
     "text": [
      "Exception at json dump (moving forward): Expecting property name enclosed in double quotes: line 1 column 2 (char 1)\n"
     ]
    },
    {
     "name": "stderr",
     "output_type": "stream",
     "text": [
      "  6%|▌         | 29/489 [00:33<09:28,  1.24s/it]"
     ]
    },
    {
     "name": "stdout",
     "output_type": "stream",
     "text": [
      "Exception at json dump (moving forward): Expecting property name enclosed in double quotes: line 1 column 2 (char 1)\n"
     ]
    },
    {
     "name": "stderr",
     "output_type": "stream",
     "text": [
      "  8%|▊         | 39/489 [00:46<09:02,  1.20s/it]"
     ]
    },
    {
     "name": "stdout",
     "output_type": "stream",
     "text": [
      "Exception at json dump (moving forward): Expecting property name enclosed in double quotes: line 1 column 2 (char 1)\n"
     ]
    },
    {
     "name": "stderr",
     "output_type": "stream",
     "text": [
      " 16%|█▋        | 80/489 [01:41<08:24,  1.23s/it]"
     ]
    },
    {
     "name": "stdout",
     "output_type": "stream",
     "text": [
      "Exception at json dump (moving forward): Expecting property name enclosed in double quotes: line 1 column 2 (char 1)\n"
     ]
    },
    {
     "name": "stderr",
     "output_type": "stream",
     "text": [
      " 17%|█▋        | 81/489 [01:42<07:58,  1.17s/it]"
     ]
    },
    {
     "name": "stdout",
     "output_type": "stream",
     "text": [
      "Exception at json dump (moving forward): Expecting property name enclosed in double quotes: line 1 column 2 (char 1)\n"
     ]
    },
    {
     "name": "stderr",
     "output_type": "stream",
     "text": [
      " 23%|██▎       | 111/489 [02:36<10:59,  1.74s/it]"
     ]
    },
    {
     "name": "stdout",
     "output_type": "stream",
     "text": [
      "Exception at json dump (moving forward): Expecting property name enclosed in double quotes: line 1 column 2 (char 1)\n"
     ]
    },
    {
     "name": "stderr",
     "output_type": "stream",
     "text": [
      " 27%|██▋       | 132/489 [03:03<07:05,  1.19s/it]"
     ]
    },
    {
     "name": "stdout",
     "output_type": "stream",
     "text": [
      "Exception at json dump (moving forward): Expecting property name enclosed in double quotes: line 1 column 2 (char 1)\n"
     ]
    },
    {
     "name": "stderr",
     "output_type": "stream",
     "text": [
      " 29%|██▊       | 140/489 [03:14<08:25,  1.45s/it]"
     ]
    },
    {
     "name": "stdout",
     "output_type": "stream",
     "text": [
      "Exception at json dump (moving forward): Expecting property name enclosed in double quotes: line 1 column 2 (char 1)\n"
     ]
    },
    {
     "name": "stderr",
     "output_type": "stream",
     "text": [
      " 43%|████▎     | 212/489 [04:55<05:13,  1.13s/it]"
     ]
    },
    {
     "name": "stdout",
     "output_type": "stream",
     "text": [
      "Exception at json dump (moving forward): Expecting property name enclosed in double quotes: line 2 column 3 (char 4)\n"
     ]
    },
    {
     "name": "stderr",
     "output_type": "stream",
     "text": [
      " 46%|████▌     | 224/489 [05:12<06:21,  1.44s/it]"
     ]
    },
    {
     "name": "stdout",
     "output_type": "stream",
     "text": [
      "Exception at json dump (moving forward): Expecting property name enclosed in double quotes: line 1 column 2 (char 1)\n"
     ]
    },
    {
     "name": "stderr",
     "output_type": "stream",
     "text": [
      " 51%|█████     | 249/489 [05:45<05:34,  1.40s/it]"
     ]
    },
    {
     "name": "stdout",
     "output_type": "stream",
     "text": [
      "Exception at json dump (moving forward): Expecting property name enclosed in double quotes: line 1 column 2 (char 1)\n"
     ]
    },
    {
     "name": "stderr",
     "output_type": "stream",
     "text": [
      " 60%|█████▉    | 291/489 [06:47<05:02,  1.53s/it]"
     ]
    },
    {
     "name": "stdout",
     "output_type": "stream",
     "text": [
      "Exception at json dump (moving forward): Expecting property name enclosed in double quotes: line 1 column 2 (char 1)\n"
     ]
    },
    {
     "name": "stderr",
     "output_type": "stream",
     "text": [
      " 62%|██████▏   | 303/489 [07:02<04:03,  1.31s/it]"
     ]
    },
    {
     "name": "stdout",
     "output_type": "stream",
     "text": [
      "Exception at json dump (moving forward): Expecting property name enclosed in double quotes: line 1 column 2 (char 1)\n"
     ]
    },
    {
     "name": "stderr",
     "output_type": "stream",
     "text": [
      " 69%|██████▉   | 339/489 [08:08<03:51,  1.54s/it]"
     ]
    },
    {
     "name": "stdout",
     "output_type": "stream",
     "text": [
      "Exception at json dump (moving forward): Expecting property name enclosed in double quotes: line 1 column 2 (char 1)\n"
     ]
    },
    {
     "name": "stderr",
     "output_type": "stream",
     "text": [
      " 74%|███████▍  | 363/489 [08:40<02:25,  1.15s/it]"
     ]
    },
    {
     "name": "stdout",
     "output_type": "stream",
     "text": [
      "Exception at json dump (moving forward): Expecting property name enclosed in double quotes: line 1 column 2 (char 1)\n"
     ]
    },
    {
     "name": "stderr",
     "output_type": "stream",
     "text": [
      " 83%|████████▎ | 406/489 [09:41<01:37,  1.18s/it]"
     ]
    },
    {
     "name": "stdout",
     "output_type": "stream",
     "text": [
      "Exception at json dump (moving forward): Expecting property name enclosed in double quotes: line 1 column 2 (char 1)\n"
     ]
    },
    {
     "name": "stderr",
     "output_type": "stream",
     "text": [
      "100%|██████████| 489/489 [11:35<00:00,  1.42s/it]\n"
     ]
    }
   ],
   "source": [
    "## GPT 3 Labels:\n",
    "def SimpleFormatting(text):\n",
    "    '''function that returns a json from a string in json format'''    \n",
    "    json_string = text.strip('```json').strip()\n",
    "    return json.loads(json_string)\n",
    "\n",
    "\n",
    "# Cache results to avoid duplicate API calls\n",
    "result_cache = {}\n",
    "\n",
    "## Function to classify with GPT each review\n",
    "def process_review(review):\n",
    "    if review in result_cache:\n",
    "        return result_cache[review]\n",
    "    try:\n",
    "        # Call the GPT classification API\n",
    "        rank = GptClassification_3labels(review)\n",
    "        rank = SimpleFormatting(rank)\n",
    "        result_cache[review] = rank['label']\n",
    "        return rank['label']\n",
    "    except Exception as e:\n",
    "        print('Exception at json dump (moving forward):', e)\n",
    "        return None\n",
    "\n",
    "# Apply the function to the entire column\n",
    "tqdm.pandas()  # Initialize tqdm for Pandas\n",
    "evaluation_dataframe['GptClassification_rewritten_3labels'] = evaluation_dataframe['rewritten_review'].progress_apply(process_review)\n",
    "\n",
    "## ~10 min"
   ]
  },
  {
   "cell_type": "code",
   "execution_count": null,
   "metadata": {},
   "outputs": [],
   "source": [
    "## Naive Bayes 3 Labels:\n",
    "\n",
    "# Tokenize the text\n",
    "def tokenize_texts(texts):\n",
    "    return [\" \".join(tokenizer.tokenize(text)) for text in texts] # By here I already have my tokenizer\n",
    "\n",
    "tokenized_texts = tokenize_texts(X_train)\n",
    "\n",
    "# Convert tokenized texts to feature vectors (Bag-of-Words or TF-IDF)\n",
    "vectorizer = TfidfVectorizer()  \n",
    "X_train_features = vectorizer.fit_transform(tokenized_texts)\n",
    "\n",
    "# Train the MNB model\n",
    "clf = MultinomialNB(alpha=0.1)\n",
    "clf.fit(X_train_features, y_train)\n",
    "\n",
    "# Tokenize and vectorize test data\n",
    "tokenized_rewritten = tokenize_texts(evaluation_dataframe['rewritten_review'])\n",
    "X_rewritten_features = vectorizer.transform(tokenized_rewritten)\n",
    "\n",
    "# Predict and evaluate\n",
    "y_pred_nb_3l_rewritten = clf.predict(X_rewritten_features)\n",
    "evaluation_dataframe['nb_3l_rewritten_result'] = y_pred_nb_3l_rewritten"
   ]
  },
  {
   "cell_type": "code",
   "execution_count": 404,
   "metadata": {},
   "outputs": [
    {
     "name": "stdout",
     "output_type": "stream",
     "text": [
      "Simplf_Tone\n",
      "1    152\n",
      "2    235\n",
      "3    102\n",
      "Name: count, dtype: int64\n"
     ]
    },
    {
     "data": {
      "image/png": "[encoded data removed]",
      "text/plain": [
       "<Figure size 640x480 with 1 Axes>"
      ]
     },
     "metadata": {},
     "output_type": "display_data"
    }
   ],
   "source": [
    "pprint(evaluation_dataframe['Simplf_Tone'].value_counts().sort_index())\n",
    "\n",
    "# Plot the bar chart\n",
    "ax = evaluation_dataframe['nb_3l_rewritten_result'].value_counts().sort_index().plot(kind='bar', color='skyblue')\n",
    "\n",
    "# Add labels above each bar\n",
    "for bar in ax.patches:\n",
    "    height = bar.get_height()  # Get the height of the bar\n",
    "    ax.text(\n",
    "        bar.get_x() + bar.get_width() / 2,  # X-coordinate of the text (centered on the bar)\n",
    "        height + 1,         # Y-coordinate of the text (slightly above the bar)\n",
    "        f'{int(height)}',   # Text to display\n",
    "        ha='center',        # Horizontal alignment\n",
    "        va='bottom',        # Vertical alignment\n",
    "        fontsize=10         # Font size of the text\n",
    "    )\n",
    "\n",
    "# Add labels, title, and grid\n",
    "plt.xlabel('Rewritten Predicted Tone')\n",
    "plt.xticks(ticks=[0,1,2], labels=range(1,4))\n",
    "plt.ylabel('Count')\n",
    "plt.title('Naive Bayes 3 Labels Prediction - Rewritten')\n",
    "plt.tick_params(axis='x', rotation=0)\n",
    "plt.grid(ls='--', alpha=0.7)\n",
    "\n",
    "# Show the plot\n",
    "plt.show()"
   ]
  },
  {
   "cell_type": "code",
   "execution_count": 417,
   "metadata": {},
   "outputs": [
    {
     "data": {
      "text/html": [
       "<div>\n",
       "<style scoped>\n",
       "    .dataframe tbody tr th:only-of-type {\n",
       "        vertical-align: middle;\n",
       "    }\n",
       "\n",
       "    .dataframe tbody tr th {\n",
       "        vertical-align: top;\n",
       "    }\n",
       "\n",
       "    .dataframe thead th {\n",
       "        text-align: right;\n",
       "    }\n",
       "</style>\n",
       "<table border=\"1\" class=\"dataframe\">\n",
       "  <thead>\n",
       "    <tr style=\"text-align: right;\">\n",
       "      <th></th>\n",
       "      <th>review</th>\n",
       "      <th>tone</th>\n",
       "      <th>bert_predicted_label</th>\n",
       "      <th>score</th>\n",
       "      <th>GptClassification:</th>\n",
       "      <th>rewritten_review</th>\n",
       "      <th>bert_rewritten_predicted_label</th>\n",
       "      <th>bert_rewritten_score</th>\n",
       "      <th>GptClassification_rewritten:</th>\n",
       "      <th>bert_predicted_label_3classes</th>\n",
       "      <th>score</th>\n",
       "      <th>Simplf_Tone</th>\n",
       "      <th>GptClassification_3labels</th>\n",
       "      <th>nb_3l_rewritten_result</th>\n",
       "      <th>bert_rewritten_predicted_label_3classes</th>\n",
       "      <th>score</th>\n",
       "      <th>GptClassification_rewritten_3labels</th>\n",
       "      <th>nb_3labels_classification</th>\n",
       "    </tr>\n",
       "  </thead>\n",
       "  <tbody>\n",
       "    <tr>\n",
       "      <th>2368</th>\n",
       "      <td>all the comments have been successfully addressed</td>\n",
       "      <td>3</td>\n",
       "      <td>4</td>\n",
       "      <td>0.77732</td>\n",
       "      <td>5</td>\n",
       "      <td>All the comments have been thoroughly and succ...</td>\n",
       "      <td>4</td>\n",
       "      <td>0.64584</td>\n",
       "      <td>5</td>\n",
       "      <td>3</td>\n",
       "      <td>0.72883</td>\n",
       "      <td>2</td>\n",
       "      <td>3</td>\n",
       "      <td>3</td>\n",
       "      <td>3</td>\n",
       "      <td>0.85821</td>\n",
       "      <td>3</td>\n",
       "      <td>3</td>\n",
       "    </tr>\n",
       "    <tr>\n",
       "      <th>642</th>\n",
       "      <td>the writing is often arrestingly pedestrian</td>\n",
       "      <td>2</td>\n",
       "      <td>4</td>\n",
       "      <td>0.35930</td>\n",
       "      <td>3</td>\n",
       "      <td>The writing sometimes tends to be quite straig...</td>\n",
       "      <td>3</td>\n",
       "      <td>0.70818</td>\n",
       "      <td>4</td>\n",
       "      <td>1</td>\n",
       "      <td>0.62014</td>\n",
       "      <td>1</td>\n",
       "      <td>2</td>\n",
       "      <td>2</td>\n",
       "      <td>2</td>\n",
       "      <td>0.62692</td>\n",
       "      <td>2</td>\n",
       "      <td>2</td>\n",
       "    </tr>\n",
       "    <tr>\n",
       "      <th>2259</th>\n",
       "      <td>the paper seems wellwritten and technically so...</td>\n",
       "      <td>3</td>\n",
       "      <td>4</td>\n",
       "      <td>0.77032</td>\n",
       "      <td>4</td>\n",
       "      <td>The paper appears to be well-written and techn...</td>\n",
       "      <td>4</td>\n",
       "      <td>0.66546</td>\n",
       "      <td>4</td>\n",
       "      <td>3</td>\n",
       "      <td>0.85454</td>\n",
       "      <td>2</td>\n",
       "      <td>2</td>\n",
       "      <td>2</td>\n",
       "      <td>3</td>\n",
       "      <td>0.78353</td>\n",
       "      <td>3</td>\n",
       "      <td>2</td>\n",
       "    </tr>\n",
       "    <tr>\n",
       "      <th>1643</th>\n",
       "      <td>surely if we reduce overfitting then by defini...</td>\n",
       "      <td>4</td>\n",
       "      <td>3</td>\n",
       "      <td>0.93592</td>\n",
       "      <td>3</td>\n",
       "      <td>Certainly, if we reduce overfitting, it should...</td>\n",
       "      <td>3</td>\n",
       "      <td>0.77478</td>\n",
       "      <td>5</td>\n",
       "      <td>2</td>\n",
       "      <td>0.89345</td>\n",
       "      <td>3</td>\n",
       "      <td>2</td>\n",
       "      <td>2</td>\n",
       "      <td>2</td>\n",
       "      <td>0.88867</td>\n",
       "      <td>3</td>\n",
       "      <td>2</td>\n",
       "    </tr>\n",
       "    <tr>\n",
       "      <th>2409</th>\n",
       "      <td>the authors have satisfactorily adressed to re...</td>\n",
       "      <td>4</td>\n",
       "      <td>4</td>\n",
       "      <td>0.78587</td>\n",
       "      <td>4</td>\n",
       "      <td>The authors have effectively addressed the rev...</td>\n",
       "      <td>4</td>\n",
       "      <td>0.80835</td>\n",
       "      <td>5</td>\n",
       "      <td>3</td>\n",
       "      <td>0.67189</td>\n",
       "      <td>3</td>\n",
       "      <td>3</td>\n",
       "      <td>2</td>\n",
       "      <td>3</td>\n",
       "      <td>0.78995</td>\n",
       "      <td>3</td>\n",
       "      <td>3</td>\n",
       "    </tr>\n",
       "    <tr>\n",
       "      <th>...</th>\n",
       "      <td>...</td>\n",
       "      <td>...</td>\n",
       "      <td>...</td>\n",
       "      <td>...</td>\n",
       "      <td>...</td>\n",
       "      <td>...</td>\n",
       "      <td>...</td>\n",
       "      <td>...</td>\n",
       "      <td>...</td>\n",
       "      <td>...</td>\n",
       "      <td>...</td>\n",
       "      <td>...</td>\n",
       "      <td>...</td>\n",
       "      <td>...</td>\n",
       "      <td>...</td>\n",
       "      <td>...</td>\n",
       "      <td>...</td>\n",
       "      <td>...</td>\n",
       "    </tr>\n",
       "    <tr>\n",
       "      <th>1063</th>\n",
       "      <td>i do not understand why we would like to assume</td>\n",
       "      <td>2</td>\n",
       "      <td>2</td>\n",
       "      <td>0.83550</td>\n",
       "      <td>3</td>\n",
       "      <td>I am curious about our reasoning behind making...</td>\n",
       "      <td>2</td>\n",
       "      <td>0.71041</td>\n",
       "      <td>4</td>\n",
       "      <td>1</td>\n",
       "      <td>0.82375</td>\n",
       "      <td>1</td>\n",
       "      <td>2</td>\n",
       "      <td>1</td>\n",
       "      <td>1</td>\n",
       "      <td>0.64096</td>\n",
       "      <td>3</td>\n",
       "      <td>1</td>\n",
       "    </tr>\n",
       "    <tr>\n",
       "      <th>1686</th>\n",
       "      <td>it seems you have exchanged first name and las...</td>\n",
       "      <td>2</td>\n",
       "      <td>2</td>\n",
       "      <td>0.79779</td>\n",
       "      <td>3</td>\n",
       "      <td>It appears that the first and last names might...</td>\n",
       "      <td>3</td>\n",
       "      <td>0.87540</td>\n",
       "      <td>4</td>\n",
       "      <td>1</td>\n",
       "      <td>0.74401</td>\n",
       "      <td>1</td>\n",
       "      <td>2</td>\n",
       "      <td>2</td>\n",
       "      <td>2</td>\n",
       "      <td>0.81629</td>\n",
       "      <td>3</td>\n",
       "      <td>1</td>\n",
       "    </tr>\n",
       "    <tr>\n",
       "      <th>237</th>\n",
       "      <td>it is unclear how this would advance the field...</td>\n",
       "      <td>2</td>\n",
       "      <td>3</td>\n",
       "      <td>0.95192</td>\n",
       "      <td>4</td>\n",
       "      <td>It is not immediately clear how this might adv...</td>\n",
       "      <td>3</td>\n",
       "      <td>0.86733</td>\n",
       "      <td>4</td>\n",
       "      <td>2</td>\n",
       "      <td>0.86619</td>\n",
       "      <td>1</td>\n",
       "      <td>2</td>\n",
       "      <td>1</td>\n",
       "      <td>2</td>\n",
       "      <td>0.72681</td>\n",
       "      <td>2</td>\n",
       "      <td>3</td>\n",
       "    </tr>\n",
       "    <tr>\n",
       "      <th>441</th>\n",
       "      <td>pity about the main thesis</td>\n",
       "      <td>3</td>\n",
       "      <td>2</td>\n",
       "      <td>0.66619</td>\n",
       "      <td>3</td>\n",
       "      <td>It's unfortunate about the main thesis.</td>\n",
       "      <td>2</td>\n",
       "      <td>0.67780</td>\n",
       "      <td>3</td>\n",
       "      <td>2</td>\n",
       "      <td>0.83734</td>\n",
       "      <td>2</td>\n",
       "      <td>2</td>\n",
       "      <td>1</td>\n",
       "      <td>1</td>\n",
       "      <td>0.65293</td>\n",
       "      <td>2</td>\n",
       "      <td>1</td>\n",
       "    </tr>\n",
       "    <tr>\n",
       "      <th>1809</th>\n",
       "      <td>there are a number of typos and oversights abs...</td>\n",
       "      <td>3</td>\n",
       "      <td>3</td>\n",
       "      <td>0.95155</td>\n",
       "      <td>2</td>\n",
       "      <td>There are a few areas you might want to review...</td>\n",
       "      <td>3</td>\n",
       "      <td>0.74484</td>\n",
       "      <td>4</td>\n",
       "      <td>2</td>\n",
       "      <td>0.89670</td>\n",
       "      <td>2</td>\n",
       "      <td>2</td>\n",
       "      <td>2</td>\n",
       "      <td>2</td>\n",
       "      <td>0.69008</td>\n",
       "      <td>3</td>\n",
       "      <td>2</td>\n",
       "    </tr>\n",
       "  </tbody>\n",
       "</table>\n",
       "<p>489 rows × 18 columns</p>\n",
       "</div>"
      ],
      "text/plain": [
       "                                                 review  tone  \\\n",
       "2368  all the comments have been successfully addressed     3   \n",
       "642         the writing is often arrestingly pedestrian     2   \n",
       "2259  the paper seems wellwritten and technically so...     3   \n",
       "1643  surely if we reduce overfitting then by defini...     4   \n",
       "2409  the authors have satisfactorily adressed to re...     4   \n",
       "...                                                 ...   ...   \n",
       "1063    i do not understand why we would like to assume     2   \n",
       "1686  it seems you have exchanged first name and las...     2   \n",
       "237   it is unclear how this would advance the field...     2   \n",
       "441                          pity about the main thesis     3   \n",
       "1809  there are a number of typos and oversights abs...     3   \n",
       "\n",
       "     bert_predicted_label    score GptClassification:  \\\n",
       "2368                    4  0.77732                  5   \n",
       "642                     4  0.35930                  3   \n",
       "2259                    4  0.77032                  4   \n",
       "1643                    3  0.93592                  3   \n",
       "2409                    4  0.78587                  4   \n",
       "...                   ...      ...                ...   \n",
       "1063                    2  0.83550                  3   \n",
       "1686                    2  0.79779                  3   \n",
       "237                     3  0.95192                  4   \n",
       "441                     2  0.66619                  3   \n",
       "1809                    3  0.95155                  2   \n",
       "\n",
       "                                       rewritten_review  \\\n",
       "2368  All the comments have been thoroughly and succ...   \n",
       "642   The writing sometimes tends to be quite straig...   \n",
       "2259  The paper appears to be well-written and techn...   \n",
       "1643  Certainly, if we reduce overfitting, it should...   \n",
       "2409  The authors have effectively addressed the rev...   \n",
       "...                                                 ...   \n",
       "1063  I am curious about our reasoning behind making...   \n",
       "1686  It appears that the first and last names might...   \n",
       "237   It is not immediately clear how this might adv...   \n",
       "441             It's unfortunate about the main thesis.   \n",
       "1809  There are a few areas you might want to review...   \n",
       "\n",
       "     bert_rewritten_predicted_label  bert_rewritten_score  \\\n",
       "2368                              4               0.64584   \n",
       "642                               3               0.70818   \n",
       "2259                              4               0.66546   \n",
       "1643                              3               0.77478   \n",
       "2409                              4               0.80835   \n",
       "...                             ...                   ...   \n",
       "1063                              2               0.71041   \n",
       "1686                              3               0.87540   \n",
       "237                               3               0.86733   \n",
       "441                               2               0.67780   \n",
       "1809                              3               0.74484   \n",
       "\n",
       "     GptClassification_rewritten: bert_predicted_label_3classes    score  \\\n",
       "2368                            5                             3  0.72883   \n",
       "642                             4                             1  0.62014   \n",
       "2259                            4                             3  0.85454   \n",
       "1643                            5                             2  0.89345   \n",
       "2409                            5                             3  0.67189   \n",
       "...                           ...                           ...      ...   \n",
       "1063                            4                             1  0.82375   \n",
       "1686                            4                             1  0.74401   \n",
       "237                             4                             2  0.86619   \n",
       "441                             3                             2  0.83734   \n",
       "1809                            4                             2  0.89670   \n",
       "\n",
       "      Simplf_Tone GptClassification_3labels  nb_3l_rewritten_result  \\\n",
       "2368            2                         3                       3   \n",
       "642             1                         2                       2   \n",
       "2259            2                         2                       2   \n",
       "1643            3                         2                       2   \n",
       "2409            3                         3                       2   \n",
       "...           ...                       ...                     ...   \n",
       "1063            1                         2                       1   \n",
       "1686            1                         2                       2   \n",
       "237             1                         2                       1   \n",
       "441             2                         2                       1   \n",
       "1809            2                         2                       2   \n",
       "\n",
       "     bert_rewritten_predicted_label_3classes    score  \\\n",
       "2368                                       3  0.85821   \n",
       "642                                        2  0.62692   \n",
       "2259                                       3  0.78353   \n",
       "1643                                       2  0.88867   \n",
       "2409                                       3  0.78995   \n",
       "...                                      ...      ...   \n",
       "1063                                       1  0.64096   \n",
       "1686                                       2  0.81629   \n",
       "237                                        2  0.72681   \n",
       "441                                        1  0.65293   \n",
       "1809                                       2  0.69008   \n",
       "\n",
       "     GptClassification_rewritten_3labels  nb_3labels_classification  \n",
       "2368                                   3                          3  \n",
       "642                                    2                          2  \n",
       "2259                                   3                          2  \n",
       "1643                                   3                          2  \n",
       "2409                                   3                          3  \n",
       "...                                  ...                        ...  \n",
       "1063                                   3                          1  \n",
       "1686                                   3                          1  \n",
       "237                                    2                          3  \n",
       "441                                    2                          1  \n",
       "1809                                   3                          2  \n",
       "\n",
       "[489 rows x 18 columns]"
      ]
     },
     "execution_count": 417,
     "metadata": {},
     "output_type": "execute_result"
    }
   ],
   "source": [
    "### Adjustment at the naive bayes predictions:\n",
    "# evaluation_dataframe['nb_3l_rewritten_result']    = evaluation_dataframe['nb_3l_rewritten_result'] + 1\n",
    "# evaluation_dataframe['nb_3labels_classification'] = evaluation_dataframe['nb_3labels_classification'] + 1\n",
    "evaluation_dataframe"
   ]
  },
  {
   "cell_type": "code",
   "execution_count": 421,
   "metadata": {},
   "outputs": [],
   "source": [
    "# fixing the null values for the GPT 3 labels rewritten classification\n",
    "evaluation_dataframe.loc[evaluation_dataframe['GptClassification_rewritten_3labels'].isnull(), 'GptClassification_rewritten_3labels'] = 0"
   ]
  },
  {
   "cell_type": "code",
   "execution_count": 423,
   "metadata": {},
   "outputs": [
    {
     "name": "stdout",
     "output_type": "stream",
     "text": [
      "L1: [0, 130, 280, 79]\n",
      "L2: [0, 49, 264, 176]\n",
      "L3: [6, 50, 365, 68]\n",
      "L4: [16, 0, 154, 319]\n",
      "L5: [0, 136, 278, 75]\n",
      "L6: [0, 81, 298, 110]\n",
      "\n",
      " BERT: \n",
      " label 1: 37.69 % of label 1, were classified as label 1 when rewritten (REDUCTION) \n",
      " label 2: 94.28999999999999 % of label 2, were classified as label 2 when rewritten (REDUCTION) \n",
      " label 3: 222.77999999999997 % of label 3, were classified as label 3 when rewritten (INCREASE) \n",
      " GPT Classifier: \n",
      " label 1: 0.0 % of label 1, were classified as label 1 when rewritten (HUGE REDUCTION) \n",
      " label 2: 42.19 % of label 2, were classified as label 2 when rewritten (REDUCTION) \n",
      " label 3: 469.12 % of label 3, were classified as label 3 when rewritten (HUGE INCREASE) \n",
      " Naive Bayes Classifier: \n",
      " label 1: 59.56 % of label 1, were classified as label 1 when rewritten (REDUCTION) \n",
      " label 2: 107.19000000000001 % of label 2, were classified as label 2 when rewritten (INCREASE) \n",
      " label 3: 146.67 % of label 3, were classified as label 3 when rewritten (INCREASE)\n"
     ]
    }
   ],
   "source": [
    "## Showing some progress with the rewritten comments:\n",
    "# pprint(df5['bert_predicted_label'].value_counts().sort_index())\n",
    "# pprint(df5['bert_rewritten_predicted_label'].value_counts().sort_index())\n",
    "\n",
    "# Define the preset of acceptable labels\n",
    "acceptable_labels = [0, 1, 2, 3]\n",
    "\n",
    "# Convert the value counts to a full list with missing labels as zeros\n",
    "l1_2 = evaluation_dataframe['bert_predicted_label_3classes'].astype(int).value_counts().reindex(acceptable_labels, fill_value=0).sort_index().to_list()\n",
    "l2_2 = evaluation_dataframe['bert_rewritten_predicted_label_3classes'].astype(int).value_counts().reindex(acceptable_labels, fill_value=0).sort_index().to_list()\n",
    "l3_2 = evaluation_dataframe['GptClassification_3labels'].astype(int).value_counts().reindex(acceptable_labels, fill_value=0).sort_index().to_list()\n",
    "l4_2 = evaluation_dataframe['GptClassification_rewritten_3labels'].astype(int).value_counts().reindex(acceptable_labels, fill_value=0).sort_index().to_list()\n",
    "l5_2 = evaluation_dataframe['nb_3labels_classification'].astype(int).value_counts().reindex(acceptable_labels, fill_value=0).sort_index().to_list()\n",
    "l6_2 = evaluation_dataframe['nb_3l_rewritten_result'].astype(int).value_counts().reindex(acceptable_labels, fill_value=0).sort_index().to_list()\n",
    "\n",
    "\n",
    "# Debug print to check the lists\n",
    "print(\"L1:\", l1_2)\n",
    "print(\"L2:\", l2_2)\n",
    "print(\"L3:\", l3_2)\n",
    "print(\"L4:\", l4_2)\n",
    "print(\"L5:\", l5_2)\n",
    "print(\"L6:\", l6_2)\n",
    "\n",
    "\n",
    "# Perform your analysis with no missing labels\n",
    "# [0] represents an error in the GPT classification, only lost data for now, doesn't mean anything\n",
    "print(\n",
    "    '\\n',\n",
    "    'BERT:', '\\n',\n",
    "    'label 1:', round(l2_2[1] / l1_2[1], 4) * 100 if l1_2[1] != 0 else 0, '% of label 1, were classified as label 1 when rewritten (REDUCTION)', '\\n',\n",
    "    'label 2:', round(l2_2[2] / l1_2[2], 4) * 100 if l1_2[2] != 0 else 0, '% of label 2, were classified as label 2 when rewritten (REDUCTION)', '\\n',\n",
    "    'label 3:', round(l2_2[3] / l1_2[3], 4) * 100 if l1_2[3] != 0 else 0, '% of label 3, were classified as label 3 when rewritten (INCREASE)', '\\n',\n",
    "    'GPT Classifier:', '\\n',\n",
    "    'label 1:', round(l4_2[1] / l3_2[1], 4) * 100 if l3_2[1] != 0 else 0, '% of label 1, were classified as label 1 when rewritten (HUGE REDUCTION)', '\\n',\n",
    "    'label 2:', round(l4_2[2] / l3_2[2], 4) * 100 if l3_2[2] != 0 else 0, '% of label 2, were classified as label 2 when rewritten (REDUCTION)', '\\n',\n",
    "    'label 3:', round(l4_2[3] / l3_2[3], 4) * 100 if l3_2[3] != 0 else 0, '% of label 3, were classified as label 3 when rewritten (HUGE INCREASE)', '\\n',\n",
    "    'Naive Bayes Classifier:', '\\n',\n",
    "    'label 1:', round(l6_2[1] / l5_2[1], 4) * 100 if l5_2[1] != 0 else 0, '% of label 1, were classified as label 1 when rewritten (REDUCTION)', '\\n',\n",
    "    'label 2:', round(l6_2[2] / l5_2[2], 4) * 100 if l5_2[2] != 0 else 0, '% of label 2, were classified as label 2 when rewritten (INCREASE)', '\\n',\n",
    "    'label 3:', round(l6_2[3] / l5_2[3], 4) * 100 if l5_2[3] != 0 else 0, '% of label 3, were classified as label 3 when rewritten (INCREASE)'\n",
    ")"
   ]
  },
  {
   "cell_type": "code",
   "execution_count": 426,
   "metadata": {},
   "outputs": [
    {
     "data": {
      "text/html": [
       "<div>\n",
       "<style scoped>\n",
       "    .dataframe tbody tr th:only-of-type {\n",
       "        vertical-align: middle;\n",
       "    }\n",
       "\n",
       "    .dataframe tbody tr th {\n",
       "        vertical-align: top;\n",
       "    }\n",
       "\n",
       "    .dataframe thead th {\n",
       "        text-align: right;\n",
       "    }\n",
       "</style>\n",
       "<table border=\"1\" class=\"dataframe\">\n",
       "  <thead>\n",
       "    <tr style=\"text-align: right;\">\n",
       "      <th></th>\n",
       "      <th>review</th>\n",
       "      <th>tone</th>\n",
       "      <th>bert_predicted_label</th>\n",
       "      <th>score</th>\n",
       "      <th>GptClassification:</th>\n",
       "      <th>rewritten_review</th>\n",
       "      <th>bert_rewritten_predicted_label</th>\n",
       "      <th>bert_rewritten_score</th>\n",
       "      <th>GptClassification_rewritten:</th>\n",
       "      <th>bert_predicted_label_3classes</th>\n",
       "      <th>score</th>\n",
       "      <th>Simplf_Tone</th>\n",
       "      <th>GptClassification_3labels</th>\n",
       "      <th>nb_3l_rewritten_result</th>\n",
       "      <th>bert_rewritten_predicted_label_3classes</th>\n",
       "      <th>score</th>\n",
       "      <th>GptClassification_rewritten_3labels</th>\n",
       "      <th>nb_3labels_classification</th>\n",
       "    </tr>\n",
       "  </thead>\n",
       "  <tbody>\n",
       "    <tr>\n",
       "      <th>2368</th>\n",
       "      <td>all the comments have been successfully addressed</td>\n",
       "      <td>3</td>\n",
       "      <td>4</td>\n",
       "      <td>0.77732</td>\n",
       "      <td>5</td>\n",
       "      <td>All the comments have been thoroughly and succ...</td>\n",
       "      <td>4</td>\n",
       "      <td>0.64584</td>\n",
       "      <td>5</td>\n",
       "      <td>3</td>\n",
       "      <td>0.72883</td>\n",
       "      <td>2</td>\n",
       "      <td>3</td>\n",
       "      <td>3</td>\n",
       "      <td>3</td>\n",
       "      <td>0.85821</td>\n",
       "      <td>3</td>\n",
       "      <td>3</td>\n",
       "    </tr>\n",
       "    <tr>\n",
       "      <th>642</th>\n",
       "      <td>the writing is often arrestingly pedestrian</td>\n",
       "      <td>2</td>\n",
       "      <td>4</td>\n",
       "      <td>0.35930</td>\n",
       "      <td>3</td>\n",
       "      <td>The writing sometimes tends to be quite straig...</td>\n",
       "      <td>3</td>\n",
       "      <td>0.70818</td>\n",
       "      <td>4</td>\n",
       "      <td>1</td>\n",
       "      <td>0.62014</td>\n",
       "      <td>1</td>\n",
       "      <td>2</td>\n",
       "      <td>2</td>\n",
       "      <td>2</td>\n",
       "      <td>0.62692</td>\n",
       "      <td>2</td>\n",
       "      <td>2</td>\n",
       "    </tr>\n",
       "  </tbody>\n",
       "</table>\n",
       "</div>"
      ],
      "text/plain": [
       "                                                 review  tone  \\\n",
       "2368  all the comments have been successfully addressed     3   \n",
       "642         the writing is often arrestingly pedestrian     2   \n",
       "\n",
       "     bert_predicted_label    score GptClassification:  \\\n",
       "2368                    4  0.77732                  5   \n",
       "642                     4  0.35930                  3   \n",
       "\n",
       "                                       rewritten_review  \\\n",
       "2368  All the comments have been thoroughly and succ...   \n",
       "642   The writing sometimes tends to be quite straig...   \n",
       "\n",
       "     bert_rewritten_predicted_label  bert_rewritten_score  \\\n",
       "2368                              4               0.64584   \n",
       "642                               3               0.70818   \n",
       "\n",
       "     GptClassification_rewritten: bert_predicted_label_3classes    score  \\\n",
       "2368                            5                             3  0.72883   \n",
       "642                             4                             1  0.62014   \n",
       "\n",
       "      Simplf_Tone GptClassification_3labels  nb_3l_rewritten_result  \\\n",
       "2368            2                         3                       3   \n",
       "642             1                         2                       2   \n",
       "\n",
       "     bert_rewritten_predicted_label_3classes    score  \\\n",
       "2368                                       3  0.85821   \n",
       "642                                        2  0.62692   \n",
       "\n",
       "     GptClassification_rewritten_3labels  nb_3labels_classification  \n",
       "2368                                   3                          3  \n",
       "642                                    2                          2  "
      ]
     },
     "execution_count": 426,
     "metadata": {},
     "output_type": "execute_result"
    }
   ],
   "source": [
    "evaluation_dataframe.head(2)"
   ]
  },
  {
   "cell_type": "code",
   "execution_count": 442,
   "metadata": {},
   "outputs": [
    {
     "data": {
      "image/png": "[encoded data removed]",
      "text/plain": [
       "<Figure size 2000x600 with 7 Axes>"
      ]
     },
     "metadata": {},
     "output_type": "display_data"
    }
   ],
   "source": [
    "alpha = 1\n",
    "\n",
    "# Create subplots\n",
    "fig, axes = plt.subplots(1, 7, figsize=(20, 6), sharey=True)\n",
    "\n",
    "# # Original Tone\n",
    "evaluation_dataframe['Simplf_Tone'].astype(int).value_counts().sort_index().plot(kind='bar', ax=axes[0], color='blue')\n",
    "axes[0].set_title('Original Tone (Test Data)')\n",
    "axes[0].tick_params(axis='x', rotation=0)  # Rotate xticks by 45 degrees\n",
    "axes[0].set_xlabel('Tone')\n",
    "axes[0].grid(ls='--', alpha=alpha)\n",
    "\n",
    "# # Plot for BERT Classification - Normal\n",
    "evaluation_dataframe['bert_predicted_label_3classes'].astype(int).value_counts().sort_index().plot(kind='bar', ax=axes[1], color='orange')\n",
    "axes[1].set_title('BERT Classification - Normal')\n",
    "axes[1].tick_params(axis='x', rotation=0)  # Rotate xticks by 45 degrees\n",
    "axes[1].set_xlabel('Tone')\n",
    "axes[1].grid(ls='--', alpha=alpha)\n",
    "\n",
    "# # Plot for BERT Classification - Rewritten\n",
    "evaluation_dataframe['bert_rewritten_predicted_label_3classes'].astype(int).value_counts().sort_index().plot(kind='bar', ax=axes[2], color='chocolate')\n",
    "axes[2].set_title('BERT Classification - Rewritten')\n",
    "axes[2].tick_params(axis='x', rotation=0)  # Rotate xticks by 45 degrees\n",
    "axes[2].set_xlabel('Tone')\n",
    "axes[2].grid(ls='--', alpha=alpha)\n",
    "\n",
    "# # Plot for GPT Classification - Normal\n",
    "evaluation_dataframe['GptClassification_3labels'].astype(int).value_counts().sort_index().plot(kind='bar', ax=axes[3], color='skyblue')\n",
    "axes[3].set_title('GPT Classification - Normal')\n",
    "axes[3].tick_params(axis='x', rotation=0)  # Rotate xticks by 45 degrees\n",
    "axes[3].set_xlabel('Tone')\n",
    "axes[3].grid(ls='--', alpha=alpha)\n",
    "\n",
    "# # Plot for GPT Classification - Rewritten\n",
    "evaluation_dataframe['GptClassification_rewritten_3labels'].astype(int).value_counts().sort_index().plot(kind='bar', ax=axes[4], color='cyan')\n",
    "axes[4].set_title('GPT Classification - Rewritten')\n",
    "axes[4].tick_params(axis='x', rotation=0)  # Rotate xticks by 45 degrees \n",
    "axes[4].set_xlabel('Tone')\n",
    "axes[4].grid(ls='--', alpha=alpha)\n",
    "\n",
    "evaluation_dataframe['nb_3labels_classification'].astype(int).value_counts().sort_index().plot(kind='bar', ax=axes[5], color='green')\n",
    "axes[5].set_title('Naive Bayes - Normal')\n",
    "axes[5].tick_params(axis='x', rotation=0)  # Rotate xticks by 45 degrees \n",
    "axes[5].set_xlabel('Tone')\n",
    "axes[5].grid(ls='--', alpha=alpha)\n",
    "\n",
    "evaluation_dataframe['nb_3l_rewritten_result'].astype(int).value_counts().sort_index().plot(kind='bar', ax=axes[6], color='darkgreen')\n",
    "axes[6].set_title('Naive Bayes - Rewritten')\n",
    "axes[6].tick_params(axis='x', rotation=0)  # Rotate xticks by 45 degrees \n",
    "axes[6].set_xlabel('Tone')\n",
    "axes[6].grid(ls='--', alpha=alpha)\n",
    "\n",
    "# Set shared y-axis label\n",
    "fig.text(-0.01, 0.5, 'Count', rotation=90, fontsize=12)\n",
    "plt.yticks(range(0, 381, 20))\n",
    "\n",
    "# Adjust layout and show the plot\n",
    "plt.tight_layout()\n",
    "plt.show()"
   ]
  },
  {
   "cell_type": "code",
   "execution_count": null,
   "metadata": {},
   "outputs": [],
   "source": [
    "## not working yet\n",
    "# # Example data\n",
    "# labels = [1, 2, 3]\n",
    "# data1_bar = evaluation_dataframe['bert_predicted_label_3classes'].astype(int).value_counts().sort_index()\n",
    "# data2_bar = evaluation_dataframe['bert_rewritten_predicted_label_3classes'].astype(int).value_counts().sort_index()\n",
    "# data3_bar = evaluation_dataframe['GptClassification_3labels'].astype(int).value_counts().sort_index()\n",
    "# data4_bar = evaluation_dataframe['GptClassification_rewritten_3labels'].astype(int).value_counts().sort_index()\n",
    "# data5_bar = evaluation_dataframe['nb_3labels_classification'].astype(int).value_counts().sort_index()\n",
    "# data6_bar = evaluation_dataframe['nb_3l_rewritten_result'].astype(int).value_counts().sort_index()\n",
    "\n",
    "# # Bar width and x locations\n",
    "# bar_width = 0.2\n",
    "# x = np.arange(len(labels))  # Base x locations for groups\n",
    "\n",
    "# # Create the figure and axes\n",
    "# fig, ax = plt.subplots(1, 4, figsize=(8, 6))\n",
    "\n",
    "# # Plot bars for each dataset\n",
    "# evaluation_dataframe['Simplf_Tone'].astype(int).value_counts().sort_index().plot(kind='bar', ax=axes[0], color='blue')\n",
    "# axes[0].set_title('Original Tone (Test Data)')\n",
    "# axes[0].tick_params(axis='x', rotation=0)  # Rotate xticks by 45 degrees\n",
    "# axes[0].set_xlabel('Tone')\n",
    "# axes[0].grid(ls='--', alpha=alpha)\n",
    "\n",
    "# ax[1].bar(x - bar_width * 1.5, data1_bar, bar_width, color='blue')  \n",
    "# ax[1].bar(x - bar_width * 0.5, data2_bar, bar_width, color='orange')\n",
    "\n",
    "# bar_width_ = 0.2\n",
    "# x_ = np.arange(len([0, 1, 2, 3]))  # Base x locations for groups\n",
    "# ax[2].bar(x_ + bar_width_ * 0.5, data3_bar, bar_width_, color='blue')  # Group 2, Set 1\n",
    "# ax[2].bar(x_ + bar_width_ * 1.5, data4_bar, bar_width_, color='orange')  # Group 2, Set 2\n",
    "\n",
    "# ax[3].bar(x + bar_width * 0.5, data5_bar, bar_width, color='blue')  # Group 2, Set 1\n",
    "# ax[3].bar(x + bar_width * 1.5, data6_bar, bar_width, color='orange')  # Group 2, Set 2\n",
    "\n",
    "\n",
    "# # Add labels, title, and legend\n",
    "# ax.set_xlabel('Tone')\n",
    "# ax.set_ylabel('Values')\n",
    "# ax.set_title('teste')\n",
    "# ax.set_xticks(x)\n",
    "# ax.set_xticklabels(labels)\n",
    "# ax.legend()\n",
    "\n",
    "# # Show the plot\n",
    "# plt.tight_layout()\n",
    "# plt.show()"
   ]
  },
  {
   "cell_type": "code",
   "execution_count": null,
   "metadata": {},
   "outputs": [],
   "source": []
  }
 ],
 "metadata": {
  "kernelspec": {
   "display_name": ".venv",
   "language": "python",
   "name": "python3"
  },
  "language_info": {
   "codemirror_mode": {
    "name": "ipython",
    "version": 3
   },
   "file_extension": ".py",
   "mimetype": "text/x-python",
   "name": "python",
   "nbconvert_exporter": "python",
   "pygments_lexer": "ipython3",
   "version": "3.12.6"
  }
 },
 "nbformat": 4,
 "nbformat_minor": 2
}
